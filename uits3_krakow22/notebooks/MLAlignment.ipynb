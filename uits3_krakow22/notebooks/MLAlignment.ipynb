{
 "cells": [
  {
   "cell_type": "code",
   "execution_count": 1,
   "id": "6a0356ae",
   "metadata": {},
   "outputs": [
    {
     "name": "stdout",
     "output_type": "stream",
     "text": [
      "Welcome to JupyROOT 6.26/10\n"
     ]
    },
    {
     "name": "stderr",
     "output_type": "stream",
     "text": [
      "2023-06-12 13:54:31.036561: I tensorflow/tsl/cuda/cudart_stub.cc:28] Could not find cuda drivers on your machine, GPU will not be used.\n",
      "2023-06-12 13:54:31.190402: I tensorflow/tsl/cuda/cudart_stub.cc:28] Could not find cuda drivers on your machine, GPU will not be used.\n",
      "2023-06-12 13:54:31.191503: I tensorflow/core/platform/cpu_feature_guard.cc:182] This TensorFlow binary is optimized to use available CPU instructions in performance-critical operations.\n",
      "To enable the following instructions: AVX2 FMA, in other operations, rebuild TensorFlow with the appropriate compiler flags.\n",
      "2023-06-12 13:54:32.715779: W tensorflow/compiler/tf2tensorrt/utils/py_utils.cc:38] TF-TRT Warning: Could not find TensorRT\n"
     ]
    },
    {
     "data": {
      "text/html": [
       "<style>.container { width:95% !important; }</style>"
      ],
      "text/plain": [
       "<IPython.core.display.HTML object>"
      ]
     },
     "metadata": {},
     "output_type": "display_data"
    },
    {
     "data": {
      "text/html": [
       "<style>table {float:left;}</style>"
      ],
      "text/plain": [
       "<IPython.core.display.HTML object>"
      ]
     },
     "metadata": {},
     "output_type": "display_data"
    }
   ],
   "source": [
    "from ipywidgets import IntProgress\n",
    "from IPython.display import display,HTML,clear_output\n",
    "import random\n",
    "import time\n",
    "import math\n",
    "import ROOT\n",
    "import numpy as np\n",
    "import matplotlib.pyplot as plt\n",
    "import ipywidgets as widgets\n",
    "from uits3_krakow22.src.Event import Event\n",
    "from uits3_krakow22.src.Cluster import Cluster\n",
    "from uits3_krakow22.src.Track import Track\n",
    "from skspatial.plotting import plot_3d\n",
    "from skspatial.objects import Points, Cylinder, Plane\n",
    "\n",
    "import tensorflow as tf\n",
    "\n",
    "display(HTML(\"<style>.container { width:95% !important; }</style>\"))\n",
    "display(HTML(\"<style>table {float:left;}</style>\"))"
   ]
  },
  {
   "cell_type": "markdown",
   "id": "6e812107",
   "metadata": {},
   "source": [
    "## Simulation\n",
    "#### Define the target"
   ]
  },
  {
   "cell_type": "code",
   "execution_count": 2,
   "id": "1c6beec0",
   "metadata": {
    "scrolled": true
   },
   "outputs": [
    {
     "name": "stdout",
     "output_type": "stream",
     "text": [
      "[[0, 0, -16.83], [0, 0, -18.562050807568877], [-0.25, 0, -18.129038105676656], [0.25, 0, -18.129038105676656], [-0.5, 0, -17.696025403784436], [0, 0, -17.696025403784436], [0.5, 0, -17.696025403784436], [-0.75, 0, -17.26301270189222], [-0.25, 0, -17.26301270189222], [0.25, 0, -17.26301270189222], [0.75, 0, -17.26301270189222]]\n"
     ]
    }
   ],
   "source": [
    "class Fiber:\n",
    "    def __init__(self,center=[0,0,0],radius=1,height=10):\n",
    "        self.center = center\n",
    "        self.radius = radius\n",
    "        self.height = height\n",
    "    \n",
    "    def getRandomPoint(self):\n",
    "        R = random.random()*self.radius\n",
    "        height = (random.random()-0.5)*self.height\n",
    "        theta = random.random()*2*math.pi\n",
    "        coordinate = [self.center[0]+R*math.cos(theta),self.center[1]+height,self.center[2]+R*math.sin(theta)]\n",
    "        return coordinate\n",
    "    \n",
    "dist = 0.5\n",
    "origin = [[0,0,0]]\n",
    "row1 = [[0,0,-2*dist*math.sqrt(3)]]\n",
    "row2 = [[-dist*0.5,0,-dist*(3*math.sqrt(3)/2)],[dist*0.5,0,-dist*(3*math.sqrt(3)/2)]]\n",
    "row3 = [[-dist,0,-dist*math.sqrt(3)],[0,0,-dist*math.sqrt(3)],[dist,0,-dist*math.sqrt(3)]]\n",
    "row4 = [[-dist*1.5,0,-dist*math.sqrt(3)/2],[-dist*0.5,0,-dist*math.sqrt(3)/2],[dist*0.5,0,-dist*math.sqrt(3)/2],[dist*1.5,0,-dist*math.sqrt(3)/2]]\n",
    "centers = origin + row1 + row2 + row3 + row4\n",
    "\n",
    "for center in centers:\n",
    "    center[2] = center[2]-16.83\n",
    "print(centers)\n",
    "\n",
    "fibers = [Fiber(center=center,height=6,radius=0.075) for center in centers]"
   ]
  },
  {
   "cell_type": "markdown",
   "id": "12282702",
   "metadata": {},
   "source": [
    "#### Create tracks and calculate clusters"
   ]
  },
  {
   "cell_type": "code",
   "execution_count": 3,
   "id": "ffb4ce47",
   "metadata": {},
   "outputs": [],
   "source": [
    "def simulateClusters(reps,displacement=None):\n",
    "    if not displacement: displacement = {\"ALPIDE_0\" : [0,0,0],\"ALPIDE_1\" : [0,0,0],\"ALPIDE_2\" : [0,0,0],\"ALPIDE_3\" : [0,0,0],\"ALPIDE_4\" : [0,0,0]}\n",
    "    \n",
    "    localPositions = []\n",
    "    \n",
    "    openingAngle = (87.08/360)*2*math.pi\n",
    "    \n",
    "    # detector geometry\n",
    "    ALPIDE_0 = Cylinder([0,0,12.5-7.5], [0,0,15], 30)\n",
    "    ALPIDE_1 = Cylinder([0,0,6.25-7.5], [0,0,15], 24)\n",
    "    ALPIDE_2 = Cylinder([0,0,0-7.5], [0,0,15], 18)\n",
    "    ALPIDE_3 = Cylinder([0,0,12.5-7.5], [0,0,15], 30)\n",
    "    ALPIDE_4 = Cylinder([0,0,0-7.5], [0,0,15], 18)\n",
    "    alpidesLeft = [ALPIDE_3,ALPIDE_4]\n",
    "    alpidesRight = [ALPIDE_0,ALPIDE_1,ALPIDE_2]\n",
    "    \n",
    "    for i in range(reps):\n",
    "        localTmp=[]\n",
    "        fiber = random.choice(fibers)\n",
    "        phi = math.pi*(0.5+(random.random()-0.5)*0.2)#*0.265258238\n",
    "        theta = math.pi/2-openingAngle/2\n",
    "        shift = (random.random()-0.5)*0.1\n",
    "        origin = fiber.getRandomPoint()\n",
    "       \n",
    "        #calculate right arm clusters\n",
    "        trackRight = Track(point=origin,vector=[-math.sin(phi)*math.cos(-theta+shift), -math.cos(phi), -math.sin(phi)*math.sin(-theta+shift)])\n",
    "        for alpide in alpidesRight:\n",
    "            if alpide is ALPIDE_0: detector = \"ALPIDE_0\"\n",
    "            elif alpide is ALPIDE_1: detector = \"ALPIDE_1\"\n",
    "            elif alpide is ALPIDE_2: detector = \"ALPIDE_2\"\n",
    "            intersection = alpide.intersect_line(trackRight.line)\n",
    "            cluster = Cluster()\n",
    "            cluster.setPositionGlobal(intersection[1])\n",
    "            cluster.alignLocal(displacement.get(detector))\n",
    "            localTmp.extend(cluster.localPos[0:2])\n",
    "        \n",
    "        #calculate left arm clusters\n",
    "        trackLeft = Track(point= origin,vector=[math.sin(phi)*math.cos(theta+shift), math.cos(phi), math.sin(phi)*math.sin(theta+shift)])\n",
    "        for alpide in alpidesLeft:\n",
    "            if alpide is ALPIDE_3: detector = \"ALPIDE_3\"\n",
    "            elif alpide is ALPIDE_4: detector = \"ALPIDE_4\"\n",
    "            intersection = alpide.intersect_line(trackLeft.line)\n",
    "            cluster = Cluster()\n",
    "            cluster.setPositionGlobal(intersection[1])\n",
    "            cluster.alignLocal(displacement.get(detector))\n",
    "            localTmp.extend(cluster.localPos[0:2])\n",
    "            \n",
    "        localPositions.append(localTmp)\n",
    "    return localPositions\n",
    "\n",
    "def dispMap2Array(displacement):\n",
    "    output=[]\n",
    "    for key in [\"ALPIDE_0\",\"ALPIDE_1\",\"ALPIDE_2\",\"ALPIDE_3\",\"ALPIDE_4\"]:\n",
    "        output.extend(displacement[key])\n",
    "    return output"
   ]
  },
  {
   "cell_type": "code",
   "execution_count": 54,
   "id": "db6d6ce5",
   "metadata": {},
   "outputs": [],
   "source": [
    "def split_train_val_indices(data_size, val_ratio=0.2, shuffle=True, random_seed=None):\n",
    "    \"\"\"\n",
    "    Randomly splits the indices into training and validation sets.\n",
    "\n",
    "    Args:\n",
    "        data_size (int): Total number of data points.\n",
    "        val_ratio (float): Ratio of validation data points (default: 0.2).\n",
    "        shuffle (bool): Whether to shuffle the indices (default: True).\n",
    "        random_seed (int): Random seed for reproducibility (default: None).\n",
    "\n",
    "    Returns:\n",
    "        train_indices (ndarray): Array of indices for the training set.\n",
    "        val_indices (ndarray): Array of indices for the validation set.\n",
    "    \"\"\"\n",
    "    # Set the random seed for reproducibility\n",
    "    if random_seed is not None:\n",
    "        np.random.seed(random_seed)\n",
    "\n",
    "    # Create an array of indices\n",
    "    indices = np.arange(data_size)\n",
    "\n",
    "    # Shuffle the indices if required\n",
    "    if shuffle:\n",
    "        np.random.shuffle(indices)\n",
    "\n",
    "    # Calculate the number of validation samples\n",
    "    val_size = int(val_ratio * data_size)\n",
    "\n",
    "    # Split the indices into training and validation sets\n",
    "    train_indices = indices[val_size:]\n",
    "    val_indices = indices[:val_size]\n",
    "\n",
    "    return train_indices, val_indices"
   ]
  },
  {
   "cell_type": "markdown",
   "id": "5fa6cb53",
   "metadata": {},
   "source": [
    "### Generate simulated data"
   ]
  },
  {
   "cell_type": "code",
   "execution_count": 108,
   "id": "cf87f748",
   "metadata": {},
   "outputs": [],
   "source": [
    "data = []\n",
    "misal = []\n",
    "for disp in np.linspace(-1, 1, num=25):\n",
    "    displacement = {\n",
    "        \"ALPIDE_0\" : [0,0,0],\n",
    "        \"ALPIDE_1\" : [disp,0,0],\n",
    "        \"ALPIDE_2\" : [0,0,0],\n",
    "        \"ALPIDE_3\" : [0,0,0],\n",
    "        \"ALPIDE_4\" : [0,0,0]\n",
    "    }\n",
    "    nReps4setting = 2000\n",
    "    data.extend(simulateClusters(nReps4setting,displacement))\n",
    "    misal.extend([dispMap2Array(displacement)]*nReps4setting)\n",
    "input_data = np.array(data)\n",
    "input_data = np.reshape(input_data, (-1, 10))\n",
    "misalignments  = np.array(misal)"
   ]
  },
  {
   "cell_type": "markdown",
   "id": "4fa928ab",
   "metadata": {},
   "source": [
    "## Machine learning with tensorflow"
   ]
  },
  {
   "cell_type": "code",
   "execution_count": 107,
   "id": "2a8f98a5",
   "metadata": {},
   "outputs": [],
   "source": [
    "def trainNetwork(input_data,misalignments,units=64,nLayers=1,nEpochs=10,batch=32):\n",
    "    data_size = len(input_data)\n",
    "\n",
    "    # Normalize the input data\n",
    "    #input_data = (input_data - np.mean(input_data, axis=0)) / np.std(input_data, axis=0)\n",
    "\n",
    "    # Split the indices into training and validation sets\n",
    "    train_indices, val_indices = split_train_val_indices(data_size, val_ratio=0.2, shuffle=True, random_seed=42)\n",
    "    train_input = input_data[train_indices]\n",
    "    train_misalignments = misalignments[train_indices]\n",
    "    val_input = input_data[val_indices]\n",
    "    val_misalignments = misalignments[val_indices]\n",
    "\n",
    "    # Reshape the input data to have at least two dimensions\n",
    "    train_input = np.reshape(train_input, (-1, 10))\n",
    "    val_input = np.reshape(val_input, (-1, 10))\n",
    "\n",
    "    # Create the sequential model\n",
    "    model = tf.keras.models.Sequential()\n",
    "    model.add(tf.keras.layers.Dense(units=units, activation='relu', input_shape=(10,)))\n",
    "    \n",
    "    for i in range(nLayers-1):\n",
    "        model.add(tf.keras.layers.Dense(units=units, activation='relu'))\n",
    "\n",
    "    # Add the output layer with the desired number of units (30 in your case)\n",
    "    model.add(tf.keras.layers.Dense(units=15))\n",
    "\n",
    "    # Compile the model\n",
    "    model.compile(optimizer='adam', loss='mse')\n",
    "\n",
    "    # Train the model\n",
    "    num_epochs = nEpochs\n",
    "    batch_size = batch\n",
    "    model.fit(x=train_input, y=train_misalignments, epochs=num_epochs, batch_size=batch_size, validation_data=(val_input, val_misalignments))\n",
    "    return model"
   ]
  },
  {
   "cell_type": "code",
   "execution_count": 111,
   "id": "e276d0e6",
   "metadata": {},
   "outputs": [],
   "source": [
    "def evalModel(model,displacement,nReps=1000):\n",
    "    data = []\n",
    "    data.extend(simulateClusters(nReps,displacement))\n",
    "    test_data = np.reshape(np.array(data), (-1, 10))\n",
    "    predictions = model.predict(test_data)\n",
    "    predicted_disp = np.mean(predictions,axis=0)\n",
    "    dist = np.linalg.norm(dispMap2Array(displacement)-predicted_disp)\n",
    "    return dist"
   ]
  },
  {
   "cell_type": "code",
   "execution_count": 112,
   "id": "80bdebf0",
   "metadata": {},
   "outputs": [
    {
     "name": "stdout",
     "output_type": "stream",
     "text": [
      "Epoch 1/10\n",
      "1250/1250 [==============================] - 1s 837us/step - loss: 0.0632 - val_loss: 0.0034\n",
      "Epoch 2/10\n",
      "1250/1250 [==============================] - 1s 791us/step - loss: 0.0016 - val_loss: 7.7024e-04\n",
      "Epoch 3/10\n",
      "1250/1250 [==============================] - 1s 791us/step - loss: 5.1446e-04 - val_loss: 3.2435e-04\n",
      "Epoch 4/10\n",
      "1250/1250 [==============================] - 1s 791us/step - loss: 2.5322e-04 - val_loss: 1.7284e-04\n",
      "Epoch 5/10\n",
      "1250/1250 [==============================] - 1s 797us/step - loss: 1.7481e-04 - val_loss: 1.6746e-04\n",
      "Epoch 6/10\n",
      "1250/1250 [==============================] - 1s 798us/step - loss: 1.5094e-04 - val_loss: 1.0386e-04\n",
      "Epoch 7/10\n",
      "1250/1250 [==============================] - 1s 783us/step - loss: 1.2695e-04 - val_loss: 6.5924e-05\n",
      "Epoch 8/10\n",
      "1250/1250 [==============================] - 1s 805us/step - loss: 1.0731e-04 - val_loss: 7.0026e-05\n",
      "Epoch 9/10\n",
      "1250/1250 [==============================] - 1s 795us/step - loss: 1.3503e-04 - val_loss: 1.8123e-04\n",
      "Epoch 10/10\n",
      "1250/1250 [==============================] - 1s 791us/step - loss: 5.4170e-05 - val_loss: 5.1886e-05\n",
      "32/32 [==============================] - 0s 607us/step\n"
     ]
    },
    {
     "data": {
      "text/plain": [
       "0.010515563089260731"
      ]
     },
     "execution_count": 112,
     "metadata": {},
     "output_type": "execute_result"
    }
   ],
   "source": [
    "disp2test = {\n",
    "        \"ALPIDE_0\" : [0,0,0],\n",
    "        \"ALPIDE_1\" : [-0.456,0,0],\n",
    "        \"ALPIDE_2\" : [0,0,0],\n",
    "        \"ALPIDE_3\" : [0,0,0],\n",
    "        \"ALPIDE_4\" : [0,0,0]\n",
    "    }\n",
    "model = trainNetwork(input_data,misalignments)\n",
    "evalModel(model,disp2test)"
   ]
  }
 ],
 "metadata": {
  "kernelspec": {
   "display_name": "Python 3 (ipykernel)",
   "language": "python",
   "name": "python3"
  },
  "language_info": {
   "codemirror_mode": {
    "name": "ipython",
    "version": 3
   },
   "file_extension": ".py",
   "mimetype": "text/x-python",
   "name": "python",
   "nbconvert_exporter": "python",
   "pygments_lexer": "ipython3",
   "version": "3.8.10"
  }
 },
 "nbformat": 4,
 "nbformat_minor": 5
}
