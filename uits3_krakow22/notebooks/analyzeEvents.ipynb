{
 "cells": [
  {
   "cell_type": "markdown",
   "id": "abde61f2",
   "metadata": {},
   "source": [
    "# Example notebook for analysing event and cluster data from Krakow Test Beam\n",
    "+ I give some example histograms with various cuts and stuff\n",
    "+ Important was to establish the procedure for getting the corryvreckan data and looping over the trees"
   ]
  },
  {
   "cell_type": "markdown",
   "id": "556bd1df",
   "metadata": {
    "toc": true
   },
   "source": [
    "<h1>Table of Contents<span class=\"tocSkip\"></span></h1>\n",
    "<div class=\"toc\"><ul class=\"toc-item\"><li><span><a href=\"#Import-libraries\" data-toc-modified-id=\"Import-libraries-1\">Import libraries</a></span></li><li><span><a href=\"#Read-root-file-and-convert-to-python\" data-toc-modified-id=\"Read-root-file-and-convert-to-python-2\">Read root file and convert to python</a></span></li><li><span><a href=\"#Analysis\" data-toc-modified-id=\"Analysis-3\">Analysis</a></span><ul class=\"toc-item\"><li><span><a href=\"#Cluster-size-(also-column-width-/-row-width-of-clusters)\" data-toc-modified-id=\"Cluster-size-(also-column-width-/-row-width-of-clusters)-3.1\">Cluster size (also column width / row width of clusters)</a></span></li><li><span><a href=\"#Number-of-clusters\" data-toc-modified-id=\"Number-of-clusters-3.2\">Number of clusters</a></span></li><li><span><a href=\"#Correlation-plots\" data-toc-modified-id=\"Correlation-plots-3.3\">Correlation plots</a></span></li></ul></li></ul></div>"
   ]
  },
  {
   "cell_type": "markdown",
   "id": "698515c7",
   "metadata": {},
   "source": [
    "## Import libraries"
   ]
  },
  {
   "cell_type": "code",
   "execution_count": 1,
   "id": "ff9f7c11",
   "metadata": {},
   "outputs": [
    {
     "name": "stdout",
     "output_type": "stream",
     "text": [
      "Welcome to JupyROOT 6.24/06\n"
     ]
    },
    {
     "data": {
      "text/html": [
       "<style>.container { width:95% !important; }</style>"
      ],
      "text/plain": [
       "<IPython.core.display.HTML object>"
      ]
     },
     "metadata": {},
     "output_type": "display_data"
    },
    {
     "data": {
      "text/html": [
       "<style>table {float:left;}</style>"
      ],
      "text/plain": [
       "<IPython.core.display.HTML object>"
      ]
     },
     "metadata": {},
     "output_type": "display_data"
    }
   ],
   "source": [
    "import numpy as np\n",
    "import matplotlib.pyplot as plt\n",
    "import ipywidgets as widgets\n",
    "import copy\n",
    "\n",
    "from ipywidgets import IntProgress\n",
    "from IPython.display import display,HTML,clear_output\n",
    "import time\n",
    "import ROOT\n",
    "from ROOT import TCanvas, TFile, TProfile, TNtuple, TH1F, TH2F, TF1, TLegend, gStyle, TF2, TCutG\n",
    "from ROOT import gROOT, gBenchmark, gRandom, gSystem\n",
    "\n",
    "ROOT.gStyle.SetLabelSize(0.09, \"X\")  # Increase X-axis label font size\n",
    "ROOT.gStyle.SetLabelSize(0.09, \"Y\")  # Increase Y-axis label font size\n",
    "ROOT.gStyle.SetLabelSize(0.09, \"Z\")  # Increase Z-axis label font size\n",
    "ROOT.gStyle.SetLabelSize(0.09, \"C\")  # Increase C-axis label font size\n",
    "\n",
    "ROOT.gStyle.SetTitleSize(0.1, \"X\")  # Increase X-axis title font size\n",
    "ROOT.gStyle.SetTitleSize(0.1, \"Y\")  # Increase Y-axis title font size\n",
    "ROOT.gStyle.SetOptTitle(1)  # Enable the title\n",
    "ROOT.gStyle.SetTitleSize(0.11, \"H\") \n",
    "\n",
    "ROOT.gStyle.SetGridStyle(3)\n",
    "#colors = [1,2,3,4,6,7,8,9]\n",
    "#colors=[ROOT.kTeal, ROOT.kAzure, ROOT.kViolet, ROOT.kPink, ROOT.kOrange, ROOT.kSpring]\n",
    "#hex_colors=['F4858', '33658A','86BBD8','F6AE2D','F26419']#Hex\n",
    "#colors=[(47, 72, 88), (51, 101, 138), (134, 187, 216), (246, 174, 45), (242, 100, 25)]#RGB\n",
    "colors = [ROOT.kBlue -1, ROOT.kAzure -2, ROOT.kCyan-6, ROOT.kOrange, ROOT.kOrange+7]\n",
    "#colors = [30,46,23,13,40] #these are more dull\n",
    "\n",
    "# Set margins\n",
    "ROOT.gStyle.SetPadLeftMargin(0.2)\n",
    "ROOT.gStyle.SetPadRightMargin(0.2)\n",
    "ROOT.gStyle.SetPadBottomMargin(0.2)\n",
    "\n",
    "# Disable statistics box\n",
    "ROOT.gStyle.SetOptStat(0)\n",
    "\n",
    "# Set ROOT font style\n",
    "ROOT.gStyle.SetLabelFont(132, \"XYZ\")  # Set font to Palatino for axis labels\n",
    "ROOT.gStyle.SetTitleFont(132, \"XYZ\")  # Set font to Palatino for axis titles\n",
    "ROOT.gStyle.SetTitleFont(132, \"H\")  # Set font to Palatino for axis titles\n",
    "ROOT.gStyle.SetTextFont(132) \n",
    "\n",
    "\n",
    "\n",
    "from uits3_krakow22.src.Event import Event\n",
    "from uits3_krakow22.src.Cluster import Cluster\n",
    "from uits3_krakow22.src.Track import Track\n",
    "from uits3_krakow22.src.Utils import *\n",
    "\n",
    "\n",
    "display(HTML(\"<style>.container { width:95% !important; }</style>\"))\n",
    "display(HTML(\"<style>table {float:left;}</style>\"))"
   ]
  },
  {
   "cell_type": "markdown",
   "id": "a9c21744",
   "metadata": {},
   "source": [
    "## Read root file and convert to python\n",
    "+ Converting to python classes is actually not needed in this example and we could very well just take the corryvreckan cluster objects for filling histograms\n",
    "+ However in the long run we will probably need to add our own stuff to clusters so I already do the conversion here"
   ]
  },
  {
   "cell_type": "code",
   "execution_count": 2,
   "id": "4f3c90b7",
   "metadata": {},
   "outputs": [
    {
     "data": {
      "application/vnd.jupyter.widget-view+json": {
       "model_id": "c5ec7847df994af282c80ab2b76360fc",
       "version_major": 2,
       "version_minor": 0
      },
      "text/plain": [
       "IntProgress(value=0, description='Converting:', max=30000)"
      ]
     },
     "metadata": {},
     "output_type": "display_data"
    }
   ],
   "source": [
    "filePath = \"/home/cehrich/Software/uits3_krakow22/corry-tools/output/exampleData_clusters.root\"\n",
    "file = ROOT.TFile.Open(filePath)\n",
    "tEvents = file.Get(\"Event\")\n",
    "tClusters = file.Get(\"Cluster\")\n",
    "\n",
    "#tClusters.GetListOfBranches().ls() # list detectors\n",
    "detectors = [\"ALPIDE_0\",\"ALPIDE_1\",\"ALPIDE_2\",\"ALPIDE_3\",\"ALPIDE_4\"]\n",
    "\n",
    "events = []\n",
    "\n",
    "nEvents = tClusters.GetEntriesFast() # to read full file\n",
    "#nEvents = 1000\n",
    "\n",
    "#progress bar\n",
    "f = IntProgress(min=0, max=nEvents, description=\"Converting:\")\n",
    "display(f)\n",
    "\n",
    "for index,event in enumerate(tClusters):\n",
    "    if index > nEvents : break #to limit the number of events to be processed\n",
    "    myEvent = Event()\n",
    "    for detector in detectors:\n",
    "        branch = getattr(event, detector)\n",
    "        for cluster in branch:\n",
    "            myClus = Cluster()\n",
    "            myClus.setData(cluster)\n",
    "            myEvent.addCluster(myClus)\n",
    "    events.append(myEvent)\n",
    "    f.value += 1\n",
    "    \n",
    "f.bar_style = \"success\""
   ]
  },
  {
   "cell_type": "code",
   "execution_count": null,
   "id": "7ae08730",
   "metadata": {
    "scrolled": true
   },
   "outputs": [],
   "source": [
    "filePath = \"/home/cehrich/Software/uits3_krakow22/corry-tools/output/exampleData_clusters.root\"\n",
    "file = ROOT.TFile.Open(filePath)\n",
    "tEvents = file.Get(\"Event\")\n",
    "tClusters = file.Get(\"Cluster\")\n",
    "\n",
    "detectors = [\"ALPIDE_0\",\"ALPIDE_1\",\"ALPIDE_2\",\"ALPIDE_3\",\"ALPIDE_4\"]\n",
    "\n",
    "events = []\n",
    "\n",
    "nEvents = tClusters.GetEntriesFast()\n",
    "\n",
    "for index,event in enumerate(tClusters):\n",
    "    for detector in detectors:\n",
    "        branch = getattr(event, detector)\n",
    "        for cluster in branch:\n",
    "            print(cluster.local)"
   ]
  },
  {
   "cell_type": "code",
   "execution_count": 152,
   "id": "fb090572",
   "metadata": {},
   "outputs": [
    {
     "data": {
      "text/plain": [
       "100000"
      ]
     },
     "execution_count": 152,
     "metadata": {},
     "output_type": "execute_result"
    }
   ],
   "source": [
    "import pickle\n",
    "detectors = [\"ALPIDE_0\",\"ALPIDE_1\",\"ALPIDE_2\",\"ALPIDE_3\",\"ALPIDE_4\"]\n",
    "with open(\"/home/cehrich/Software/uits3_krakow22/noFlipNeeded/run456114514_221112120005.pkl\", 'rb') as f:\n",
    "    events = pickle.load(f)\n",
    "    \n",
    "len(events)"
   ]
  },
  {
   "cell_type": "markdown",
   "id": "f4281a0e",
   "metadata": {},
   "source": [
    "## Analysis"
   ]
  },
  {
   "cell_type": "markdown",
   "id": "b39ac4f6",
   "metadata": {},
   "source": [
    "### Cluster size (also column width / row width of clusters)\n",
    "+ Since we observe that the inner layers have much more hits, we know they must be from delta electrons or from the beam etc.\n",
    "+ In order to get rid of them, one idea would be to apply cuts on cluster size as the wanted proton hits should lead to larger clusters"
   ]
  },
  {
   "cell_type": "code",
   "execution_count": 160,
   "id": "c162177c",
   "metadata": {},
   "outputs": [
    {
     "name": "stderr",
     "output_type": "stream",
     "text": [
      "Warning in <TROOT::Append>: Replacing existing TH1: Cluster_Size_ALPIDE_0 (Potential memory leak).\n",
      "Warning in <TROOT::Append>: Replacing existing TH1: Cluster_Size_ALPIDE_1 (Potential memory leak).\n",
      "Warning in <TROOT::Append>: Replacing existing TH1: Cluster_Size_ALPIDE_2 (Potential memory leak).\n",
      "Warning in <TROOT::Append>: Replacing existing TH1: Cluster_Size_ALPIDE_3 (Potential memory leak).\n",
      "Warning in <TROOT::Append>: Replacing existing TH1: Cluster_Size_ALPIDE_4 (Potential memory leak).\n"
     ]
    },
    {
     "data": {
      "text/html": [
       "\n",
       "\n",
       "<div id=\"root_plot_1699373360172\"\n",
       "     style=\"width: 696px; height: 472px\">\n",
       "</div>\n",
       "<script>\n",
       "\n",
       "function display_root_plot_1699373360172(Core) {\n",
       "   let obj = Core.parse({\"_typename\":\"TCanvas\",\"fUniqueID\":0,\"fBits\":3342344,\"fLineColor\":1,\"fLineStyle\":1,\"fLineWidth\":1,\"fFillColor\":0,\"fFillStyle\":1001,\"fLeftMargin\":0.3,\"fRightMargin\":0.2,\"fBottomMargin\":0.2,\"fTopMargin\":0.19,\"fXfile\":2,\"fYfile\":2,\"fAfile\":1,\"fXstat\":0.99,\"fYstat\":0.99,\"fAstat\":2,\"fFrameFillColor\":0,\"fFrameLineColor\":1,\"fFrameFillStyle\":1001,\"fFrameLineStyle\":1,\"fFrameLineWidth\":1,\"fFrameBorderSize\":1,\"fFrameBorderMode\":0,\"fX1\":-60.0000023841858,\"fY1\":-0.0655737699311576,\"fX2\":140.000000596046,\"fY2\":0.26229507972463,\"fXtoAbsPixelk\":208.800055185604,\"fXtoPixelk\":208.800055185604,\"fXtoPixel\":3.47999994814396,\"fYtoAbsPixelk\":377.60005,\"fYtoPixelk\":377.60005,\"fYtoPixel\":-1439.60001230836,\"fUtoAbsPixelk\":5e-5,\"fUtoPixelk\":5e-5,\"fUtoPixel\":696,\"fVtoAbsPixelk\":472.00005,\"fVtoPixelk\":472,\"fVtoPixel\":-472,\"fAbsPixeltoXk\":-60.0000023841858,\"fPixeltoXk\":-60.0000023841858,\"fPixeltoX\":0.287356326121023,\"fAbsPixeltoYk\":0.26229507972463,\"fPixeltoYk\":-0.0655737699311576,\"fPixeltoY\":-6.94637393338534e-4,\"fXlowNDC\":0,\"fYlowNDC\":0,\"fXUpNDC\":1,\"fYUpNDC\":1,\"fWNDC\":1,\"fHNDC\":1,\"fAbsXlowNDC\":0,\"fAbsYlowNDC\":0,\"fAbsWNDC\":1,\"fAbsHNDC\":1,\"fUxmin\":0,\"fUymin\":0,\"fUxmax\":100,\"fUymax\":0.2,\"fTheta\":30,\"fPhi\":30,\"fAspectRatio\":0,\"fNumber\":0,\"fTickx\":0,\"fTicky\":0,\"fLogx\":0,\"fLogy\":0,\"fLogz\":0,\"fPadPaint\":0,\"fCrosshair\":0,\"fCrosshairPos\":0,\"fBorderSize\":2,\"fBorderMode\":0,\"fModified\":false,\"fGridx\":false,\"fGridy\":false,\"fAbsCoord\":false,\"fEditable\":true,\"fFixedAspectRatio\":false,\"fPrimitives\":{\"_typename\":\"TList\",\"name\":\"TList\",\"arr\":[{\"_typename\":\"TFrame\",\"fUniqueID\":0,\"fBits\":8,\"fLineColor\":1,\"fLineStyle\":1,\"fLineWidth\":1,\"fFillColor\":0,\"fFillStyle\":1001,\"fX1\":0,\"fY1\":0,\"fX2\":100,\"fY2\":0.2,\"fBorderSize\":1,\"fBorderMode\":0},{\"_typename\":\"TH1F\",\"fUniqueID\":0,\"fBits\":520,\"fName\":\"Cluster_Size_ALPIDE_0\",\"fTitle\":\"Size of Clusters - ALPIDE 0\",\"fLineColor\":599,\"fLineStyle\":1,\"fLineWidth\":2,\"fFillColor\":0,\"fFillStyle\":1001,\"fMarkerColor\":1,\"fMarkerStyle\":1,\"fMarkerSize\":1,\"fNcells\":102,\"fXaxis\":{\"_typename\":\"TAxis\",\"fUniqueID\":0,\"fBits\":0,\"fName\":\"xaxis\",\"fTitle\":\"Cluster Size [px]\",\"fNdivisions\":510,\"fAxisColor\":1,\"fLabelColor\":1,\"fLabelFont\":132,\"fLabelOffset\":0.005,\"fLabelSize\":0.09,\"fTickLength\":0.03,\"fTitleOffset\":1,\"fTitleSize\":0.1,\"fTitleColor\":1,\"fTitleFont\":132,\"fNbins\":100,\"fXmin\":0,\"fXmax\":100,\"fXbins\":[],\"fFirst\":0,\"fLast\":0,\"fBits2\":0,\"fTimeDisplay\":false,\"fTimeFormat\":\"\",\"fLabels\":null,\"fModLabs\":null},\"fYaxis\":{\"_typename\":\"TAxis\",\"fUniqueID\":0,\"fBits\":0,\"fName\":\"yaxis\",\"fTitle\":\"Normalized Counts\",\"fNdivisions\":505,\"fAxisColor\":1,\"fLabelColor\":1,\"fLabelFont\":132,\"fLabelOffset\":0.005,\"fLabelSize\":0.09,\"fTickLength\":0.03,\"fTitleOffset\":0,\"fTitleSize\":0.1,\"fTitleColor\":1,\"fTitleFont\":132,\"fNbins\":1,\"fXmin\":0,\"fXmax\":1,\"fXbins\":[],\"fFirst\":0,\"fLast\":0,\"fBits2\":0,\"fTimeDisplay\":false,\"fTimeFormat\":\"\",\"fLabels\":null,\"fModLabs\":null},\"fZaxis\":{\"_typename\":\"TAxis\",\"fUniqueID\":0,\"fBits\":0,\"fName\":\"zaxis\",\"fTitle\":\"\",\"fNdivisions\":510,\"fAxisColor\":1,\"fLabelColor\":1,\"fLabelFont\":132,\"fLabelOffset\":0.005,\"fLabelSize\":0.09,\"fTickLength\":0.03,\"fTitleOffset\":1,\"fTitleSize\":0.035,\"fTitleColor\":1,\"fTitleFont\":132,\"fNbins\":1,\"fXmin\":0,\"fXmax\":1,\"fXbins\":[],\"fFirst\":0,\"fLast\":0,\"fBits2\":0,\"fTimeDisplay\":false,\"fTimeFormat\":\"\",\"fLabels\":null,\"fModLabs\":null},\"fBarOffset\":0,\"fBarWidth\":1000,\"fEntries\":31541,\"fTsumw\":1,\"fTsumw2\":3.17057704502219e-5,\"fTsumwx\":13.8884590995561,\"fTsumwx2\":209.372669625872,\"fMaximum\":0.2,\"fMinimum\":-1111,\"fNormFactor\":0,\"fContour\":[],\"fSumw2\":[0,0,6.865897659322e-7,1.39730567298061e-7,9.95203321043745e-8,1.24651729100429e-7,5.12680498719505e-8,5.83048410308457e-8,7.8409958627689e-8,2.40256155282278e-7,8.01188936234207e-7,2.06881660071518e-6,2.26082047376503e-6,3.80690401696229e-6,3.8048935052026e-6,4.37889461259248e-6,2.71318561969401e-6,3.8501300197955e-6,2.39854052930341e-6,1.56417814903441e-6,8.43409683187578e-7,5.98127248506089e-7,4.4532835477008e-7,2.46287690561331e-7,1.21635961460902e-7,7.03679115889517e-8,4.8252282232424e-8,3.21681881549493e-8,2.01051175968433e-8,2.71419087557385e-8,1.60840940774747e-8,1.50788381976325e-8,1.90998617170012e-8,8.04204703873733e-9,1.60840940774747e-8,1.2063070558106e-8,2.01051175968433e-9,7.03679115889517e-9,6.031535279053e-9,8.04204703873733e-9,1.00525587984217e-9,2.01051175968433e-9,3.0157676395265e-9,1.00525587984217e-9,2.01051175968433e-9,0,0,0,0,1.00525587984217e-9,0,0,1.00525587984217e-9,0,0,0,0,0,1.00525587984217e-9,0,0,0,0,1.00525587984217e-9,0,1.00525587984217e-9,0,0,0,0,0,0,0,0,1.00525587984217e-9,0,0,0,0,0,0,0,0,0,0,0,0,1.00525587984217e-9,0,1.00525587984217e-9,0,0,0,0,0,0,0,0,0,0,0,1.00525587984217e-9],\"fOption\":\"\",\"fFunctions\":{\"_typename\":\"TList\",\"name\":\"TList\",\"arr\":[],\"opt\":[]},\"fBufferSize\":0,\"fBuffer\":[],\"fBinStatErrOpt\":0,\"fStatOverflows\":2,\"fArray\":[0,0,0.02165504,0.004407102,0.003138871,0.003931515,0.001616994,0.001838935,0.00247305,0.007577679,0.0252695,0.06525048,0.07130628,0.1200697,0.1200063,0.1381103,0.08557387,0.1214331,0.07564997,0.04933418,0.02660114,0.01886493,0.01404566,0.007767914,0.003836398,0.002219404,0.001521877,0.001014585,6.341154e-4,8.560558e-4,5.072923e-4,4.755866e-4,6.024097e-4,2.536462e-4,5.072923e-4,3.804693e-4,6.341154e-5,2.219404e-4,1.902346e-4,2.536462e-4,3.170577e-5,6.341154e-5,9.511731e-5,3.170577e-5,6.341154e-5,0,0,0,0,3.170577e-5,0,0,3.170577e-5,0,0,0,0,0,3.170577e-5,0,0,0,0,3.170577e-5,0,3.170577e-5,0,0,0,0,0,0,0,0,3.170577e-5,0,0,0,0,0,0,0,0,0,0,0,0,3.170577e-5,0,3.170577e-5,0,0,0,0,0,0,0,0,0,0,0,3.170577e-5]},{\"_typename\":\"TH1F\",\"fUniqueID\":0,\"fBits\":520,\"fName\":\"Cluster_Size_ALPIDE_1\",\"fTitle\":\"Size of Clusters - ALPIDE 1\",\"fLineColor\":858,\"fLineStyle\":1,\"fLineWidth\":2,\"fFillColor\":0,\"fFillStyle\":1001,\"fMarkerColor\":1,\"fMarkerStyle\":1,\"fMarkerSize\":1,\"fNcells\":102,\"fXaxis\":{\"_typename\":\"TAxis\",\"fUniqueID\":0,\"fBits\":0,\"fName\":\"xaxis\",\"fTitle\":\"Cluster Size [px]\",\"fNdivisions\":510,\"fAxisColor\":1,\"fLabelColor\":1,\"fLabelFont\":132,\"fLabelOffset\":0.005,\"fLabelSize\":0.09,\"fTickLength\":0.03,\"fTitleOffset\":1,\"fTitleSize\":0.1,\"fTitleColor\":1,\"fTitleFont\":132,\"fNbins\":100,\"fXmin\":0,\"fXmax\":100,\"fXbins\":[],\"fFirst\":0,\"fLast\":0,\"fBits2\":0,\"fTimeDisplay\":false,\"fTimeFormat\":\"\",\"fLabels\":null,\"fModLabs\":null},\"fYaxis\":{\"_typename\":\"TAxis\",\"fUniqueID\":0,\"fBits\":0,\"fName\":\"yaxis\",\"fTitle\":\"Normalized Counts\",\"fNdivisions\":505,\"fAxisColor\":1,\"fLabelColor\":1,\"fLabelFont\":132,\"fLabelOffset\":0.005,\"fLabelSize\":0.09,\"fTickLength\":0.03,\"fTitleOffset\":0,\"fTitleSize\":0.1,\"fTitleColor\":1,\"fTitleFont\":132,\"fNbins\":1,\"fXmin\":0,\"fXmax\":1,\"fXbins\":[],\"fFirst\":0,\"fLast\":0,\"fBits2\":0,\"fTimeDisplay\":false,\"fTimeFormat\":\"\",\"fLabels\":null,\"fModLabs\":null},\"fZaxis\":{\"_typename\":\"TAxis\",\"fUniqueID\":0,\"fBits\":0,\"fName\":\"zaxis\",\"fTitle\":\"\",\"fNdivisions\":510,\"fAxisColor\":1,\"fLabelColor\":1,\"fLabelFont\":132,\"fLabelOffset\":0.005,\"fLabelSize\":0.09,\"fTickLength\":0.03,\"fTitleOffset\":1,\"fTitleSize\":0.035,\"fTitleColor\":1,\"fTitleFont\":132,\"fNbins\":1,\"fXmin\":0,\"fXmax\":1,\"fXbins\":[],\"fFirst\":0,\"fLast\":0,\"fBits2\":0,\"fTimeDisplay\":false,\"fTimeFormat\":\"\",\"fLabels\":null,\"fModLabs\":null},\"fBarOffset\":0,\"fBarWidth\":1000,\"fEntries\":33513,\"fTsumw\":1,\"fTsumw2\":2.98409477485005e-5,\"fTsumwx\":13.8791143206708,\"fTsumwx2\":213.109695323923,\"fMaximum\":0.2,\"fMinimum\":-1111,\"fNormFactor\":0,\"fContour\":[],\"fSumw2\":[0,0,7.29304891111035e-7,1.84329807643448e-7,1.45148592492184e-7,2.04810897381609e-7,7.21290551648277e-8,1.04186413015862e-7,1.16653163291265e-7,2.20839576307127e-7,7.42662123548966e-7,1.88336977374828e-6,2.10599031438046e-6,3.48890911278759e-6,3.43013729006069e-6,3.97422189136575e-6,2.52451693076897e-6,3.56192865011495e-6,2.2342197457846e-6,1.43278579950874e-6,8.25476964664139e-7,5.94842084569196e-7,4.68393617490116e-7,2.21730058469655e-7,1.4069618167954e-7,9.17196627404599e-8,6.32242335395403e-8,5.34289297517242e-8,3.47288043386207e-8,9.7953037878161e-9,1.95906075756322e-8,1.95906075756322e-8,1.78096432505747e-8,1.60286789255173e-8,1.24667502754023e-8,1.24667502754023e-8,7.12385730022989e-9,4.45241081264368e-9,7.12385730022989e-9,6.23337513770116e-9,7.12385730022989e-9,3.56192865011495e-9,8.90482162528737e-10,2.67144648758621e-9,3.56192865011495e-9,3.56192865011495e-9,1.78096432505747e-9,8.90482162528737e-10,2.67144648758621e-9,2.67144648758621e-9,2.67144648758621e-9,2.67144648758621e-9,6.23337513770116e-9,0,0,1.78096432505747e-9,8.90482162528737e-10,8.90482162528737e-10,1.78096432505747e-9,8.90482162528737e-10,1.78096432505747e-9,8.90482162528737e-10,8.90482162528737e-10,0,8.90482162528737e-10,0,0,0,8.90482162528737e-10,8.90482162528737e-10,0,0,0,0,0,0,0,0,8.90482162528737e-10,0,0,8.90482162528737e-10,0,0,0,0,0,8.90482162528737e-10,0,0,0,8.90482162528737e-10,0,8.90482162528737e-10,0,0,0,0,0,0,0,1.78096432505747e-9],\"fOption\":\"\",\"fFunctions\":{\"_typename\":\"TList\",\"name\":\"TList\",\"arr\":[],\"opt\":[]},\"fBufferSize\":0,\"fBuffer\":[],\"fBinStatErrOpt\":0,\"fStatOverflows\":2,\"fArray\":[0,0,0.02443974,0.006177076,0.004864074,0.006863418,0.002417117,0.003491391,0.003909164,0.007400555,0.02488735,0.06311361,0.07057384,0.1169168,0.1149473,0.1331802,0.08459909,0.1193638,0.07487094,0.04801409,0.02766256,0.01993375,0.01569634,0.007430396,0.00471487,0.003073618,0.002118707,0.001790457,0.001163797,3.282504e-4,6.565009e-4,6.565009e-4,5.96819e-4,5.37137e-4,4.177733e-4,4.177733e-4,2.387276e-4,1.492047e-4,2.387276e-4,2.088866e-4,2.387276e-4,1.193638e-4,2.984095e-5,8.952284e-5,1.193638e-4,1.193638e-4,5.96819e-5,2.984095e-5,8.952284e-5,8.952284e-5,8.952284e-5,8.952284e-5,2.088866e-4,0,0,5.96819e-5,2.984095e-5,2.984095e-5,5.96819e-5,2.984095e-5,5.96819e-5,2.984095e-5,2.984095e-5,0,2.984095e-5,0,0,0,2.984095e-5,2.984095e-5,0,0,0,0,0,0,0,0,2.984095e-5,0,0,2.984095e-5,0,0,0,0,0,2.984095e-5,0,0,0,2.984095e-5,0,2.984095e-5,0,0,0,0,0,0,0,5.96819e-5]},{\"_typename\":\"TH1F\",\"fUniqueID\":0,\"fBits\":520,\"fName\":\"Cluster_Size_ALPIDE_2\",\"fTitle\":\"Size of Clusters - ALPIDE 2\",\"fLineColor\":426,\"fLineStyle\":1,\"fLineWidth\":2,\"fFillColor\":0,\"fFillStyle\":1001,\"fMarkerColor\":1,\"fMarkerStyle\":1,\"fMarkerSize\":1,\"fNcells\":102,\"fXaxis\":{\"_typename\":\"TAxis\",\"fUniqueID\":0,\"fBits\":0,\"fName\":\"xaxis\",\"fTitle\":\"Cluster Size [px]\",\"fNdivisions\":510,\"fAxisColor\":1,\"fLabelColor\":1,\"fLabelFont\":132,\"fLabelOffset\":0.005,\"fLabelSize\":0.09,\"fTickLength\":0.03,\"fTitleOffset\":1,\"fTitleSize\":0.1,\"fTitleColor\":1,\"fTitleFont\":132,\"fNbins\":100,\"fXmin\":0,\"fXmax\":100,\"fXbins\":[],\"fFirst\":0,\"fLast\":0,\"fBits2\":0,\"fTimeDisplay\":false,\"fTimeFormat\":\"\",\"fLabels\":null,\"fModLabs\":null},\"fYaxis\":{\"_typename\":\"TAxis\",\"fUniqueID\":0,\"fBits\":0,\"fName\":\"yaxis\",\"fTitle\":\"Normalized Counts\",\"fNdivisions\":505,\"fAxisColor\":1,\"fLabelColor\":1,\"fLabelFont\":132,\"fLabelOffset\":0.005,\"fLabelSize\":0.09,\"fTickLength\":0.03,\"fTitleOffset\":0,\"fTitleSize\":0.1,\"fTitleColor\":1,\"fTitleFont\":132,\"fNbins\":1,\"fXmin\":0,\"fXmax\":1,\"fXbins\":[],\"fFirst\":0,\"fLast\":0,\"fBits2\":0,\"fTimeDisplay\":false,\"fTimeFormat\":\"\",\"fLabels\":null,\"fModLabs\":null},\"fZaxis\":{\"_typename\":\"TAxis\",\"fUniqueID\":0,\"fBits\":0,\"fName\":\"zaxis\",\"fTitle\":\"\",\"fNdivisions\":510,\"fAxisColor\":1,\"fLabelColor\":1,\"fLabelFont\":132,\"fLabelOffset\":0.005,\"fLabelSize\":0.09,\"fTickLength\":0.03,\"fTitleOffset\":1,\"fTitleSize\":0.035,\"fTitleColor\":1,\"fTitleFont\":132,\"fNbins\":1,\"fXmin\":0,\"fXmax\":1,\"fXbins\":[],\"fFirst\":0,\"fLast\":0,\"fBits2\":0,\"fTimeDisplay\":false,\"fTimeFormat\":\"\",\"fLabels\":null,\"fModLabs\":null},\"fBarOffset\":0,\"fBarWidth\":1000,\"fEntries\":63370,\"fTsumw\":1,\"fTsumw2\":1.58624409124076e-5,\"fTsumwx\":11.2344151518036,\"fTsumwx2\":179.698074299673,\"fMaximum\":0.2,\"fMinimum\":-1111,\"fNormFactor\":0,\"fContour\":[],\"fSumw2\":[0,0,1.25254958380072e-6,6.76346581208585e-7,3.89503165071016e-7,6.94463007490958e-7,2.84075628788874e-7,4.15168102304377e-7,4.87633807433869e-7,4.98704956828652e-7,7.36986285848194e-7,1.08874689616427e-6,1.00445519054489e-6,1.45862393276271e-6,1.39446158967931e-6,1.37886133371393e-6,8.40904119940139e-7,1.14234132391629e-6,6.76598198240285e-7,4.37310401093944e-7,2.56649372333615e-7,1.85693369394321e-7,1.45937878385781e-7,7.64915776366853e-8,4.9316938213126e-8,3.67360866281449e-8,2.39036180114641e-8,2.31487669163653e-8,1.40905537751789e-8,1.30840856483804e-8,1.23292345532815e-8,1.15743834581826e-8,1.00646812679849e-8,9.56144720458566e-9,6.29042579249056e-9,8.30336204608754e-9,5.03234063399245e-9,3.77425547549434e-9,4.02587250719396e-9,5.03234063399245e-9,2.76778734869585e-9,2.51617031699623e-9,3.77425547549434e-9,3.27102141209509e-9,3.52263844379472e-9,2.2645532852966e-9,3.01940438039547e-9,2.76778734869585e-9,1.00646812679849e-9,1.50970219019774e-9,2.51617031699623e-9,1.50970219019774e-9,2.2645532852966e-9,1.00646812679849e-9,1.50970219019774e-9,1.00646812679849e-9,7.54851095098868e-10,2.51617031699623e-9,1.50970219019774e-9,1.76131922189736e-9,2.01293625359698e-9,1.76131922189736e-9,1.50970219019774e-9,1.25808515849811e-9,1.00646812679849e-9,2.51617031699623e-10,2.51617031699623e-9,2.51617031699623e-9,1.25808515849811e-9,7.54851095098868e-10,1.50970219019774e-9,1.25808515849811e-9,7.54851095098868e-10,1.50970219019774e-9,1.76131922189736e-9,1.50970219019774e-9,7.54851095098868e-10,1.50970219019774e-9,2.2645532852966e-9,2.01293625359698e-9,1.25808515849811e-9,2.01293625359698e-9,1.25808515849811e-9,1.76131922189736e-9,1.50970219019774e-9,1.50970219019774e-9,2.01293625359698e-9,1.50970219019774e-9,1.00646812679849e-9,2.76778734869585e-9,1.50970219019774e-9,1.25808515849811e-9,1.25808515849811e-9,2.01293625359698e-9,7.54851095098868e-10,1.25808515849811e-9,7.54851095098868e-10,1.76131922189736e-9,1.50970219019774e-9,1.50970219019774e-9,1.00646812679849e-9,8.25303863974762e-8],\"fOption\":\"\",\"fFunctions\":{\"_typename\":\"TList\",\"name\":\"TList\",\"arr\":[],\"opt\":[]},\"fBufferSize\":0,\"fBuffer\":[],\"fBinStatErrOpt\":0,\"fStatOverflows\":2,\"fArray\":[0,0,0.07896323,0.04263824,0.02455506,0.04378034,0.0179087,0.02617303,0.03074141,0.03143936,0.04646109,0.06863678,0.06332286,0.09195457,0.08790965,0.08692618,0.05301228,0.07201548,0.0426541,0.02756892,0.01617969,0.01170648,0.009200215,0.004822182,0.003109038,0.002315916,0.001506932,0.001459345,8.882967e-4,8.248469e-4,7.772596e-4,7.296723e-4,6.344976e-4,6.027728e-4,3.96561e-4,5.234606e-4,3.172488e-4,2.379366e-4,2.537991e-4,3.172488e-4,1.744868e-4,1.586244e-4,2.379366e-4,2.062117e-4,2.220742e-4,1.42762e-4,1.903493e-4,1.744868e-4,6.344976e-5,9.517465e-5,1.586244e-4,9.517465e-5,1.42762e-4,6.344976e-5,9.517465e-5,6.344976e-5,4.758732e-5,1.586244e-4,9.517465e-5,1.110371e-4,1.268995e-4,1.110371e-4,9.517465e-5,7.93122e-5,6.344976e-5,1.586244e-5,1.586244e-4,1.586244e-4,7.93122e-5,4.758732e-5,9.517465e-5,7.93122e-5,4.758732e-5,9.517465e-5,1.110371e-4,9.517465e-5,4.758732e-5,9.517465e-5,1.42762e-4,1.268995e-4,7.93122e-5,1.268995e-4,7.93122e-5,1.110371e-4,9.517465e-5,9.517465e-5,1.268995e-4,9.517465e-5,6.344976e-5,1.744868e-4,9.517465e-5,7.93122e-5,7.93122e-5,1.268995e-4,4.758732e-5,7.93122e-5,4.758732e-5,1.110371e-4,9.517465e-5,9.517465e-5,6.344976e-5,0.005202881]},{\"_typename\":\"TH1F\",\"fUniqueID\":0,\"fBits\":520,\"fName\":\"Cluster_Size_ALPIDE_3\",\"fTitle\":\"Size of Clusters - ALPIDE 3\",\"fLineColor\":800,\"fLineStyle\":1,\"fLineWidth\":2,\"fFillColor\":0,\"fFillStyle\":1001,\"fMarkerColor\":1,\"fMarkerStyle\":1,\"fMarkerSize\":1,\"fNcells\":102,\"fXaxis\":{\"_typename\":\"TAxis\",\"fUniqueID\":0,\"fBits\":0,\"fName\":\"xaxis\",\"fTitle\":\"Cluster Size [px]\",\"fNdivisions\":510,\"fAxisColor\":1,\"fLabelColor\":1,\"fLabelFont\":132,\"fLabelOffset\":0.005,\"fLabelSize\":0.09,\"fTickLength\":0.03,\"fTitleOffset\":1,\"fTitleSize\":0.1,\"fTitleColor\":1,\"fTitleFont\":132,\"fNbins\":100,\"fXmin\":0,\"fXmax\":100,\"fXbins\":[],\"fFirst\":0,\"fLast\":0,\"fBits2\":0,\"fTimeDisplay\":false,\"fTimeFormat\":\"\",\"fLabels\":null,\"fModLabs\":null},\"fYaxis\":{\"_typename\":\"TAxis\",\"fUniqueID\":0,\"fBits\":0,\"fName\":\"yaxis\",\"fTitle\":\"Normalized Counts\",\"fNdivisions\":505,\"fAxisColor\":1,\"fLabelColor\":1,\"fLabelFont\":132,\"fLabelOffset\":0.005,\"fLabelSize\":0.09,\"fTickLength\":0.03,\"fTitleOffset\":0,\"fTitleSize\":0.1,\"fTitleColor\":1,\"fTitleFont\":132,\"fNbins\":1,\"fXmin\":0,\"fXmax\":1,\"fXbins\":[],\"fFirst\":0,\"fLast\":0,\"fBits2\":0,\"fTimeDisplay\":false,\"fTimeFormat\":\"\",\"fLabels\":null,\"fModLabs\":null},\"fZaxis\":{\"_typename\":\"TAxis\",\"fUniqueID\":0,\"fBits\":0,\"fName\":\"zaxis\",\"fTitle\":\"\",\"fNdivisions\":510,\"fAxisColor\":1,\"fLabelColor\":1,\"fLabelFont\":132,\"fLabelOffset\":0.005,\"fLabelSize\":0.09,\"fTickLength\":0.03,\"fTitleOffset\":1,\"fTitleSize\":0.035,\"fTitleColor\":1,\"fTitleFont\":132,\"fNbins\":1,\"fXmin\":0,\"fXmax\":1,\"fXbins\":[],\"fFirst\":0,\"fLast\":0,\"fBits2\":0,\"fTimeDisplay\":false,\"fTimeFormat\":\"\",\"fLabels\":null,\"fModLabs\":null},\"fBarOffset\":0,\"fBarWidth\":1000,\"fEntries\":73463,\"fTsumw\":1,\"fTsumw2\":1.36598959115932e-5,\"fTsumwx\":10.7785594273772,\"fTsumwx2\":174.196183425082,\"fMaximum\":0.2,\"fMinimum\":-1111,\"fNormFactor\":0,\"fContour\":[],\"fSumw2\":[0,0,8.89860854868903e-7,5.90752666495061e-7,3.30828956947487e-7,5.95790670915581e-7,2.6178963711073e-7,4.02480575372662e-7,4.66668483545214e-7,5.72093390863505e-7,8.84449664935751e-7,1.40336412024932e-6,1.22927307860691e-6,1.53360586415758e-6,1.17796007062013e-6,9.09079908769405e-7,5.6892131400614e-7,7.18568704571219e-7,3.52473716680092e-7,2.05625217459746e-7,1.1344839583986e-7,8.73254099556818e-8,5.39253065751967e-8,3.73185512631119e-8,2.35106872957605e-8,2.05252031947115e-8,1.54871987741914e-8,1.3994456723667e-8,1.23151219168269e-8,1.04491943536713e-8,6.34415371472902e-9,5.78437544578234e-9,5.41118993315122e-9,6.71733922736014e-9,4.66481890788898e-9,4.47822615157342e-9,3.17207685736451e-9,3.54526236999563e-9,1.49274205052447e-9,2.23911307578671e-9,2.42570583210227e-9,2.42570583210227e-9,2.05252031947115e-9,2.61229858841783e-9,1.49274205052447e-9,3.35866961368007e-9,2.98548410104895e-9,2.42570583210227e-9,2.98548410104895e-9,1.67933480684003e-9,1.49274205052447e-9,1.67933480684003e-9,4.10504063894231e-9,2.79889134473339e-9,2.42570583210227e-9,3.73185512631119e-9,2.23911307578671e-9,2.61229858841783e-9,2.23911307578671e-9,2.79889134473339e-9,1.86592756315559e-9,2.61229858841783e-9,2.42570583210227e-9,1.67933480684003e-9,2.79889134473339e-9,2.05252031947115e-9,3.35866961368007e-9,3.17207685736451e-9,1.67933480684003e-9,2.42570583210227e-9,3.54526236999563e-9,2.98548410104895e-9,1.49274205052447e-9,2.79889134473339e-9,1.67933480684003e-9,3.54526236999563e-9,3.17207685736451e-9,2.79889134473339e-9,2.05252031947115e-9,1.86592756315559e-9,3.73185512631119e-9,1.11955653789336e-9,1.30614929420892e-9,1.86592756315559e-9,2.05252031947115e-9,2.42570583210227e-9,1.49274205052447e-9,2.23911307578671e-9,2.42570583210227e-9,1.30614929420892e-9,1.11955653789336e-9,1.11955653789336e-9,9.32963781577797e-10,1.49274205052447e-9,9.32963781577797e-10,9.32963781577797e-10,1.30614929420892e-9,1.11955653789336e-9,1.86592756315559e-9,1.67933480684003e-9,1.11955653789336e-9,4.77677456167832e-8],\"fOption\":\"\",\"fFunctions\":{\"_typename\":\"TList\",\"name\":\"TList\",\"arr\":[],\"opt\":[]},\"fBufferSize\":0,\"fBuffer\":[],\"fBinStatErrOpt\":0,\"fStatOverflows\":2,\"fArray\":[0,0,0.06514405,0.04324723,0.024219,0.04361605,0.01916483,0.0294644,0.0341634,0.04188124,0.06474791,0.1027361,0.08999139,0.1122707,0.08623492,0.06655101,0.04164902,0.05260426,0.02580354,0.01505321,0.008305217,0.006392831,0.00394771,0.002731979,0.001721147,0.001502589,0.001133771,0.001024492,9.015531e-4,7.649542e-4,4.644365e-4,4.234568e-4,3.96137e-4,4.917562e-4,3.414974e-4,3.278375e-4,2.322182e-4,2.59538e-4,1.092792e-4,1.639188e-4,1.775787e-4,1.775787e-4,1.502589e-4,1.912385e-4,1.092792e-4,2.458781e-4,2.185583e-4,1.775787e-4,2.185583e-4,1.229391e-4,1.092792e-4,1.229391e-4,3.005177e-4,2.048984e-4,1.775787e-4,2.731979e-4,1.639188e-4,1.912385e-4,1.639188e-4,2.048984e-4,1.36599e-4,1.912385e-4,1.775787e-4,1.229391e-4,2.048984e-4,1.502589e-4,2.458781e-4,2.322182e-4,1.229391e-4,1.775787e-4,2.59538e-4,2.185583e-4,1.092792e-4,2.048984e-4,1.229391e-4,2.59538e-4,2.322182e-4,2.048984e-4,1.502589e-4,1.36599e-4,2.731979e-4,8.195938e-5,9.561927e-5,1.36599e-4,1.502589e-4,1.775787e-4,1.092792e-4,1.639188e-4,1.775787e-4,9.561927e-5,8.195938e-5,8.195938e-5,6.829948e-5,1.092792e-4,6.829948e-5,6.829948e-5,9.561927e-5,8.195938e-5,1.36599e-4,1.229391e-4,8.195938e-5,0.003496933]},{\"_typename\":\"TH1F\",\"fUniqueID\":0,\"fBits\":520,\"fName\":\"Cluster_Size_ALPIDE_4\",\"fTitle\":\"Size of Clusters - ALPIDE 4\",\"fLineColor\":807,\"fLineStyle\":1,\"fLineWidth\":2,\"fFillColor\":0,\"fFillStyle\":1001,\"fMarkerColor\":1,\"fMarkerStyle\":1,\"fMarkerSize\":1,\"fNcells\":102,\"fXaxis\":{\"_typename\":\"TAxis\",\"fUniqueID\":0,\"fBits\":0,\"fName\":\"xaxis\",\"fTitle\":\"Cluster Size [px]\",\"fNdivisions\":510,\"fAxisColor\":1,\"fLabelColor\":1,\"fLabelFont\":132,\"fLabelOffset\":0.005,\"fLabelSize\":0.09,\"fTickLength\":0.03,\"fTitleOffset\":1,\"fTitleSize\":0.1,\"fTitleColor\":1,\"fTitleFont\":132,\"fNbins\":100,\"fXmin\":0,\"fXmax\":100,\"fXbins\":[],\"fFirst\":0,\"fLast\":0,\"fBits2\":0,\"fTimeDisplay\":false,\"fTimeFormat\":\"\",\"fLabels\":null,\"fModLabs\":null},\"fYaxis\":{\"_typename\":\"TAxis\",\"fUniqueID\":0,\"fBits\":0,\"fName\":\"yaxis\",\"fTitle\":\"Normalized Counts\",\"fNdivisions\":505,\"fAxisColor\":1,\"fLabelColor\":1,\"fLabelFont\":132,\"fLabelOffset\":0.005,\"fLabelSize\":0.09,\"fTickLength\":0.03,\"fTitleOffset\":0,\"fTitleSize\":0.1,\"fTitleColor\":1,\"fTitleFont\":132,\"fNbins\":1,\"fXmin\":0,\"fXmax\":1,\"fXbins\":[],\"fFirst\":0,\"fLast\":0,\"fBits2\":0,\"fTimeDisplay\":false,\"fTimeFormat\":\"\",\"fLabels\":null,\"fModLabs\":null},\"fZaxis\":{\"_typename\":\"TAxis\",\"fUniqueID\":0,\"fBits\":0,\"fName\":\"zaxis\",\"fTitle\":\"\",\"fNdivisions\":510,\"fAxisColor\":1,\"fLabelColor\":1,\"fLabelFont\":132,\"fLabelOffset\":0.005,\"fLabelSize\":0.09,\"fTickLength\":0.03,\"fTitleOffset\":1,\"fTitleSize\":0.035,\"fTitleColor\":1,\"fTitleFont\":132,\"fNbins\":1,\"fXmin\":0,\"fXmax\":1,\"fXbins\":[],\"fFirst\":0,\"fLast\":0,\"fBits2\":0,\"fTimeDisplay\":false,\"fTimeFormat\":\"\",\"fLabels\":null,\"fModLabs\":null},\"fBarOffset\":0,\"fBarWidth\":1000,\"fEntries\":41189,\"fTsumw\":1,\"fTsumw2\":2.42789161891813e-5,\"fTsumwx\":14.0196173642809,\"fTsumwx2\":212.593522385161,\"fMaximum\":0.2,\"fMinimum\":-1111,\"fNormFactor\":0,\"fContour\":[],\"fSumw2\":[0,0,6.64917390050416e-7,1.19661551578222e-7,8.19357422136594e-8,1.24377277748792e-7,4.00836724498478e-8,5.30519194189161e-8,5.59992482755226e-8,1.07872236151796e-7,2.70564789036472e-7,1.12234282859574e-6,1.67820905095171e-6,2.86539311439279e-6,2.84594074393919e-6,3.3888387193261e-6,2.32249513900588e-6,3.30159778517055e-6,1.98591018358143e-6,1.23080453051885e-6,6.35444101484351e-7,5.03993234479703e-7,3.33048160796529e-7,1.90986909908098e-7,1.42061250888431e-7,7.25042898725187e-8,3.12416858800284e-8,2.2399699310209e-8,2.06313019962452e-8,1.11998496551045e-8,9.43145234114065e-9,1.00209181124619e-8,5.30519194189162e-9,5.89465771321291e-9,5.30519194189162e-9,6.4841234845342e-9,4.12626039924903e-9,2.94732885660645e-9,0,1.17893154264258e-9,5.89465771321291e-10,1.17893154264258e-9,0,5.89465771321291e-10,5.89465771321291e-10,0,0,0,0,0,5.89465771321291e-10,0,0,5.89465771321291e-10,0,0,0,0,0,0,0,0,0,0,0,0,0,0,0,0,0,0,0,0,0,0,0,0,0,0,0,0,0,0,5.89465771321291e-10,0,0,0,0,0,0,0,0,0,0,0,0,0,0,0,0,5.89465771321291e-10],\"fOption\":\"\",\"fFunctions\":{\"_typename\":\"TList\",\"name\":\"TList\",\"arr\":[],\"opt\":[]},\"fBufferSize\":0,\"fBuffer\":[],\"fBinStatErrOpt\":0,\"fStatOverflows\":2,\"fArray\":[0,0,0.02738662,0.00492862,0.003374769,0.005122851,0.001650966,0.002185103,0.002306497,0.004443042,0.01114402,0.04622706,0.06912208,0.1180198,0.1172186,0.1395795,0.09565893,0.1359862,0.08179567,0.05069438,0.02617267,0.02075847,0.01371759,0.007866369,0.005851219,0.002986307,0.001286783,9.225988e-4,8.497621e-4,4.612994e-4,3.884626e-4,4.127416e-4,2.185102e-4,2.427892e-4,2.185102e-4,2.670681e-4,1.699524e-4,1.213946e-4,0,4.855783e-5,2.427892e-5,4.855783e-5,0,2.427892e-5,2.427892e-5,0,0,0,0,0,2.427892e-5,0,0,2.427892e-5,0,0,0,0,0,0,0,0,0,0,0,0,0,0,0,0,0,0,0,0,0,0,0,0,0,0,0,0,0,0,2.427892e-5,0,0,0,0,0,0,0,0,0,0,0,0,0,0,0,0,2.427892e-5]},{\"_typename\":\"TLegend\",\"fUniqueID\":0,\"fBits\":8,\"fLineColor\":1,\"fLineStyle\":1,\"fLineWidth\":1,\"fFillColor\":0,\"fFillStyle\":1001,\"fX1\":-60.0000023841858,\"fY1\":-0.0655737699311576,\"fX2\":-1.49011611938477e-6,\"fY2\":-0.0163934424827894,\"fX1NDC\":0,\"fY1NDC\":0,\"fX2NDC\":0.3,\"fY2NDC\":0.15,\"fBorderSize\":1,\"fInit\":1,\"fShadowColor\":1,\"fCornerRadius\":0,\"fOption\":\"brNDC\",\"fName\":\"TPave\",\"fTextAngle\":0,\"fTextSize\":0,\"fTextAlign\":12,\"fTextColor\":1,\"fTextFont\":42,\"fPrimitives\":{\"_typename\":\"TList\",\"name\":\"TList\",\"arr\":[{\"_typename\":\"TLegendEntry\",\"fUniqueID\":0,\"fBits\":0,\"fTextAngle\":0,\"fTextSize\":0,\"fTextAlign\":0,\"fTextColor\":0,\"fTextFont\":42,\"fLineColor\":599,\"fLineStyle\":1,\"fLineWidth\":2,\"fFillColor\":0,\"fFillStyle\":1001,\"fMarkerColor\":1,\"fMarkerStyle\":1,\"fMarkerSize\":1,\"fObject\":{\"$ref\":3},\"fLabel\":\"ALPIDE_0\",\"fOption\":\"lpf\"},{\"_typename\":\"TLegendEntry\",\"fUniqueID\":0,\"fBits\":0,\"fTextAngle\":0,\"fTextSize\":0,\"fTextAlign\":0,\"fTextColor\":0,\"fTextFont\":42,\"fLineColor\":858,\"fLineStyle\":1,\"fLineWidth\":2,\"fFillColor\":0,\"fFillStyle\":1001,\"fMarkerColor\":1,\"fMarkerStyle\":1,\"fMarkerSize\":1,\"fObject\":{\"$ref\":8},\"fLabel\":\"ALPIDE_1\",\"fOption\":\"lpf\"},{\"_typename\":\"TLegendEntry\",\"fUniqueID\":0,\"fBits\":0,\"fTextAngle\":0,\"fTextSize\":0,\"fTextAlign\":0,\"fTextColor\":0,\"fTextFont\":42,\"fLineColor\":426,\"fLineStyle\":1,\"fLineWidth\":2,\"fFillColor\":0,\"fFillStyle\":1001,\"fMarkerColor\":1,\"fMarkerStyle\":1,\"fMarkerSize\":1,\"fObject\":{\"$ref\":13},\"fLabel\":\"ALPIDE_2\",\"fOption\":\"lpf\"},{\"_typename\":\"TLegendEntry\",\"fUniqueID\":0,\"fBits\":0,\"fTextAngle\":0,\"fTextSize\":0,\"fTextAlign\":0,\"fTextColor\":0,\"fTextFont\":42,\"fLineColor\":800,\"fLineStyle\":1,\"fLineWidth\":2,\"fFillColor\":0,\"fFillStyle\":1001,\"fMarkerColor\":1,\"fMarkerStyle\":1,\"fMarkerSize\":1,\"fObject\":{\"$ref\":18},\"fLabel\":\"ALPIDE_3\",\"fOption\":\"lpf\"},{\"_typename\":\"TLegendEntry\",\"fUniqueID\":0,\"fBits\":0,\"fTextAngle\":0,\"fTextSize\":0,\"fTextAlign\":0,\"fTextColor\":0,\"fTextFont\":42,\"fLineColor\":807,\"fLineStyle\":1,\"fLineWidth\":2,\"fFillColor\":0,\"fFillStyle\":1001,\"fMarkerColor\":1,\"fMarkerStyle\":1,\"fMarkerSize\":1,\"fObject\":{\"$ref\":23},\"fLabel\":\"ALPIDE_4\",\"fOption\":\"lpf\"}],\"opt\":[\"lpf\",\"lpf\",\"lpf\",\"lpf\",\"lpf\"]},\"fEntrySeparation\":0.1,\"fMargin\":0.25,\"fNColumns\":1,\"fColumnSeparation\":0},{\"_typename\":\"TPaveText\",\"fUniqueID\":0,\"fBits\":9,\"fLineColor\":1,\"fLineStyle\":1,\"fLineWidth\":1,\"fFillColor\":0,\"fFillStyle\":0,\"fX1\":-30.000001937151,\"fY1\":0.220983606446369,\"fX2\":110.000000149012,\"fY2\":0.260655737039752,\"fX1NDC\":0.15,\"fY1NDC\":0.874000005424023,\"fX2NDC\":0.85,\"fY2NDC\":0.995000004768372,\"fBorderSize\":0,\"fInit\":1,\"fShadowColor\":1,\"fCornerRadius\":0,\"fOption\":\"blNDC\",\"fName\":\"title\",\"fTextAngle\":0,\"fTextSize\":0,\"fTextAlign\":22,\"fTextColor\":1,\"fTextFont\":132,\"fLabel\":\"\",\"fLongest\":27,\"fMargin\":0.05,\"fLines\":{\"_typename\":\"TList\",\"name\":\"TList\",\"arr\":[{\"_typename\":\"TLatex\",\"fUniqueID\":0,\"fBits\":0,\"fName\":\"\",\"fTitle\":\"Size of Clusters - ALPIDE 0\",\"fTextAngle\":0,\"fTextSize\":0,\"fTextAlign\":0,\"fTextColor\":0,\"fTextFont\":0,\"fX\":0,\"fY\":0,\"fLineColor\":1,\"fLineStyle\":1,\"fLineWidth\":2,\"fLimitFactorSize\":3,\"fOriginSize\":0.102849997580051}],\"opt\":[\"\"]}},{\"_typename\":\"TStyle\",\"fUniqueID\":0,\"fBits\":0,\"fName\":\"Modern\",\"fTitle\":\"Modern Style\",\"fLineColor\":1,\"fLineStyle\":1,\"fLineWidth\":1,\"fFillColor\":19,\"fFillStyle\":1001,\"fMarkerColor\":1,\"fMarkerStyle\":1,\"fMarkerSize\":1,\"fTextAngle\":0,\"fTextSize\":0.05,\"fTextAlign\":11,\"fTextColor\":1,\"fTextFont\":132,\"fXaxis\":{\"_typename\":\"TAttAxis\",\"fNdivisions\":510,\"fAxisColor\":1,\"fLabelColor\":1,\"fLabelFont\":132,\"fLabelOffset\":0.005,\"fLabelSize\":0.09,\"fTickLength\":0.03,\"fTitleOffset\":1,\"fTitleSize\":0.1,\"fTitleColor\":1,\"fTitleFont\":132},\"fYaxis\":{\"_typename\":\"TAttAxis\",\"fNdivisions\":510,\"fAxisColor\":1,\"fLabelColor\":1,\"fLabelFont\":132,\"fLabelOffset\":0.005,\"fLabelSize\":0.09,\"fTickLength\":0.03,\"fTitleOffset\":0,\"fTitleSize\":0.1,\"fTitleColor\":1,\"fTitleFont\":132},\"fZaxis\":{\"_typename\":\"TAttAxis\",\"fNdivisions\":510,\"fAxisColor\":1,\"fLabelColor\":1,\"fLabelFont\":132,\"fLabelOffset\":0.005,\"fLabelSize\":0.09,\"fTickLength\":0.03,\"fTitleOffset\":1,\"fTitleSize\":0.035,\"fTitleColor\":1,\"fTitleFont\":132},\"fBarWidth\":1,\"fBarOffset\":0,\"fColorModelPS\":0,\"fDrawBorder\":0,\"fOptLogx\":0,\"fOptLogy\":0,\"fOptLogz\":0,\"fOptDate\":0,\"fOptStat\":0,\"fOptTitle\":1,\"fOptFile\":0,\"fOptFit\":0,\"fShowEventStatus\":0,\"fShowEditor\":0,\"fShowToolBar\":0,\"fNumberContours\":20,\"fAttDate\":{\"_typename\":\"TAttText\",\"fTextAngle\":0,\"fTextSize\":0.025,\"fTextAlign\":11,\"fTextColor\":1,\"fTextFont\":62},\"fDateX\":0.01,\"fDateY\":0.01,\"fEndErrorSize\":2,\"fErrorX\":0.5,\"fFuncColor\":2,\"fFuncStyle\":1,\"fFuncWidth\":2,\"fGridColor\":0,\"fGridStyle\":3,\"fGridWidth\":1,\"fLegendBorderSize\":1,\"fLegendFillColor\":0,\"fLegendFont\":42,\"fLegendTextSize\":0,\"fHatchesLineWidth\":1,\"fHatchesSpacing\":1,\"fFrameFillColor\":0,\"fFrameLineColor\":1,\"fFrameFillStyle\":1001,\"fFrameLineStyle\":1,\"fFrameLineWidth\":1,\"fFrameBorderSize\":1,\"fFrameBorderMode\":0,\"fHistFillColor\":0,\"fHistLineColor\":602,\"fHistFillStyle\":1001,\"fHistLineStyle\":1,\"fHistLineWidth\":1,\"fHistMinimumZero\":false,\"fHistTopMargin\":0.05,\"fCanvasPreferGL\":false,\"fCanvasColor\":0,\"fCanvasBorderSize\":2,\"fCanvasBorderMode\":0,\"fCanvasDefH\":500,\"fCanvasDefW\":700,\"fCanvasDefX\":10,\"fCanvasDefY\":10,\"fPadColor\":0,\"fPadBorderSize\":2,\"fPadBorderMode\":0,\"fPadBottomMargin\":0.2,\"fPadTopMargin\":0.19,\"fPadLeftMargin\":0.3,\"fPadRightMargin\":0.2,\"fPadGridX\":false,\"fPadGridY\":false,\"fPadTickX\":0,\"fPadTickY\":0,\"fPaperSizeX\":20,\"fPaperSizeY\":26,\"fScreenFactor\":1,\"fStatColor\":0,\"fStatTextColor\":1,\"fStatBorderSize\":1,\"fStatFont\":42,\"fStatFontSize\":0,\"fStatStyle\":1001,\"fStatFormat\":\"6.4g\",\"fStatX\":0.98,\"fStatY\":0.935,\"fStatW\":0.2,\"fStatH\":0.16,\"fStripDecimals\":true,\"fTitleAlign\":23,\"fTitleColor\":0,\"fTitleTextColor\":1,\"fTitleBorderSize\":0,\"fTitleFont\":132,\"fTitleFontSize\":0.11,\"fTitleStyle\":0,\"fTitleX\":0.5,\"fTitleY\":0.995,\"fTitleW\":0,\"fTitleH\":0,\"fLegoInnerR\":0.5,\"fLineStyle\":[\"\",\"  \",\" 12 12\",\" 4 8\",\" 12 16 4 16\",\" 20 12 4 12\",\" 20 12 4 12 4 12 4 12\",\" 20 20\",\" 20 12 4 12 4 12\",\" 80 20\",\" 80 40 4 40\",\"  \",\"  \",\"  \",\"  \",\"  \",\"  \",\"  \",\"  \",\"  \",\"  \",\"  \",\"  \",\"  \",\"  \",\"  \",\"  \",\"  \",\"  \",\"  \"],\"fHeaderPS\":\"\",\"fTitlePS\":\"\",\"fFitFormat\":\"5.4g\",\"fPaintTextFormat\":\".1f\",\"fLineScalePS\":3,\"fJoinLinePS\":0,\"fCapLinePS\":0,\"fTimeOffset\":788918400,\"fImageScaling\":1}],\"opt\":[\"\",\" HIST\",\"SAME HIST\",\"SAME HIST\",\"SAME HIST\",\"SAME HIST\",\"\",\"blNDC\",\"\"]},\"fExecs\":null,\"fName\":\"c1\",\"fTitle\":\"c1\",\"fNumPaletteColor\":0,\"fNextPaletteColor\":0,\"fDISPLAY\":\"$DISPLAY\",\"fDoubleBuffer\":0,\"fRetained\":true,\"fXsizeUser\":0,\"fYsizeUser\":0,\"fXsizeReal\":20,\"fYsizeReal\":14.28571,\"fWindowTopX\":0,\"fWindowTopY\":0,\"fWindowWidth\":0,\"fWindowHeight\":0,\"fCw\":696,\"fCh\":472,\"fCatt\":{\"_typename\":\"TAttCanvas\",\"fXBetween\":2,\"fYBetween\":2,\"fTitleFromTop\":1.2,\"fXdate\":0.2,\"fYdate\":0.3,\"fAdate\":1},\"kMoveOpaque\":true,\"kResizeOpaque\":true,\"fHighLightColor\":2,\"fBatch\":true,\"kShowEventStatus\":false,\"kAutoExec\":true,\"kMenuBar\":true});\n",
       "   Core.settings.HandleKeys = false;\n",
       "   Core.draw(\"root_plot_1699373360172\", obj, \"\");\n",
       "}\n",
       "\n",
       "function script_load_root_plot_1699373360172(src, on_error) {\n",
       "    let script = document.createElement('script');\n",
       "    script.src = src;\n",
       "    script.onload = function() { display_root_plot_1699373360172(JSROOT); };\n",
       "    script.onerror = function() { script.remove(); on_error(); };\n",
       "    document.head.appendChild(script);\n",
       "}\n",
       "\n",
       "if (typeof requirejs !== 'undefined') {\n",
       "\n",
       "    // We are in jupyter notebooks, use require.js which should be configured already\n",
       "    requirejs.config({\n",
       "       paths: { 'JSRootCore' : [ 'scripts/JSRoot.core', 'https://root.cern/js/6.1.1/scripts/JSRoot.core.min', 'https://jsroot.gsi.de/6.1.1/scripts/JSRoot.core.min' ] }\n",
       "    })(['JSRootCore'],  function(Core) {\n",
       "       display_root_plot_1699373360172(Core);\n",
       "    });\n",
       "\n",
       "} else if (typeof JSROOT !== 'undefined') {\n",
       "\n",
       "   // JSROOT already loaded, just use it\n",
       "   display_root_plot_1699373360172(JSROOT);\n",
       "\n",
       "} else {\n",
       "\n",
       "    // We are in jupyterlab without require.js, directly loading jsroot\n",
       "    // Jupyterlab might be installed in a different base_url so we need to know it.\n",
       "    try {\n",
       "        var base_url = JSON.parse(document.getElementById('jupyter-config-data').innerHTML).baseUrl;\n",
       "    } catch(_) {\n",
       "        var base_url = '/';\n",
       "    }\n",
       "\n",
       "    // Try loading a local version of requirejs and fallback to cdn if not possible.\n",
       "    script_load_root_plot_1699373360172(base_url + 'static/scripts/JSRoot.core.js', function(){\n",
       "        console.error('Fail to load JSROOT locally, please check your jupyter_notebook_config.py file');\n",
       "        script_load_root_plot_1699373360172('https://root.cern/js/6.1.1/scripts/JSRoot.core.min.js', function(){\n",
       "            document.getElementById(\"root_plot_1699373360172\").innerHTML = \"Failed to load JSROOT\";\n",
       "        });\n",
       "    });\n",
       "}\n",
       "\n",
       "</script>\n"
      ],
      "text/plain": [
       "<IPython.core.display.HTML object>"
      ]
     },
     "metadata": {},
     "output_type": "display_data"
    }
   ],
   "source": [
    "%jsroot on\n",
    "canvas = ROOT.TCanvas()\n",
    "legend = ROOT.TLegend()\n",
    "\n",
    "# Calculate histogram\n",
    "hClusSize = [ROOT.TH1F(\"Cluster_Size_\"+det, \"Size of Clusters - ALPIDE \"+det[-1], 100, 0, 100) for det in detectors]\n",
    "for event in events:\n",
    "    for index,detector in enumerate(detectors):\n",
    "        for cluster in event.clusters:\n",
    "            if cluster.detector == detector:\n",
    "                hClusSize[index].Fill(cluster.size)\n",
    "\n",
    "#Draw histogram\n",
    "for index,hist in enumerate(hClusSize):\n",
    "    hist.Scale(1/hist.Integral())\n",
    "    hist.SetMaximum(0.2)\n",
    "    hist.Draw(\"SAME HIST\")\n",
    "    hist.SetLineColor(colors[index])\n",
    "    hist.SetLineWidth(2)\n",
    "    hist.GetYaxis().SetNdivisions(5, 5, 0) \n",
    "    hist.SetXTitle(\"Cluster Size [px]\")\n",
    "    hist.SetYTitle(\"Normalized Counts\")\n",
    "    legend.AddEntry(hist,detectors[index])\n",
    "\n",
    "legend.Draw() \n",
    "canvas.Draw()"
   ]
  },
  {
   "cell_type": "code",
   "execution_count": 169,
   "id": "132a0f29",
   "metadata": {},
   "outputs": [
    {
     "name": "stdout",
     "output_type": "stream",
     "text": [
      "Going to process 10000.0 events.\n"
     ]
    },
    {
     "name": "stderr",
     "output_type": "stream",
     "text": [
      "Warning in <TROOT::Append>: Replacing existing TH1: Cluster_Size (Potential memory leak).\n",
      "Warning in <TROOT::Append>: Replacing existing TH1: Cluster_Size (Potential memory leak).\n",
      "Warning in <TROOT::Append>: Replacing existing TH1: Cluster_Size (Potential memory leak).\n",
      "Warning in <TROOT::Append>: Replacing existing TH1: Cluster_Size (Potential memory leak).\n",
      "Warning in <TROOT::Append>: Replacing existing TH1: Cluster_Size (Potential memory leak).\n",
      "Info in <TCanvas::Print>: pdf file cluster_size_all.pdf has been created\n"
     ]
    },
    {
     "data": {
      "text/html": [
       "\n",
       "\n",
       "<div id=\"root_plot_1699374439955\"\n",
       "     style=\"width: 596px; height: 572px\">\n",
       "</div>\n",
       "<script>\n",
       "\n",
       "function display_root_plot_1699374439955(Core) {\n",
       "   let obj = Core.parse({\"_typename\":\"TCanvas\",\"fUniqueID\":0,\"fBits\":3342344,\"fLineColor\":1,\"fLineStyle\":1,\"fLineWidth\":1,\"fFillColor\":0,\"fFillStyle\":1001,\"fLeftMargin\":0.3,\"fRightMargin\":0.2,\"fBottomMargin\":0.25,\"fTopMargin\":0.19,\"fXfile\":2,\"fYfile\":2,\"fAfile\":1,\"fXstat\":0.99,\"fYstat\":0.99,\"fAstat\":2,\"fFrameFillColor\":0,\"fFrameLineColor\":1,\"fFrameFillStyle\":1001,\"fFrameLineStyle\":1,\"fFrameLineWidth\":1,\"fFrameBorderSize\":1,\"fFrameBorderMode\":0,\"fX1\":-25.1000009775162,\"fY1\":-0.0892857139055826,\"fX2\":56.900000244379,\"fY2\":0.267857141716748,\"fXtoAbsPixelk\":182.434200727856,\"fXtoPixelk\":182.434200727856,\"fXtoPixel\":7.26829257462083,\"fYtoAbsPixelk\":429.00005,\"fYtoPixelk\":429.00005,\"fYtoPixel\":-1601.60000681877,\"fUtoAbsPixelk\":5e-5,\"fUtoPixelk\":5e-5,\"fUtoPixel\":596,\"fVtoAbsPixelk\":572.00005,\"fVtoPixelk\":572,\"fVtoPixel\":-572,\"fAbsPixeltoXk\":-25.1000009775162,\"fPixeltoXk\":-25.1000009775162,\"fPixeltoX\":0.137583894667609,\"fAbsPixeltoYk\":0.267857141716748,\"fPixeltoYk\":-0.0892857139055826,\"fPixeltoY\":-6.24375621717361e-4,\"fXlowNDC\":0,\"fYlowNDC\":0,\"fXUpNDC\":1,\"fYUpNDC\":1,\"fWNDC\":1,\"fHNDC\":1,\"fAbsXlowNDC\":0,\"fAbsYlowNDC\":0,\"fAbsWNDC\":1,\"fAbsHNDC\":1,\"fUxmin\":-0.5,\"fUymin\":0,\"fUxmax\":40.5,\"fUymax\":0.2,\"fTheta\":30,\"fPhi\":30,\"fAspectRatio\":0,\"fNumber\":0,\"fTickx\":0,\"fTicky\":0,\"fLogx\":0,\"fLogy\":0,\"fLogz\":0,\"fPadPaint\":0,\"fCrosshair\":0,\"fCrosshairPos\":0,\"fBorderSize\":2,\"fBorderMode\":0,\"fModified\":false,\"fGridx\":false,\"fGridy\":false,\"fAbsCoord\":false,\"fEditable\":true,\"fFixedAspectRatio\":false,\"fPrimitives\":{\"_typename\":\"TList\",\"name\":\"TList\",\"arr\":[{\"_typename\":\"TFrame\",\"fUniqueID\":0,\"fBits\":8,\"fLineColor\":1,\"fLineStyle\":1,\"fLineWidth\":1,\"fFillColor\":0,\"fFillStyle\":1001,\"fX1\":-0.5,\"fY1\":0,\"fX2\":40.5,\"fY2\":0.2,\"fBorderSize\":1,\"fBorderMode\":0},{\"_typename\":\"TH1F\",\"fUniqueID\":0,\"fBits\":520,\"fName\":\"Cluster_Size\",\"fTitle\":\"Cluster Sizes\",\"fLineColor\":599,\"fLineStyle\":1,\"fLineWidth\":1,\"fFillColor\":0,\"fFillStyle\":1001,\"fMarkerColor\":599,\"fMarkerStyle\":20,\"fMarkerSize\":1,\"fNcells\":43,\"fXaxis\":{\"_typename\":\"TAxis\",\"fUniqueID\":0,\"fBits\":0,\"fName\":\"xaxis\",\"fTitle\":\"Cluster Size [px]\",\"fNdivisions\":505,\"fAxisColor\":1,\"fLabelColor\":1,\"fLabelFont\":132,\"fLabelOffset\":0.005,\"fLabelSize\":0.09,\"fTickLength\":0.03,\"fTitleOffset\":1,\"fTitleSize\":0.1,\"fTitleColor\":1,\"fTitleFont\":132,\"fNbins\":41,\"fXmin\":-0.5,\"fXmax\":40.5,\"fXbins\":[],\"fFirst\":0,\"fLast\":0,\"fBits2\":0,\"fTimeDisplay\":false,\"fTimeFormat\":\"\",\"fLabels\":null,\"fModLabs\":null},\"fYaxis\":{\"_typename\":\"TAxis\",\"fUniqueID\":0,\"fBits\":0,\"fName\":\"yaxis\",\"fTitle\":\"Normalized Counts\",\"fNdivisions\":505,\"fAxisColor\":1,\"fLabelColor\":1,\"fLabelFont\":132,\"fLabelOffset\":0.005,\"fLabelSize\":0.09,\"fTickLength\":0.03,\"fTitleOffset\":0,\"fTitleSize\":0.1,\"fTitleColor\":1,\"fTitleFont\":132,\"fNbins\":1,\"fXmin\":0,\"fXmax\":1,\"fXbins\":[],\"fFirst\":0,\"fLast\":0,\"fBits2\":0,\"fTimeDisplay\":false,\"fTimeFormat\":\"\",\"fLabels\":null,\"fModLabs\":null},\"fZaxis\":{\"_typename\":\"TAxis\",\"fUniqueID\":0,\"fBits\":0,\"fName\":\"zaxis\",\"fTitle\":\"\",\"fNdivisions\":510,\"fAxisColor\":1,\"fLabelColor\":1,\"fLabelFont\":132,\"fLabelOffset\":0.005,\"fLabelSize\":0.09,\"fTickLength\":0.03,\"fTitleOffset\":1,\"fTitleSize\":0.035,\"fTitleColor\":1,\"fTitleFont\":132,\"fNbins\":1,\"fXmin\":0,\"fXmax\":1,\"fXbins\":[],\"fFirst\":0,\"fLast\":0,\"fBits2\":0,\"fTimeDisplay\":false,\"fTimeFormat\":\"\",\"fLabels\":null,\"fModLabs\":null},\"fBarOffset\":0,\"fBarWidth\":1000,\"fEntries\":3178,\"fTsumw\":1,\"fTsumw2\":3.14861460957179e-4,\"fTsumwx\":13.7399244332494,\"fTsumwx2\":204.168765743073,\"fMaximum\":0.2,\"fMinimum\":-1111,\"fNormFactor\":0,\"fContour\":[],\"fSumw2\":[0,0,7.43533046970668e-6,1.48706609394134e-6,1.28879061474916e-6,1.18965287515307e-6,4.95688697980445e-7,9.9137739596089e-7,7.93101916768712e-7,2.57758122949832e-6,7.93101916768712e-6,1.93318592212374e-5,2.46852971594262e-5,3.93576826196474e-5,3.75732033069177e-5,4.32240544638948e-5,2.72628783889245e-5,3.58878617337842e-5,2.24051291487161e-5,1.72499666897195e-5,8.1292946468793e-6,5.65085115697708e-6,4.06464732343965e-6,2.18103027111396e-6,1.09051513555698e-6,6.93964177172623e-7,3.96550958384356e-7,4.95688697980445e-7,9.91377395960891e-8,1.98275479192178e-7,1.98275479192178e-7,0,0,2.97413218788267e-7,0,0,9.91377395960891e-8,9.91377395960891e-8,0,0,0,0,1.98275479192178e-7],\"fOption\":\"\",\"fFunctions\":{\"_typename\":\"TList\",\"name\":\"TList\",\"arr\":[],\"opt\":[]},\"fBufferSize\":0,\"fBuffer\":[],\"fBinStatErrOpt\":0,\"fStatOverflows\":2,\"fArray\":[0,0,0.02361461,0.004722922,0.004093199,0.003778338,0.001574307,0.003148615,0.002518892,0.008186398,0.02518892,0.06139798,0.0784005,0.125,0.1193325,0.1372796,0.0865869,0.1139798,0.07115869,0.05478589,0.02581864,0.0179471,0.01290932,0.006926952,0.003463476,0.00220403,0.001259446,0.001574307,3.148614e-4,6.297229e-4,6.297229e-4,0,0,9.445844e-4,0,0,3.148614e-4,3.148614e-4,0,0,0,0,6.297229e-4]},{\"_typename\":\"TH1F\",\"fUniqueID\":0,\"fBits\":520,\"fName\":\"Cluster_Size\",\"fTitle\":\"Cluster Sizes\",\"fLineColor\":858,\"fLineStyle\":1,\"fLineWidth\":1,\"fFillColor\":0,\"fFillStyle\":1001,\"fMarkerColor\":858,\"fMarkerStyle\":20,\"fMarkerSize\":1,\"fNcells\":43,\"fXaxis\":{\"_typename\":\"TAxis\",\"fUniqueID\":0,\"fBits\":0,\"fName\":\"xaxis\",\"fTitle\":\"Cluster Size [px]\",\"fNdivisions\":505,\"fAxisColor\":1,\"fLabelColor\":1,\"fLabelFont\":132,\"fLabelOffset\":0.005,\"fLabelSize\":0.09,\"fTickLength\":0.03,\"fTitleOffset\":1,\"fTitleSize\":0.1,\"fTitleColor\":1,\"fTitleFont\":132,\"fNbins\":41,\"fXmin\":-0.5,\"fXmax\":40.5,\"fXbins\":[],\"fFirst\":0,\"fLast\":0,\"fBits2\":0,\"fTimeDisplay\":false,\"fTimeFormat\":\"\",\"fLabels\":null,\"fModLabs\":null},\"fYaxis\":{\"_typename\":\"TAxis\",\"fUniqueID\":0,\"fBits\":0,\"fName\":\"yaxis\",\"fTitle\":\"Normalized Counts\",\"fNdivisions\":505,\"fAxisColor\":1,\"fLabelColor\":1,\"fLabelFont\":132,\"fLabelOffset\":0.005,\"fLabelSize\":0.09,\"fTickLength\":0.03,\"fTitleOffset\":0,\"fTitleSize\":0.1,\"fTitleColor\":1,\"fTitleFont\":132,\"fNbins\":1,\"fXmin\":0,\"fXmax\":1,\"fXbins\":[],\"fFirst\":0,\"fLast\":0,\"fBits2\":0,\"fTimeDisplay\":false,\"fTimeFormat\":\"\",\"fLabels\":null,\"fModLabs\":null},\"fZaxis\":{\"_typename\":\"TAxis\",\"fUniqueID\":0,\"fBits\":0,\"fName\":\"zaxis\",\"fTitle\":\"\",\"fNdivisions\":510,\"fAxisColor\":1,\"fLabelColor\":1,\"fLabelFont\":132,\"fLabelOffset\":0.005,\"fLabelSize\":0.09,\"fTickLength\":0.03,\"fTitleOffset\":1,\"fTitleSize\":0.035,\"fTitleColor\":1,\"fTitleFont\":132,\"fNbins\":1,\"fXmin\":0,\"fXmax\":1,\"fXbins\":[],\"fFirst\":0,\"fLast\":0,\"fBits2\":0,\"fTimeDisplay\":false,\"fTimeFormat\":\"\",\"fLabels\":null,\"fModLabs\":null},\"fBarOffset\":0,\"fBarWidth\":1000,\"fEntries\":3394,\"fTsumw\":1,\"fTsumw2\":2.95595625184747e-4,\"fTsumwx\":13.8273721548921,\"fTsumwx2\":209.95152231747,\"fMaximum\":0.2,\"fMinimum\":-1111,\"fNormFactor\":0,\"fContour\":[],\"fSumw2\":[0,0,7.5144025320391e-6,1.92228901982396e-6,1.92228901982396e-6,1.92228901982396e-6,1.04852128354034e-6,6.99014189026893e-7,1.22327483079706e-6,1.39802837805379e-6,7.77653285292418e-6,1.8611252782841e-5,2.22810772752322e-5,3.5999230734885e-5,3.04944939962982e-5,3.8183650075594e-5,2.6824669503907e-5,3.52128397722297e-5,2.18441934070904e-5,1.24075018552273e-5,8.47554704195108e-6,5.76686705947187e-6,5.76686705947187e-6,2.00966579345232e-6,1.66015869893887e-6,1.1358980571687e-6,6.99014189026893e-7,4.36883868141808e-7,3.49507094513446e-7,1.74753547256723e-7,3.49507094513446e-7,2.62130320885085e-7,2.62130320885085e-7,3.49507094513446e-7,2.62130320885085e-7,1.74753547256723e-7,0,0,1.74753547256723e-7,0,0,0,9.61144509911978e-7],\"fOption\":\"\",\"fFunctions\":{\"_typename\":\"TList\",\"name\":\"TList\",\"arr\":[],\"opt\":[]},\"fBufferSize\":0,\"fBuffer\":[],\"fBinStatErrOpt\":0,\"fStatOverflows\":2,\"fArray\":[0,0,0.02542122,0.006503104,0.006503104,0.006503104,0.003547148,0.002364765,0.004138339,0.00472953,0.02630801,0.06296187,0.07537688,0.1217854,0.1031629,0.1291753,0.09074786,0.119125,0.0738989,0.04197458,0.02867278,0.01950931,0.01950931,0.006798699,0.005616317,0.003842743,0.002364765,0.001477978,0.001182382,5.911912e-4,0.001182382,8.867869e-4,8.867869e-4,0.001182382,8.867869e-4,5.911912e-4,0,0,5.911912e-4,0,0,0,0.003251552]},{\"_typename\":\"TH1F\",\"fUniqueID\":0,\"fBits\":520,\"fName\":\"Cluster_Size\",\"fTitle\":\"Cluster Sizes\",\"fLineColor\":426,\"fLineStyle\":1,\"fLineWidth\":1,\"fFillColor\":0,\"fFillStyle\":1001,\"fMarkerColor\":426,\"fMarkerStyle\":20,\"fMarkerSize\":1,\"fNcells\":43,\"fXaxis\":{\"_typename\":\"TAxis\",\"fUniqueID\":0,\"fBits\":0,\"fName\":\"xaxis\",\"fTitle\":\"Cluster Size [px]\",\"fNdivisions\":505,\"fAxisColor\":1,\"fLabelColor\":1,\"fLabelFont\":132,\"fLabelOffset\":0.005,\"fLabelSize\":0.09,\"fTickLength\":0.03,\"fTitleOffset\":1,\"fTitleSize\":0.1,\"fTitleColor\":1,\"fTitleFont\":132,\"fNbins\":41,\"fXmin\":-0.5,\"fXmax\":40.5,\"fXbins\":[],\"fFirst\":0,\"fLast\":0,\"fBits2\":0,\"fTimeDisplay\":false,\"fTimeFormat\":\"\",\"fLabels\":null,\"fModLabs\":null},\"fYaxis\":{\"_typename\":\"TAxis\",\"fUniqueID\":0,\"fBits\":0,\"fName\":\"yaxis\",\"fTitle\":\"Normalized Counts\",\"fNdivisions\":505,\"fAxisColor\":1,\"fLabelColor\":1,\"fLabelFont\":132,\"fLabelOffset\":0.005,\"fLabelSize\":0.09,\"fTickLength\":0.03,\"fTitleOffset\":0,\"fTitleSize\":0.1,\"fTitleColor\":1,\"fTitleFont\":132,\"fNbins\":1,\"fXmin\":0,\"fXmax\":1,\"fXbins\":[],\"fFirst\":0,\"fLast\":0,\"fBits2\":0,\"fTimeDisplay\":false,\"fTimeFormat\":\"\",\"fLabels\":null,\"fModLabs\":null},\"fZaxis\":{\"_typename\":\"TAxis\",\"fUniqueID\":0,\"fBits\":0,\"fName\":\"zaxis\",\"fTitle\":\"\",\"fNdivisions\":510,\"fAxisColor\":1,\"fLabelColor\":1,\"fLabelFont\":132,\"fLabelOffset\":0.005,\"fLabelSize\":0.09,\"fTickLength\":0.03,\"fTitleOffset\":1,\"fTitleSize\":0.035,\"fTitleColor\":1,\"fTitleFont\":132,\"fNbins\":1,\"fXmin\":0,\"fXmax\":1,\"fXbins\":[],\"fFirst\":0,\"fLast\":0,\"fBits2\":0,\"fTimeDisplay\":false,\"fTimeFormat\":\"\",\"fLabels\":null,\"fModLabs\":null},\"fBarOffset\":0,\"fBarWidth\":1000,\"fEntries\":6455,\"fTsumw\":1,\"fTsumw2\":1.56838143036386e-4,\"fTsumwx\":10.8859786700125,\"fTsumwx2\":151.43491217064,\"fMaximum\":0.2,\"fMinimum\":-1111,\"fNormFactor\":0,\"fContour\":[],\"fSumw2\":[0,0,1.27664674146619e-5,6.51852382444203e-6,3.54214124799869e-6,7.13347890221958e-6,2.82879335777673e-6,4.05870351333183e-6,5.53459569999795e-6,5.14102445022032e-6,8.14200522977477e-6,1.00852632755518e-5,9.59329921332978e-6,1.47343236635501e-5,1.37749937422171e-5,1.23236997586621e-5,8.48638007333019e-6,1.19793249151067e-5,6.1741489808866e-6,4.13249812266514e-6,2.92718617022114e-6,1.89406163955485e-6,1.40209757733281e-6,1.1807137493329e-6,5.16562265333142e-7,3.44374843555428e-7,3.19776640444326e-7,1.72187421777714e-7,9.8392812444408e-8,1.2299101555551e-7,1.47589218666612e-7,4.9196406222204e-8,1.2299101555551e-7,1.2299101555551e-7,1.2299101555551e-7,7.3794609333306e-8,7.3794609333306e-8,2.4598203111102e-8,9.8392812444408e-8,7.3794609333306e-8,0,0,1.94325804577706e-6],\"fOption\":\"\",\"fFunctions\":{\"_typename\":\"TList\",\"name\":\"TList\",\"arr\":[],\"opt\":[]},\"fBufferSize\":0,\"fBuffer\":[],\"fBinStatErrOpt\":0,\"fStatOverflows\":2,\"fArray\":[0,0,0.08139899,0.04156211,0.02258469,0.04548306,0.01803639,0.02587829,0.03528858,0.03277917,0.05191343,0.06430364,0.06116688,0.09394605,0.08782936,0.07857591,0.05410916,0.07638018,0.03936638,0.02634881,0.01866374,0.01207654,0.008939774,0.007528231,0.003293601,0.002195734,0.002038896,0.001097867,6.273526e-4,7.841907e-4,9.410289e-4,3.136763e-4,7.841907e-4,7.841907e-4,7.841907e-4,4.705144e-4,4.705144e-4,1.568381e-4,6.273526e-4,4.705144e-4,0,0,0.01239021]},{\"_typename\":\"TH1F\",\"fUniqueID\":0,\"fBits\":520,\"fName\":\"Cluster_Size\",\"fTitle\":\"Cluster Sizes\",\"fLineColor\":800,\"fLineStyle\":1,\"fLineWidth\":1,\"fFillColor\":0,\"fFillStyle\":1001,\"fMarkerColor\":800,\"fMarkerStyle\":20,\"fMarkerSize\":1,\"fNcells\":43,\"fXaxis\":{\"_typename\":\"TAxis\",\"fUniqueID\":0,\"fBits\":0,\"fName\":\"xaxis\",\"fTitle\":\"Cluster Size [px]\",\"fNdivisions\":505,\"fAxisColor\":1,\"fLabelColor\":1,\"fLabelFont\":132,\"fLabelOffset\":0.005,\"fLabelSize\":0.09,\"fTickLength\":0.03,\"fTitleOffset\":1,\"fTitleSize\":0.1,\"fTitleColor\":1,\"fTitleFont\":132,\"fNbins\":41,\"fXmin\":-0.5,\"fXmax\":40.5,\"fXbins\":[],\"fFirst\":0,\"fLast\":0,\"fBits2\":0,\"fTimeDisplay\":false,\"fTimeFormat\":\"\",\"fLabels\":null,\"fModLabs\":null},\"fYaxis\":{\"_typename\":\"TAxis\",\"fUniqueID\":0,\"fBits\":0,\"fName\":\"yaxis\",\"fTitle\":\"Normalized Counts\",\"fNdivisions\":505,\"fAxisColor\":1,\"fLabelColor\":1,\"fLabelFont\":132,\"fLabelOffset\":0.005,\"fLabelSize\":0.09,\"fTickLength\":0.03,\"fTitleOffset\":0,\"fTitleSize\":0.1,\"fTitleColor\":1,\"fTitleFont\":132,\"fNbins\":1,\"fXmin\":0,\"fXmax\":1,\"fXbins\":[],\"fFirst\":0,\"fLast\":0,\"fBits2\":0,\"fTimeDisplay\":false,\"fTimeFormat\":\"\",\"fLabels\":null,\"fModLabs\":null},\"fZaxis\":{\"_typename\":\"TAxis\",\"fUniqueID\":0,\"fBits\":0,\"fName\":\"zaxis\",\"fTitle\":\"\",\"fNdivisions\":510,\"fAxisColor\":1,\"fLabelColor\":1,\"fLabelFont\":132,\"fLabelOffset\":0.005,\"fLabelSize\":0.09,\"fTickLength\":0.03,\"fTitleOffset\":1,\"fTitleSize\":0.035,\"fTitleColor\":1,\"fTitleFont\":132,\"fNbins\":1,\"fXmin\":0,\"fXmax\":1,\"fXbins\":[],\"fFirst\":0,\"fLast\":0,\"fBits2\":0,\"fTimeDisplay\":false,\"fTimeFormat\":\"\",\"fLabels\":null,\"fModLabs\":null},\"fBarOffset\":0,\"fBarWidth\":1000,\"fEntries\":7304,\"fTsumw\":1,\"fTsumw2\":1.38542532557495e-4,\"fTsumwx\":10.1983929066223,\"fTsumwx2\":129.859517871987,\"fMaximum\":0.2,\"fMinimum\":-1111,\"fNormFactor\":0,\"fContour\":[],\"fSumw2\":[0,0,9.0787777638813e-6,6.04612049814505e-6,3.7428364988517e-6,6.37241906471161e-6,2.70635869916969e-6,4.41462766531226e-6,4.76012026520626e-6,5.52788159830405e-6,9.23233003050086e-6,1.43571369289286e-5,1.23417634295469e-5,1.48177937287872e-5,1.25720918294762e-5,9.57782263039486e-6,5.58546369828638e-6,6.96743409786239e-6,3.55089616557725e-6,2.36086609927569e-6,1.20922409962901e-6,7.86955366425229e-7,7.1017923311545e-7,4.9904486651356e-7,2.11134366601891e-7,1.91940333274446e-7,1.15164199964668e-7,9.5970166637223e-8,1.53552266619557e-7,3.83880666548892e-8,7.67761333097784e-8,9.5970166637223e-8,7.67761333097784e-8,7.67761333097784e-8,1.91940333274446e-8,3.83880666548892e-8,1.91940333274446e-8,3.83880666548892e-8,1.91940333274446e-8,0,3.83880666548892e-8,1.91940333274446e-8,1.65068686616024e-6],\"fOption\":\"\",\"fFunctions\":{\"_typename\":\"TList\",\"name\":\"TList\",\"arr\":[],\"opt\":[]},\"fBufferSize\":0,\"fBuffer\":[],\"fBinStatErrOpt\":0,\"fStatOverflows\":2,\"fArray\":[0,0,0.06553062,0.0436409,0.02701579,0.04599612,0.0195345,0.03186478,0.03435855,0.03990025,0.06663896,0.1036298,0.08908285,0.1069548,0.09074536,0.06913272,0.04031588,0.05029094,0.02563037,0.01704073,0.008728179,0.005680244,0.005126073,0.003602106,0.001523968,0.001385425,8.312552e-4,6.927127e-4,0.00110834,2.770851e-4,5.541701e-4,6.927127e-4,5.541701e-4,5.541701e-4,1.385425e-4,2.770851e-4,1.385425e-4,2.770851e-4,1.385425e-4,0,2.770851e-4,1.385425e-4,0.01191466]},{\"_typename\":\"TH1F\",\"fUniqueID\":0,\"fBits\":520,\"fName\":\"Cluster_Size\",\"fTitle\":\"Cluster Sizes\",\"fLineColor\":807,\"fLineStyle\":1,\"fLineWidth\":1,\"fFillColor\":0,\"fFillStyle\":1001,\"fMarkerColor\":807,\"fMarkerStyle\":20,\"fMarkerSize\":1,\"fNcells\":43,\"fXaxis\":{\"_typename\":\"TAxis\",\"fUniqueID\":0,\"fBits\":0,\"fName\":\"xaxis\",\"fTitle\":\"Cluster Size [px]\",\"fNdivisions\":505,\"fAxisColor\":1,\"fLabelColor\":1,\"fLabelFont\":132,\"fLabelOffset\":0.005,\"fLabelSize\":0.09,\"fTickLength\":0.03,\"fTitleOffset\":1,\"fTitleSize\":0.1,\"fTitleColor\":1,\"fTitleFont\":132,\"fNbins\":41,\"fXmin\":-0.5,\"fXmax\":40.5,\"fXbins\":[],\"fFirst\":0,\"fLast\":0,\"fBits2\":0,\"fTimeDisplay\":false,\"fTimeFormat\":\"\",\"fLabels\":null,\"fModLabs\":null},\"fYaxis\":{\"_typename\":\"TAxis\",\"fUniqueID\":0,\"fBits\":0,\"fName\":\"yaxis\",\"fTitle\":\"Normalized Counts\",\"fNdivisions\":505,\"fAxisColor\":1,\"fLabelColor\":1,\"fLabelFont\":132,\"fLabelOffset\":0.005,\"fLabelSize\":0.09,\"fTickLength\":0.03,\"fTitleOffset\":0,\"fTitleSize\":0.1,\"fTitleColor\":1,\"fTitleFont\":132,\"fNbins\":1,\"fXmin\":0,\"fXmax\":1,\"fXbins\":[],\"fFirst\":0,\"fLast\":0,\"fBits2\":0,\"fTimeDisplay\":false,\"fTimeFormat\":\"\",\"fLabels\":null,\"fModLabs\":null},\"fZaxis\":{\"_typename\":\"TAxis\",\"fUniqueID\":0,\"fBits\":0,\"fName\":\"zaxis\",\"fTitle\":\"\",\"fNdivisions\":510,\"fAxisColor\":1,\"fLabelColor\":1,\"fLabelFont\":132,\"fLabelOffset\":0.005,\"fLabelSize\":0.09,\"fTickLength\":0.03,\"fTitleOffset\":1,\"fTitleSize\":0.035,\"fTitleColor\":1,\"fTitleFont\":132,\"fNbins\":1,\"fXmin\":0,\"fXmax\":1,\"fXbins\":[],\"fFirst\":0,\"fLast\":0,\"fBits2\":0,\"fTimeDisplay\":false,\"fTimeFormat\":\"\",\"fLabels\":null,\"fModLabs\":null},\"fBarOffset\":0,\"fBarWidth\":1000,\"fEntries\":4044,\"fTsumw\":1,\"fTsumw2\":2.47341083353945e-4,\"fTsumwx\":14.0366064803364,\"fTsumwx2\":212.750432846896,\"fMaximum\":0.2,\"fMinimum\":-1111,\"fNormFactor\":0,\"fContour\":[],\"fSumw2\":[0,0,7.28013577024968e-6,1.16237461877936e-6,9.17664172720548e-7,1.22355223029406e-6,1.8353283454411e-7,3.05888057573516e-7,3.05888057573516e-7,9.17664172720548e-7,2.50828207210283e-6,1.04613715690143e-5,1.62732446629111e-5,2.92428983040281e-5,3.10782266494692e-5,3.55441922900426e-5,2.26968938719549e-5,3.2974732606425e-5,2.21462953683226e-5,1.08284372381025e-5,6.54600443207325e-6,5.87305070541151e-6,3.42594624482338e-6,1.9576835684705e-6,1.65179551089699e-6,5.50598503632329e-7,2.44710446058813e-7,1.8353283454411e-7,1.22355223029406e-7,3.05888057573516e-7,2.44710446058813e-7,6.11776115147032e-8,0,0,0,6.11776115147032e-8,0,0,0,6.11776115147032e-8,0,0,6.11776115147032e-8],\"fOption\":\"\",\"fFunctions\":{\"_typename\":\"TList\",\"name\":\"TList\",\"arr\":[],\"opt\":[]},\"fBufferSize\":0,\"fBuffer\":[],\"fBinStatErrOpt\":0,\"fStatOverflows\":2,\"fArray\":[0,0,0.02943359,0.004699481,0.003710116,0.004946822,7.420232e-4,0.001236705,0.001236705,0.003710116,0.01014098,0.04229533,0.06579272,0.118229,0.1256493,0.1437052,0.09176354,0.1333168,0.08953747,0.04377937,0.0264655,0.02374474,0.0138511,0.007914915,0.006678209,0.00222607,9.893643e-4,7.420232e-4,4.946822e-4,0.001236705,9.893643e-4,2.473411e-4,0,0,0,2.473411e-4,0,0,0,2.473411e-4,0,0,2.473411e-4]},{\"_typename\":\"TLegend\",\"fUniqueID\":0,\"fBits\":8,\"fLineColor\":1,\"fLineStyle\":1,\"fLineWidth\":1,\"fFillColor\":0,\"fFillStyle\":1001,\"fX1\":19.9999996945262,\"fY1\":0.0892857139055826,\"fX2\":40.5,\"fY2\":0.196428570592282,\"fX1NDC\":0.55,\"fY1NDC\":0.5,\"fX2NDC\":0.8,\"fY2NDC\":0.8,\"fBorderSize\":1,\"fInit\":1,\"fShadowColor\":1,\"fCornerRadius\":0,\"fOption\":\"brNDC\",\"fName\":\"TPave\",\"fTextAngle\":0,\"fTextSize\":0,\"fTextAlign\":12,\"fTextColor\":1,\"fTextFont\":42,\"fPrimitives\":{\"_typename\":\"TList\",\"name\":\"TList\",\"arr\":[{\"_typename\":\"TLegendEntry\",\"fUniqueID\":0,\"fBits\":0,\"fTextAngle\":0,\"fTextSize\":0,\"fTextAlign\":0,\"fTextColor\":0,\"fTextFont\":42,\"fLineColor\":599,\"fLineStyle\":1,\"fLineWidth\":1,\"fFillColor\":0,\"fFillStyle\":1001,\"fMarkerColor\":599,\"fMarkerStyle\":20,\"fMarkerSize\":1,\"fObject\":{\"$ref\":3},\"fLabel\":\"ALPIDE 0\",\"fOption\":\"lpf\"},{\"_typename\":\"TLegendEntry\",\"fUniqueID\":0,\"fBits\":0,\"fTextAngle\":0,\"fTextSize\":0,\"fTextAlign\":0,\"fTextColor\":0,\"fTextFont\":42,\"fLineColor\":858,\"fLineStyle\":1,\"fLineWidth\":1,\"fFillColor\":0,\"fFillStyle\":1001,\"fMarkerColor\":858,\"fMarkerStyle\":20,\"fMarkerSize\":1,\"fObject\":{\"$ref\":8},\"fLabel\":\"ALPIDE 1\",\"fOption\":\"lpf\"},{\"_typename\":\"TLegendEntry\",\"fUniqueID\":0,\"fBits\":0,\"fTextAngle\":0,\"fTextSize\":0,\"fTextAlign\":0,\"fTextColor\":0,\"fTextFont\":42,\"fLineColor\":426,\"fLineStyle\":1,\"fLineWidth\":1,\"fFillColor\":0,\"fFillStyle\":1001,\"fMarkerColor\":426,\"fMarkerStyle\":20,\"fMarkerSize\":1,\"fObject\":{\"$ref\":13},\"fLabel\":\"ALPIDE 2\",\"fOption\":\"lpf\"},{\"_typename\":\"TLegendEntry\",\"fUniqueID\":0,\"fBits\":0,\"fTextAngle\":0,\"fTextSize\":0,\"fTextAlign\":0,\"fTextColor\":0,\"fTextFont\":42,\"fLineColor\":800,\"fLineStyle\":1,\"fLineWidth\":1,\"fFillColor\":0,\"fFillStyle\":1001,\"fMarkerColor\":800,\"fMarkerStyle\":20,\"fMarkerSize\":1,\"fObject\":{\"$ref\":18},\"fLabel\":\"ALPIDE 3\",\"fOption\":\"lpf\"},{\"_typename\":\"TLegendEntry\",\"fUniqueID\":0,\"fBits\":0,\"fTextAngle\":0,\"fTextSize\":0,\"fTextAlign\":0,\"fTextColor\":0,\"fTextFont\":42,\"fLineColor\":807,\"fLineStyle\":1,\"fLineWidth\":1,\"fFillColor\":0,\"fFillStyle\":1001,\"fMarkerColor\":807,\"fMarkerStyle\":20,\"fMarkerSize\":1,\"fObject\":{\"$ref\":23},\"fLabel\":\"ALPIDE 4\",\"fOption\":\"lpf\"}],\"opt\":[\"lpf\",\"lpf\",\"lpf\",\"lpf\",\"lpf\"]},\"fEntrySeparation\":0.1,\"fMargin\":0.25,\"fNColumns\":1,\"fColumnSeparation\":0},{\"_typename\":\"TPaveText\",\"fUniqueID\":0,\"fBits\":9,\"fLineColor\":1,\"fLineStyle\":1,\"fLineWidth\":1,\"fFillColor\":0,\"fFillStyle\":0,\"fX1\":-8.24047052494732,\"fY1\":0.222857143845485,\"fX2\":40.0404697918102,\"fY2\":0.266071429141626,\"fX1NDC\":0.205604026845638,\"fY1NDC\":0.874000005424023,\"fX2NDC\":0.794395973154362,\"fY2NDC\":0.995000004768372,\"fBorderSize\":0,\"fInit\":1,\"fShadowColor\":1,\"fCornerRadius\":0,\"fOption\":\"blNDC\",\"fName\":\"title\",\"fTextAngle\":0,\"fTextSize\":0,\"fTextAlign\":22,\"fTextColor\":1,\"fTextFont\":132,\"fLabel\":\"\",\"fLongest\":13,\"fMargin\":0.05,\"fLines\":{\"_typename\":\"TList\",\"name\":\"TList\",\"arr\":[{\"_typename\":\"TLatex\",\"fUniqueID\":0,\"fBits\":0,\"fName\":\"\",\"fTitle\":\"Cluster Sizes\",\"fTextAngle\":0,\"fTextSize\":0,\"fTextAlign\":0,\"fTextColor\":0,\"fTextFont\":0,\"fX\":0,\"fY\":0,\"fLineColor\":1,\"fLineStyle\":1,\"fLineWidth\":2,\"fLimitFactorSize\":3,\"fOriginSize\":0.102849997580051}],\"opt\":[\"\"]}},{\"_typename\":\"TStyle\",\"fUniqueID\":0,\"fBits\":0,\"fName\":\"Modern\",\"fTitle\":\"Modern Style\",\"fLineColor\":1,\"fLineStyle\":1,\"fLineWidth\":1,\"fFillColor\":19,\"fFillStyle\":1001,\"fMarkerColor\":1,\"fMarkerStyle\":1,\"fMarkerSize\":1,\"fTextAngle\":0,\"fTextSize\":0.05,\"fTextAlign\":11,\"fTextColor\":1,\"fTextFont\":132,\"fXaxis\":{\"_typename\":\"TAttAxis\",\"fNdivisions\":510,\"fAxisColor\":1,\"fLabelColor\":1,\"fLabelFont\":132,\"fLabelOffset\":0.005,\"fLabelSize\":0.09,\"fTickLength\":0.03,\"fTitleOffset\":1,\"fTitleSize\":0.1,\"fTitleColor\":1,\"fTitleFont\":132},\"fYaxis\":{\"_typename\":\"TAttAxis\",\"fNdivisions\":510,\"fAxisColor\":1,\"fLabelColor\":1,\"fLabelFont\":132,\"fLabelOffset\":0.005,\"fLabelSize\":0.09,\"fTickLength\":0.03,\"fTitleOffset\":0,\"fTitleSize\":0.1,\"fTitleColor\":1,\"fTitleFont\":132},\"fZaxis\":{\"_typename\":\"TAttAxis\",\"fNdivisions\":510,\"fAxisColor\":1,\"fLabelColor\":1,\"fLabelFont\":132,\"fLabelOffset\":0.005,\"fLabelSize\":0.09,\"fTickLength\":0.03,\"fTitleOffset\":1,\"fTitleSize\":0.035,\"fTitleColor\":1,\"fTitleFont\":132},\"fBarWidth\":1,\"fBarOffset\":0,\"fColorModelPS\":0,\"fDrawBorder\":0,\"fOptLogx\":0,\"fOptLogy\":0,\"fOptLogz\":0,\"fOptDate\":0,\"fOptStat\":0,\"fOptTitle\":1,\"fOptFile\":0,\"fOptFit\":0,\"fShowEventStatus\":0,\"fShowEditor\":0,\"fShowToolBar\":0,\"fNumberContours\":20,\"fAttDate\":{\"_typename\":\"TAttText\",\"fTextAngle\":0,\"fTextSize\":0.025,\"fTextAlign\":11,\"fTextColor\":1,\"fTextFont\":62},\"fDateX\":0.01,\"fDateY\":0.01,\"fEndErrorSize\":2,\"fErrorX\":0.5,\"fFuncColor\":2,\"fFuncStyle\":1,\"fFuncWidth\":2,\"fGridColor\":0,\"fGridStyle\":3,\"fGridWidth\":1,\"fLegendBorderSize\":1,\"fLegendFillColor\":0,\"fLegendFont\":42,\"fLegendTextSize\":0,\"fHatchesLineWidth\":1,\"fHatchesSpacing\":1,\"fFrameFillColor\":0,\"fFrameLineColor\":1,\"fFrameFillStyle\":1001,\"fFrameLineStyle\":1,\"fFrameLineWidth\":1,\"fFrameBorderSize\":1,\"fFrameBorderMode\":0,\"fHistFillColor\":0,\"fHistLineColor\":602,\"fHistFillStyle\":1001,\"fHistLineStyle\":1,\"fHistLineWidth\":1,\"fHistMinimumZero\":false,\"fHistTopMargin\":0.05,\"fCanvasPreferGL\":false,\"fCanvasColor\":0,\"fCanvasBorderSize\":2,\"fCanvasBorderMode\":0,\"fCanvasDefH\":500,\"fCanvasDefW\":700,\"fCanvasDefX\":10,\"fCanvasDefY\":10,\"fPadColor\":0,\"fPadBorderSize\":2,\"fPadBorderMode\":0,\"fPadBottomMargin\":0.25,\"fPadTopMargin\":0.19,\"fPadLeftMargin\":0.3,\"fPadRightMargin\":0.2,\"fPadGridX\":false,\"fPadGridY\":false,\"fPadTickX\":0,\"fPadTickY\":0,\"fPaperSizeX\":20,\"fPaperSizeY\":26,\"fScreenFactor\":1,\"fStatColor\":0,\"fStatTextColor\":1,\"fStatBorderSize\":1,\"fStatFont\":42,\"fStatFontSize\":0,\"fStatStyle\":1001,\"fStatFormat\":\"6.4g\",\"fStatX\":0.98,\"fStatY\":0.935,\"fStatW\":0.2,\"fStatH\":0.16,\"fStripDecimals\":true,\"fTitleAlign\":23,\"fTitleColor\":0,\"fTitleTextColor\":1,\"fTitleBorderSize\":0,\"fTitleFont\":132,\"fTitleFontSize\":0.11,\"fTitleStyle\":0,\"fTitleX\":0.5,\"fTitleY\":0.995,\"fTitleW\":0,\"fTitleH\":0,\"fLegoInnerR\":0.5,\"fLineStyle\":[\"\",\"  \",\" 12 12\",\" 4 8\",\" 12 16 4 16\",\" 20 12 4 12\",\" 20 12 4 12 4 12 4 12\",\" 20 20\",\" 20 12 4 12 4 12\",\" 80 20\",\" 80 40 4 40\",\"  \",\"  \",\"  \",\"  \",\"  \",\"  \",\"  \",\"  \",\"  \",\"  \",\"  \",\"  \",\"  \",\"  \",\"  \",\"  \",\"  \",\"  \",\"  \"],\"fHeaderPS\":\"\",\"fTitlePS\":\"\",\"fFitFormat\":\"5.4g\",\"fPaintTextFormat\":\".1f\",\"fLineScalePS\":3,\"fJoinLinePS\":0,\"fCapLinePS\":0,\"fTimeOffset\":788918400,\"fImageScaling\":1}],\"opt\":[\"\",\" HIST\",\"SAME HIST\",\"SAME HIST\",\"SAME HIST\",\"SAME HIST\",\"\",\"blNDC\",\"\"]},\"fExecs\":null,\"fName\":\"c1_n2\",\"fTitle\":\"\",\"fNumPaletteColor\":0,\"fNextPaletteColor\":0,\"fDISPLAY\":\"$DISPLAY\",\"fDoubleBuffer\":0,\"fRetained\":true,\"fXsizeUser\":0,\"fYsizeUser\":0,\"fXsizeReal\":20,\"fYsizeReal\":20,\"fWindowTopX\":0,\"fWindowTopY\":0,\"fWindowWidth\":0,\"fWindowHeight\":0,\"fCw\":596,\"fCh\":572,\"fCatt\":{\"_typename\":\"TAttCanvas\",\"fXBetween\":2,\"fYBetween\":2,\"fTitleFromTop\":1.2,\"fXdate\":0.2,\"fYdate\":0.3,\"fAdate\":1},\"kMoveOpaque\":true,\"kResizeOpaque\":true,\"fHighLightColor\":2,\"fBatch\":true,\"kShowEventStatus\":false,\"kAutoExec\":true,\"kMenuBar\":true});\n",
       "   Core.settings.HandleKeys = false;\n",
       "   Core.draw(\"root_plot_1699374439955\", obj, \"\");\n",
       "}\n",
       "\n",
       "function script_load_root_plot_1699374439955(src, on_error) {\n",
       "    let script = document.createElement('script');\n",
       "    script.src = src;\n",
       "    script.onload = function() { display_root_plot_1699374439955(JSROOT); };\n",
       "    script.onerror = function() { script.remove(); on_error(); };\n",
       "    document.head.appendChild(script);\n",
       "}\n",
       "\n",
       "if (typeof requirejs !== 'undefined') {\n",
       "\n",
       "    // We are in jupyter notebooks, use require.js which should be configured already\n",
       "    requirejs.config({\n",
       "       paths: { 'JSRootCore' : [ 'scripts/JSRoot.core', 'https://root.cern/js/6.1.1/scripts/JSRoot.core.min', 'https://jsroot.gsi.de/6.1.1/scripts/JSRoot.core.min' ] }\n",
       "    })(['JSRootCore'],  function(Core) {\n",
       "       display_root_plot_1699374439955(Core);\n",
       "    });\n",
       "\n",
       "} else if (typeof JSROOT !== 'undefined') {\n",
       "\n",
       "   // JSROOT already loaded, just use it\n",
       "   display_root_plot_1699374439955(JSROOT);\n",
       "\n",
       "} else {\n",
       "\n",
       "    // We are in jupyterlab without require.js, directly loading jsroot\n",
       "    // Jupyterlab might be installed in a different base_url so we need to know it.\n",
       "    try {\n",
       "        var base_url = JSON.parse(document.getElementById('jupyter-config-data').innerHTML).baseUrl;\n",
       "    } catch(_) {\n",
       "        var base_url = '/';\n",
       "    }\n",
       "\n",
       "    // Try loading a local version of requirejs and fallback to cdn if not possible.\n",
       "    script_load_root_plot_1699374439955(base_url + 'static/scripts/JSRoot.core.js', function(){\n",
       "        console.error('Fail to load JSROOT locally, please check your jupyter_notebook_config.py file');\n",
       "        script_load_root_plot_1699374439955('https://root.cern/js/6.1.1/scripts/JSRoot.core.min.js', function(){\n",
       "            document.getElementById(\"root_plot_1699374439955\").innerHTML = \"Failed to load JSROOT\";\n",
       "        });\n",
       "    });\n",
       "}\n",
       "\n",
       "</script>\n"
      ],
      "text/plain": [
       "<IPython.core.display.HTML object>"
      ]
     },
     "metadata": {},
     "output_type": "display_data"
    }
   ],
   "source": [
    "%jsroot on\n",
    "path = \"/home/cehrich/Software/uits3_krakow22/noFlipNeeded/run456114514_221112120005.pkl\" \n",
    "detectors = [\"ALPIDE_0\",\"ALPIDE_1\",\"ALPIDE_2\",\"ALPIDE_3\",\"ALPIDE_4\"]\n",
    "canvas = ROOT.TCanvas(\"\",\"\",600,600)\n",
    "legend = ROOT.TLegend(0.55, 0.5, 0.8, 0.8)\n",
    "\n",
    "# Calculate histogram\n",
    "hClusSize = [ROOT.TH1F(\"Cluster_Size\", \"Cluster Sizes\", 41, -0.5, 40.5) for det in detectors]\n",
    "for event in readEvents(path,1e4):\n",
    "    for index,detector in enumerate(detectors):\n",
    "        for cluster in event.clusters:\n",
    "            if cluster.detector == detector:\n",
    "                hClusSize[index].Fill(cluster.size)\n",
    "\n",
    "\n",
    "ROOT.gStyle.SetPadLeftMargin(0.3)\n",
    "ROOT.gStyle.SetPadRightMargin(0.2)\n",
    "ROOT.gStyle.SetPadBottomMargin(0.25)\n",
    "#Draw histogram\n",
    "for index,hist in enumerate(hClusSize):\n",
    "    hist.Scale(1/hist.Integral())\n",
    "    hist.SetMaximum(0.2)\n",
    "    hist.GetXaxis().SetNdivisions(5, 5, 0) \n",
    "    hist.GetYaxis().SetNdivisions(5, 5, 0) \n",
    "    hist.SetMarkerColor(colors[index])\n",
    "    hist.SetMarkerStyle(20)   \n",
    "    hist.SetLineColor(colors[index])\n",
    "    hist.SetXTitle(\"Cluster Size [px]\")\n",
    "    hist.SetYTitle(\"Normalized Counts\") #(Normalized to Integral)\n",
    "    hist.Draw(\"SAME HIST\")\n",
    "    legend.AddEntry(hist,'ALPIDE '+str(index))\n",
    "\n",
    "\n",
    "\n",
    "legend.Draw() \n",
    "canvas.Draw()\n",
    "\n",
    "canvas.SaveAs(\"cluster_size_all.pdf\")"
   ]
  },
  {
   "cell_type": "code",
   "execution_count": 71,
   "id": "edd860ae",
   "metadata": {},
   "outputs": [
    {
     "name": "stdout",
     "output_type": "stream",
     "text": [
      "Going to process all events.\n"
     ]
    },
    {
     "name": "stderr",
     "output_type": "stream",
     "text": [
      "Warning in <TROOT::Append>: Replacing existing TH1: Cluster_Size (Potential memory leak).\n"
     ]
    },
    {
     "data": {
      "text/html": [
       "\n",
       "\n",
       "<div id=\"root_plot_1699008967939\"\n",
       "     style=\"width: 596px; height: 572px\">\n",
       "</div>\n",
       "<script>\n",
       "\n",
       "function display_root_plot_1699008967939(Core) {\n",
       "   let obj = Core.parse({\"_typename\":\"TCanvas\",\"fUniqueID\":0,\"fBits\":3342344,\"fLineColor\":1,\"fLineStyle\":1,\"fLineWidth\":1,\"fFillColor\":0,\"fFillStyle\":1001,\"fLeftMargin\":0.1,\"fRightMargin\":0.2,\"fBottomMargin\":0.2,\"fTopMargin\":0.1,\"fXfile\":2,\"fYfile\":2,\"fAfile\":1,\"fXstat\":0.99,\"fYstat\":0.99,\"fAstat\":2,\"fFrameFillColor\":0,\"fFrameLineColor\":1,\"fFrameFillStyle\":1001,\"fFrameLineStyle\":1,\"fFrameLineWidth\":1,\"fFrameBorderSize\":1,\"fFrameBorderMode\":0,\"fX1\":-1.21428573709361,\"fY1\":-12.2142860883353,\"fX2\":5.92857147418723,\"fY2\":46.3571430441676,\"fXtoAbsPixelk\":101.320050932515,\"fXtoPixelk\":101.320050932515,\"fXtoPixel\":83.4399992007017,\"fYtoAbsPixelk\":452.717120660468,\"fYtoPixelk\":452.717120660468,\"fYtoPixel\":-9.76585356498637,\"fUtoAbsPixelk\":5e-5,\"fUtoPixelk\":5e-5,\"fUtoPixel\":596,\"fVtoAbsPixelk\":572.00005,\"fVtoPixelk\":572,\"fVtoPixel\":-572,\"fAbsPixeltoXk\":-1.21428573709361,\"fPixeltoXk\":-1.21428573709361,\"fPixeltoX\":0.0119846597504712,\"fAbsPixeltoYk\":46.3571430441676,\"fPixeltoYk\":-12.2142860883353,\"fPixeltoY\":-0.102397603378502,\"fXlowNDC\":0,\"fYlowNDC\":0,\"fXUpNDC\":1,\"fYUpNDC\":1,\"fWNDC\":1,\"fHNDC\":1,\"fAbsXlowNDC\":0,\"fAbsYlowNDC\":0,\"fAbsWNDC\":1,\"fAbsHNDC\":1,\"fUxmin\":-0.5,\"fUymin\":-0.5,\"fUxmax\":4.5,\"fUymax\":40.5,\"fTheta\":30,\"fPhi\":30,\"fAspectRatio\":0,\"fNumber\":0,\"fTickx\":0,\"fTicky\":0,\"fLogx\":0,\"fLogy\":0,\"fLogz\":0,\"fPadPaint\":0,\"fCrosshair\":0,\"fCrosshairPos\":0,\"fBorderSize\":2,\"fBorderMode\":0,\"fModified\":false,\"fGridx\":false,\"fGridy\":false,\"fAbsCoord\":false,\"fEditable\":true,\"fFixedAspectRatio\":false,\"fPrimitives\":{\"_typename\":\"TList\",\"name\":\"TList\",\"arr\":[{\"_typename\":\"TFrame\",\"fUniqueID\":0,\"fBits\":8,\"fLineColor\":1,\"fLineStyle\":1,\"fLineWidth\":1,\"fFillColor\":0,\"fFillStyle\":1001,\"fX1\":-0.5,\"fY1\":-0.5,\"fX2\":4.5,\"fY2\":40.5,\"fBorderSize\":1,\"fBorderMode\":0},{\"_typename\":\"TH2F\",\"fUniqueID\":0,\"fBits\":520,\"fName\":\"Cluster_Size\",\"fTitle\":\"Cluster Sizes\",\"fLineColor\":602,\"fLineStyle\":1,\"fLineWidth\":1,\"fFillColor\":0,\"fFillStyle\":1001,\"fMarkerColor\":1,\"fMarkerStyle\":1,\"fMarkerSize\":1,\"fNcells\":301,\"fXaxis\":{\"_typename\":\"TAxis\",\"fUniqueID\":0,\"fBits\":0,\"fName\":\"xaxis\",\"fTitle\":\"\",\"fNdivisions\":510,\"fAxisColor\":1,\"fLabelColor\":1,\"fLabelFont\":132,\"fLabelOffset\":0.005,\"fLabelSize\":0.09,\"fTickLength\":0.03,\"fTitleOffset\":1,\"fTitleSize\":0.1,\"fTitleColor\":1,\"fTitleFont\":132,\"fNbins\":5,\"fXmin\":-0.5,\"fXmax\":4.5,\"fXbins\":[],\"fFirst\":0,\"fLast\":0,\"fBits2\":0,\"fTimeDisplay\":false,\"fTimeFormat\":\"\",\"fLabels\":null,\"fModLabs\":null},\"fYaxis\":{\"_typename\":\"TAxis\",\"fUniqueID\":0,\"fBits\":0,\"fName\":\"yaxis\",\"fTitle\":\"\",\"fNdivisions\":510,\"fAxisColor\":1,\"fLabelColor\":1,\"fLabelFont\":132,\"fLabelOffset\":0.005,\"fLabelSize\":0.09,\"fTickLength\":0.03,\"fTitleOffset\":0,\"fTitleSize\":0.1,\"fTitleColor\":1,\"fTitleFont\":132,\"fNbins\":41,\"fXmin\":-0.5,\"fXmax\":40.5,\"fXbins\":[],\"fFirst\":0,\"fLast\":0,\"fBits2\":0,\"fTimeDisplay\":false,\"fTimeFormat\":\"\",\"fLabels\":null,\"fModLabs\":null},\"fZaxis\":{\"_typename\":\"TAxis\",\"fUniqueID\":0,\"fBits\":0,\"fName\":\"zaxis\",\"fTitle\":\"\",\"fNdivisions\":510,\"fAxisColor\":1,\"fLabelColor\":1,\"fLabelFont\":132,\"fLabelOffset\":0.005,\"fLabelSize\":0.09,\"fTickLength\":0.03,\"fTitleOffset\":1,\"fTitleSize\":0.035,\"fTitleColor\":1,\"fTitleFont\":132,\"fNbins\":1,\"fXmin\":0,\"fXmax\":1,\"fXbins\":[],\"fFirst\":0,\"fLast\":0,\"fBits2\":0,\"fTimeDisplay\":false,\"fTimeFormat\":\"\",\"fLabels\":null,\"fModLabs\":null},\"fBarOffset\":0,\"fBarWidth\":1000,\"fEntries\":5328490,\"fTsumw\":5291754,\"fTsumw2\":5291754,\"fTsumwx\":11891663,\"fTsumwx2\":35087991,\"fMaximum\":-1111,\"fMinimum\":-1111,\"fNormFactor\":0,\"fContour\":[0,9027.1,18054.2,27081.3,36108.4,45135.5,54162.6,63189.7,72216.8,81243.9,90271,99298.1,108325.2,117352.3,126379.4,135406.5,144433.6,153460.7,162487.8,171514.9],\"fSumw2\":[],\"fOption\":\"\",\"fFunctions\":{\"_typename\":\"TList\",\"name\":\"TList\",\"arr\":[{\"_typename\":\"TPaletteAxis\",\"fUniqueID\":0,\"fBits\":0,\"fLineColor\":1,\"fLineStyle\":1,\"fLineWidth\":1,\"fFillColor\":1178,\"fFillStyle\":1001,\"fX1\":4.5357142860564,\"fY1\":-0.5,\"fX2\":4.85714286056404,\"fY2\":40.5,\"fX1NDC\":0.804999995529652,\"fY1NDC\":0.200000004470348,\"fX2NDC\":0.849999995529652,\"fY2NDC\":0.899999997764826,\"fBorderSize\":4,\"fInit\":1,\"fShadowColor\":1,\"fCornerRadius\":0,\"fOption\":\"br\",\"fName\":\"TPave\",\"fAxis\":{\"_typename\":\"TGaxis\",\"fUniqueID\":0,\"fBits\":0,\"fLineColor\":1,\"fLineStyle\":1,\"fLineWidth\":1,\"fX1\":0,\"fY1\":0,\"fX2\":0,\"fY2\":0,\"fTextAngle\":0,\"fTextSize\":0.04,\"fTextAlign\":11,\"fTextColor\":1,\"fTextFont\":132,\"fWmin\":0,\"fWmax\":0,\"fGridLength\":0,\"fTickSize\":0.03,\"fLabelOffset\":0.005,\"fLabelSize\":0.09,\"fTitleOffset\":1,\"fTitleSize\":0.035,\"fNdiv\":0,\"fLabelColor\":1,\"fLabelFont\":132,\"fNModLabs\":0,\"fChopt\":\"\",\"fName\":\"\",\"fTitle\":\"\",\"fTimeFormat\":\"\",\"fFunctionName\":\"\",\"fModLabs\":null},\"fName\":\"palette\"}],\"opt\":[\"br\"]},\"fBufferSize\":0,\"fBuffer\":[],\"fBinStatErrOpt\":0,\"fStatOverflows\":2,\"fScalefactor\":1,\"fTsumwy\":63570378,\"fTsumwy2\":902494920,\"fTsumwxy\":139877580,\"fArray\":[0,0,0,0,0,0,0,0,0,0,0,0,0,0,0,15051,19267,109481,106777,25422,0,0,2926,4789,57166,69576,4290,0,0,2134,3268,32855,38542,2779,0,0,3129,5045,57956,71617,4295,0,0,1080,1908,25056,30685,1577,0,0,1394,2365,37559,47788,1843,0,0,1859,2750,42193,55642,1854,0,0,5364,5806,44242,66900,3514,0,0,17373,17821,65566,105199,10194,0,0,45657,46204,92430,166250,42185,0,0,49424,51075,85433,146550,62922,0,0,82147,84242,130505,180542,106575,0,0,80298,83318,119620,140038,107468,0,0,94846,97918,121979,108899,125217,0,0,59193,62615,73793,65710,84950,0,0,85154,88423,97260,83833,121811,0,0,51776,54567,59284,41378,74674,0,0,33283,35362,37184,24632,44485,0,0,18348,20260,22183,13801,24497,0,0,13089,14949,16320,10385,18614,0,0,9201,11127,12055,6458,13355,0,0,4417,5595,6660,4161,7371,0,0,2587,3232,4302,3215,4683,0,0,1549,2138,3080,2673,2610,0,0,894,1295,2149,2010,1426,0,0,739,1068,2036,1869,1003,0,0,513,721,1377,1369,610,0,0,399,597,1245,1232,487,0,0,295,465,1102,1076,366,0,0,277,467,966,927,333,0,0,206,333,823,782,243,0,0,199,345,885,820,236,0,0,161,242,620,581,172,0,0,166,286,689,562,179,0,0,106,210,508,417,127,0,0,97,166,438,413,123,0,0,84,140,322,328,69,0,0,74,147,408,368,77,0,0,40,94,257,258,38,0,0,36,72,246,288,39,0,0,259,1015,15942,19323,197,0]},{\"_typename\":\"TPaveText\",\"fUniqueID\":0,\"fBits\":9,\"fLineColor\":1,\"fLineStyle\":1,\"fLineWidth\":1,\"fFillColor\":0,\"fFillStyle\":0,\"fX1\":0.254314468729128,\"fY1\":38.977143291165,\"fX2\":4.45997126836449,\"fY2\":46.0642861777955,\"fX1NDC\":0.205604026845638,\"fY1NDC\":0.874000005424023,\"fX2NDC\":0.794395973154362,\"fY2NDC\":0.995000004768372,\"fBorderSize\":0,\"fInit\":1,\"fShadowColor\":1,\"fCornerRadius\":0,\"fOption\":\"blNDC\",\"fName\":\"title\",\"fTextAngle\":0,\"fTextSize\":0,\"fTextAlign\":22,\"fTextColor\":1,\"fTextFont\":132,\"fLabel\":\"\",\"fLongest\":13,\"fMargin\":0.05,\"fLines\":{\"_typename\":\"TList\",\"name\":\"TList\",\"arr\":[{\"_typename\":\"TLatex\",\"fUniqueID\":0,\"fBits\":0,\"fName\":\"\",\"fTitle\":\"Cluster Sizes\",\"fTextAngle\":0,\"fTextSize\":0,\"fTextAlign\":0,\"fTextColor\":0,\"fTextFont\":0,\"fX\":0,\"fY\":0,\"fLineColor\":1,\"fLineStyle\":1,\"fLineWidth\":2,\"fLimitFactorSize\":3,\"fOriginSize\":0.102849997580051}],\"opt\":[\"\"]}},{\"_typename\":\"TStyle\",\"fUniqueID\":0,\"fBits\":0,\"fName\":\"Modern\",\"fTitle\":\"Modern Style\",\"fLineColor\":1,\"fLineStyle\":1,\"fLineWidth\":1,\"fFillColor\":19,\"fFillStyle\":1001,\"fMarkerColor\":1,\"fMarkerStyle\":1,\"fMarkerSize\":1,\"fTextAngle\":0,\"fTextSize\":0.05,\"fTextAlign\":11,\"fTextColor\":1,\"fTextFont\":132,\"fXaxis\":{\"_typename\":\"TAttAxis\",\"fNdivisions\":510,\"fAxisColor\":1,\"fLabelColor\":1,\"fLabelFont\":132,\"fLabelOffset\":0.005,\"fLabelSize\":0.09,\"fTickLength\":0.03,\"fTitleOffset\":1,\"fTitleSize\":0.1,\"fTitleColor\":1,\"fTitleFont\":132},\"fYaxis\":{\"_typename\":\"TAttAxis\",\"fNdivisions\":510,\"fAxisColor\":1,\"fLabelColor\":1,\"fLabelFont\":132,\"fLabelOffset\":0.005,\"fLabelSize\":0.09,\"fTickLength\":0.03,\"fTitleOffset\":0,\"fTitleSize\":0.1,\"fTitleColor\":1,\"fTitleFont\":132},\"fZaxis\":{\"_typename\":\"TAttAxis\",\"fNdivisions\":510,\"fAxisColor\":1,\"fLabelColor\":1,\"fLabelFont\":132,\"fLabelOffset\":0.005,\"fLabelSize\":0.09,\"fTickLength\":0.03,\"fTitleOffset\":1,\"fTitleSize\":0.035,\"fTitleColor\":1,\"fTitleFont\":132},\"fBarWidth\":1,\"fBarOffset\":0,\"fColorModelPS\":0,\"fDrawBorder\":0,\"fOptLogx\":0,\"fOptLogy\":0,\"fOptLogz\":0,\"fOptDate\":0,\"fOptStat\":0,\"fOptTitle\":1,\"fOptFile\":0,\"fOptFit\":0,\"fShowEventStatus\":0,\"fShowEditor\":0,\"fShowToolBar\":0,\"fNumberContours\":20,\"fAttDate\":{\"_typename\":\"TAttText\",\"fTextAngle\":0,\"fTextSize\":0.025,\"fTextAlign\":11,\"fTextColor\":1,\"fTextFont\":62},\"fDateX\":0.01,\"fDateY\":0.01,\"fEndErrorSize\":2,\"fErrorX\":0.5,\"fFuncColor\":2,\"fFuncStyle\":1,\"fFuncWidth\":2,\"fGridColor\":0,\"fGridStyle\":3,\"fGridWidth\":1,\"fLegendBorderSize\":1,\"fLegendFillColor\":0,\"fLegendFont\":42,\"fLegendTextSize\":0,\"fHatchesLineWidth\":1,\"fHatchesSpacing\":1,\"fFrameFillColor\":0,\"fFrameLineColor\":1,\"fFrameFillStyle\":1001,\"fFrameLineStyle\":1,\"fFrameLineWidth\":1,\"fFrameBorderSize\":1,\"fFrameBorderMode\":0,\"fHistFillColor\":0,\"fHistLineColor\":602,\"fHistFillStyle\":1001,\"fHistLineStyle\":1,\"fHistLineWidth\":1,\"fHistMinimumZero\":false,\"fHistTopMargin\":0.05,\"fCanvasPreferGL\":false,\"fCanvasColor\":0,\"fCanvasBorderSize\":2,\"fCanvasBorderMode\":0,\"fCanvasDefH\":500,\"fCanvasDefW\":700,\"fCanvasDefX\":10,\"fCanvasDefY\":10,\"fPadColor\":0,\"fPadBorderSize\":2,\"fPadBorderMode\":0,\"fPadBottomMargin\":0.2,\"fPadTopMargin\":0.1,\"fPadLeftMargin\":0.1,\"fPadRightMargin\":0.2,\"fPadGridX\":false,\"fPadGridY\":false,\"fPadTickX\":0,\"fPadTickY\":0,\"fPaperSizeX\":20,\"fPaperSizeY\":26,\"fScreenFactor\":1,\"fStatColor\":0,\"fStatTextColor\":1,\"fStatBorderSize\":1,\"fStatFont\":42,\"fStatFontSize\":0,\"fStatStyle\":1001,\"fStatFormat\":\"6.4g\",\"fStatX\":0.98,\"fStatY\":0.935,\"fStatW\":0.2,\"fStatH\":0.16,\"fStripDecimals\":true,\"fTitleAlign\":23,\"fTitleColor\":0,\"fTitleTextColor\":1,\"fTitleBorderSize\":0,\"fTitleFont\":132,\"fTitleFontSize\":0.11,\"fTitleStyle\":0,\"fTitleX\":0.5,\"fTitleY\":0.995,\"fTitleW\":0,\"fTitleH\":0,\"fLegoInnerR\":0.5,\"fLineStyle\":[\"\",\"  \",\" 12 12\",\" 4 8\",\" 12 16 4 16\",\" 20 12 4 12\",\" 20 12 4 12 4 12 4 12\",\" 20 20\",\" 20 12 4 12 4 12\",\" 80 20\",\" 80 40 4 40\",\"  \",\"  \",\"  \",\"  \",\"  \",\"  \",\"  \",\"  \",\"  \",\"  \",\"  \",\"  \",\"  \",\"  \",\"  \",\"  \",\"  \",\"  \",\"  \"],\"fHeaderPS\":\"\",\"fTitlePS\":\"\",\"fFitFormat\":\"5.4g\",\"fPaintTextFormat\":\".1f\",\"fLineScalePS\":3,\"fJoinLinePS\":0,\"fCapLinePS\":0,\"fTimeOffset\":788918400,\"fImageScaling\":1}],\"opt\":[\"\",\"COLZ\",\"blNDC\",\"\"]},\"fExecs\":null,\"fName\":\"c1\",\"fTitle\":\"\",\"fNumPaletteColor\":0,\"fNextPaletteColor\":0,\"fDISPLAY\":\"$DISPLAY\",\"fDoubleBuffer\":0,\"fRetained\":true,\"fXsizeUser\":0,\"fYsizeUser\":0,\"fXsizeReal\":20,\"fYsizeReal\":20,\"fWindowTopX\":0,\"fWindowTopY\":0,\"fWindowWidth\":0,\"fWindowHeight\":0,\"fCw\":596,\"fCh\":572,\"fCatt\":{\"_typename\":\"TAttCanvas\",\"fXBetween\":2,\"fYBetween\":2,\"fTitleFromTop\":1.2,\"fXdate\":0.2,\"fYdate\":0.3,\"fAdate\":1},\"kMoveOpaque\":true,\"kResizeOpaque\":true,\"fHighLightColor\":2,\"fBatch\":true,\"kShowEventStatus\":false,\"kAutoExec\":true,\"kMenuBar\":true});\n",
       "   Core.settings.HandleKeys = false;\n",
       "   Core.draw(\"root_plot_1699008967939\", obj, \"\");\n",
       "}\n",
       "\n",
       "function script_load_root_plot_1699008967939(src, on_error) {\n",
       "    let script = document.createElement('script');\n",
       "    script.src = src;\n",
       "    script.onload = function() { display_root_plot_1699008967939(JSROOT); };\n",
       "    script.onerror = function() { script.remove(); on_error(); };\n",
       "    document.head.appendChild(script);\n",
       "}\n",
       "\n",
       "if (typeof requirejs !== 'undefined') {\n",
       "\n",
       "    // We are in jupyter notebooks, use require.js which should be configured already\n",
       "    requirejs.config({\n",
       "       paths: { 'JSRootCore' : [ 'scripts/JSRoot.core', 'https://root.cern/js/6.1.1/scripts/JSRoot.core.min', 'https://jsroot.gsi.de/6.1.1/scripts/JSRoot.core.min' ] }\n",
       "    })(['JSRootCore'],  function(Core) {\n",
       "       display_root_plot_1699008967939(Core);\n",
       "    });\n",
       "\n",
       "} else if (typeof JSROOT !== 'undefined') {\n",
       "\n",
       "   // JSROOT already loaded, just use it\n",
       "   display_root_plot_1699008967939(JSROOT);\n",
       "\n",
       "} else {\n",
       "\n",
       "    // We are in jupyterlab without require.js, directly loading jsroot\n",
       "    // Jupyterlab might be installed in a different base_url so we need to know it.\n",
       "    try {\n",
       "        var base_url = JSON.parse(document.getElementById('jupyter-config-data').innerHTML).baseUrl;\n",
       "    } catch(_) {\n",
       "        var base_url = '/';\n",
       "    }\n",
       "\n",
       "    // Try loading a local version of requirejs and fallback to cdn if not possible.\n",
       "    script_load_root_plot_1699008967939(base_url + 'static/scripts/JSRoot.core.js', function(){\n",
       "        console.error('Fail to load JSROOT locally, please check your jupyter_notebook_config.py file');\n",
       "        script_load_root_plot_1699008967939('https://root.cern/js/6.1.1/scripts/JSRoot.core.min.js', function(){\n",
       "            document.getElementById(\"root_plot_1699008967939\").innerHTML = \"Failed to load JSROOT\";\n",
       "        });\n",
       "    });\n",
       "}\n",
       "\n",
       "</script>\n"
      ],
      "text/plain": [
       "<IPython.core.display.HTML object>"
      ]
     },
     "metadata": {},
     "output_type": "display_data"
    }
   ],
   "source": [
    "%jsroot on\n",
    "path = \"/home/cehrich/Software/uits3_krakow22/noFlipNeeded/run456114514_221112120005.pkl\" \n",
    "detectors = [\"ALPIDE_0\",\"ALPIDE_1\",\"ALPIDE_2\",\"ALPIDE_3\",\"ALPIDE_4\"]\n",
    "canvas = ROOT.TCanvas(\"\",\"\",600,600)\n",
    "legend = ROOT.TLegend()\n",
    "\n",
    "# Calculate histogram\n",
    "hClusSize2D = ROOT.TH2F(\"Cluster_Size\", \"Cluster Sizes\",5,-0.5,4.5, 41, -0.5, 40.5)\n",
    "for event in readEvents(path,-1):\n",
    "    for index,detector in enumerate(detectors):\n",
    "        for cluster in event.clusters:\n",
    "            if cluster.detector == detector:\n",
    "                hClusSize2D.Fill(index,cluster.size)\n",
    "\n",
    "\n",
    "#Draw histogram\n",
    "#ROOT.gStyle.SetPadLeftMargin(0.1)\n",
    "ROOT.gStyle.SetPadRightMargin(0.2)\n",
    "ROOT.gStyle.SetPadBottomMargin(0.2)\n",
    "hClusSize2D.Draw(\"COLZ\")\n",
    "\n",
    "canvas.Draw()"
   ]
  },
  {
   "cell_type": "code",
   "execution_count": 10,
   "id": "4eb44d70",
   "metadata": {},
   "outputs": [
    {
     "name": "stdout",
     "output_type": "stream",
     "text": [
      "Going to process all events.\n"
     ]
    },
    {
     "name": "stderr",
     "output_type": "stream",
     "text": [
      "Warning in <TROOT::Append>: Replacing existing TH1: ALPIDE_occupancy (Potential memory leak).\n",
      "Warning in <TROOT::Append>: Replacing existing TH1: ALPIDE_occupancy (Potential memory leak).\n",
      "Info in <TCanvas::Print>: pdf file cluster_occupancy_plots.pdf has been created\n"
     ]
    },
    {
     "data": {
      "image/png": "[encoded data removed]",
      "text/plain": [
       "<IPython.core.display.Image object>"
      ]
     },
     "metadata": {},
     "output_type": "display_data"
    }
   ],
   "source": [
    "# %jsroot on\n",
    "detectors = [\"ALPIDE_0\",\"ALPIDE_1\",\"ALPIDE_2\",\"ALPIDE_3\",\"ALPIDE_4\"]\n",
    "canvas = ROOT.TCanvas(\"\",\"\",1300,600)\n",
    "canvas.Divide(2,1)\n",
    "legend = ROOT.TLegend()\n",
    "\n",
    "# Calculate histogram\n",
    "hClusSize = ROOT.TH1F(\"ALPIDE_occupancy\", \"Total Cluster Occupancy\", 5, -0.5, 4.5)\n",
    "hClusSize1 = ROOT.TH1F(\"ALPIDE_occupancy\", \"7 to 20 px Cluster Occupancy\", 5, -0.5, 4.5)\n",
    "for event in readEvents(\"/home/cehrich/Software/uits3_krakow22/pickleNeedsFlip/run456195948_221112200957.pkl\" ,-1):\n",
    "    for cluster in event.clusters:\n",
    "        hClusSize.Fill(cluster.detector,1)\n",
    "        if 20 > cluster.size > 7:\n",
    "            hClusSize1.Fill(cluster.detector,1)\n",
    "\n",
    "# Set bin labels\n",
    "for i, det in enumerate(detectors):\n",
    "    hClusSize.GetXaxis().SetBinLabel(i+1, det.replace('_', ' '))\n",
    "    hClusSize1.GetXaxis().SetBinLabel(i+1, det.replace('_', ' '))\n",
    "\n",
    "#Draw histogram\n",
    "canvas.cd(1)\n",
    "ROOT.gPad.SetGrid(2)\n",
    "hClusSize.SetLineWidth(2)\n",
    "hClusSize.SetLineColor(ROOT.kBlack)\n",
    "hClusSize.SetMinimum(0)\n",
    "hClusSize.Draw(\"SAME HIST\")\n",
    "canvas.cd(2)\n",
    "ROOT.gPad.SetGrid(2)\n",
    "hClusSize1.SetLineWidth(2)\n",
    "hClusSize1.SetLineColor(ROOT.kBlack)\n",
    "hClusSize1.SetMinimum(0)\n",
    "hClusSize1.Draw(\"SAME HIST\")\n",
    "\n",
    "ROOT.gStyle.SetPadLeftMargin(0.15)\n",
    "ROOT.gStyle.SetPadRightMargin(0.3)\n",
    "ROOT.gStyle.SetPadBottomMargin(0.25)\n",
    "ROOT.gStyle.SetPadTopMargin(0.19)\n",
    "canvas.Draw()\n",
    "\n",
    "canvas.SaveAs(\"cluster_occupancy_plots.pdf\")"
   ]
  },
  {
   "cell_type": "code",
   "execution_count": 11,
   "id": "5f8358ef",
   "metadata": {},
   "outputs": [
    {
     "name": "stderr",
     "output_type": "stream",
     "text": [
      "Info in <TCanvas::Print>: pdf file cluster_occupancy_plots.pdf has been created\n"
     ]
    },
    {
     "data": {
      "image/png": "[encoded data removed]",
      "text/plain": [
       "<IPython.core.display.Image object>"
      ]
     },
     "metadata": {},
     "output_type": "display_data"
    }
   ],
   "source": [
    "#Draw histogram\n",
    "canvas.cd(1)\n",
    "ROOT.gPad.SetGrid(2)\n",
    "hClusSize.SetLineWidth(2)\n",
    "hClusSize.SetLineColor(ROOT.kBlack)\n",
    "hClusSize.SetMinimum(0)\n",
    "hClusSize.Draw(\"SAME HIST\")\n",
    "canvas.cd(2)\n",
    "ROOT.gPad.SetGrid(2)\n",
    "hClusSize1.SetLineWidth(2)\n",
    "hClusSize1.SetLineColor(ROOT.kBlack)\n",
    "hClusSize1.SetMinimum(0)\n",
    "hClusSize1.Draw(\"SAME HIST\")\n",
    "\n",
    "ROOT.gStyle.SetPadLeftMargin(0.15)\n",
    "ROOT.gStyle.SetPadRightMargin(0.3)\n",
    "ROOT.gStyle.SetPadBottomMargin(0.25)\n",
    "ROOT.gStyle.SetPadTopMargin(0.19)\n",
    "canvas.Draw()\n",
    "\n",
    "canvas.SaveAs(\"cluster_occupancy_plots.pdf\")"
   ]
  },
  {
   "cell_type": "code",
   "execution_count": 153,
   "id": "4d6ed64f",
   "metadata": {},
   "outputs": [
    {
     "name": "stderr",
     "output_type": "stream",
     "text": [
      "Warning in <TROOT::Append>: Replacing existing TH1: Cluster_Size_vs_ColWidthALPIDE_0 (Potential memory leak).\n",
      "Warning in <TROOT::Append>: Replacing existing TH1: Cluster_Size_vs_ColWidthALPIDE_1 (Potential memory leak).\n",
      "Warning in <TROOT::Append>: Replacing existing TH1: Cluster_Size_vs_ColWidthALPIDE_2 (Potential memory leak).\n",
      "Warning in <TROOT::Append>: Replacing existing TH1: Cluster_Size_vs_ColWidthALPIDE_3 (Potential memory leak).\n",
      "Warning in <TROOT::Append>: Replacing existing TH1: Cluster_Size_vs_ColWidthALPIDE_4 (Potential memory leak).\n",
      "Info in <TCanvas::Print>: pdf file cluster_size_vs_col_width.pdf has been created\n"
     ]
    },
    {
     "data": {
      "text/html": [
       "\n",
       "\n",
       "<div id=\"root_plot_1699372906609\"\n",
       "     style=\"width: 900px; height: 600px\">\n",
       "</div>\n",
       "<script>\n",
       "\n",
       "function display_root_plot_1699372906609(Core) {\n",
       "   let obj = Core.parse({\"_typename\":\"TCanvas\",\"fUniqueID\":0,\"fBits\":3342344,\"fLineColor\":1,\"fLineStyle\":1,\"fLineWidth\":1,\"fFillColor\":0,\"fFillStyle\":1001,\"fLeftMargin\":0.3,\"fRightMargin\":0.2,\"fBottomMargin\":0.2,\"fTopMargin\":0.19,\"fXfile\":2,\"fYfile\":2,\"fAfile\":1,\"fXstat\":0.99,\"fYstat\":0.99,\"fAstat\":2,\"fFrameFillColor\":0,\"fFrameLineColor\":1,\"fFrameFillStyle\":1001,\"fFrameLineStyle\":1,\"fFrameLineWidth\":1,\"fFrameBorderSize\":1,\"fFrameBorderMode\":0,\"fX1\":0,\"fY1\":0,\"fX2\":1,\"fY2\":1,\"fXtoAbsPixelk\":5e-5,\"fXtoPixelk\":5e-5,\"fXtoPixel\":900,\"fYtoAbsPixelk\":600.00005,\"fYtoPixelk\":600.00005,\"fYtoPixel\":-600,\"fUtoAbsPixelk\":5e-5,\"fUtoPixelk\":5e-5,\"fUtoPixel\":900,\"fVtoAbsPixelk\":600.00005,\"fVtoPixelk\":600,\"fVtoPixel\":-600,\"fAbsPixeltoXk\":0,\"fPixeltoXk\":0,\"fPixeltoX\":0.00111111111111111,\"fAbsPixeltoYk\":1,\"fPixeltoYk\":0,\"fPixeltoY\":-0.00166666666666667,\"fXlowNDC\":0,\"fYlowNDC\":0,\"fXUpNDC\":1,\"fYUpNDC\":1,\"fWNDC\":1,\"fHNDC\":1,\"fAbsXlowNDC\":0,\"fAbsYlowNDC\":0,\"fAbsWNDC\":1,\"fAbsHNDC\":1,\"fUxmin\":0,\"fUymin\":0,\"fUxmax\":1,\"fUymax\":1,\"fTheta\":30,\"fPhi\":30,\"fAspectRatio\":0,\"fNumber\":0,\"fTickx\":0,\"fTicky\":0,\"fLogx\":0,\"fLogy\":0,\"fLogz\":0,\"fPadPaint\":0,\"fCrosshair\":0,\"fCrosshairPos\":0,\"fBorderSize\":2,\"fBorderMode\":0,\"fModified\":false,\"fGridx\":false,\"fGridy\":false,\"fAbsCoord\":false,\"fEditable\":true,\"fFixedAspectRatio\":false,\"fPrimitives\":{\"_typename\":\"TList\",\"name\":\"TList\",\"arr\":[{\"_typename\":\"TPad\",\"fUniqueID\":0,\"fBits\":9,\"fLineColor\":1,\"fLineStyle\":1,\"fLineWidth\":1,\"fFillColor\":0,\"fFillStyle\":1001,\"fLeftMargin\":0.3,\"fRightMargin\":0.2,\"fBottomMargin\":0.2,\"fTopMargin\":0.19,\"fXfile\":2,\"fYfile\":2,\"fAfile\":1,\"fXstat\":0.99,\"fYstat\":0.99,\"fAstat\":2,\"fFrameFillColor\":0,\"fFrameLineColor\":1,\"fFrameFillStyle\":1001,\"fFrameLineStyle\":1,\"fFrameLineWidth\":1,\"fFrameBorderSize\":1,\"fFrameBorderMode\":0,\"fX1\":-18.0000007152557,\"fY1\":-3.27868849655788,\"fX2\":42.0000001788139,\"fY2\":13.1147539862315,\"fXtoAbsPixelk\":93.6000520205974,\"fXtoPixelk\":84.6000522217631,\"fXtoPixel\":4.69999993667007,\"fYtoAbsPixelk\":236.400050080466,\"fYtoPixelk\":230.400050214577,\"fYtoPixel\":-17.5680001665652,\"fUtoAbsPixelk\":9.00004979883432,\"fUtoPixelk\":5e-5,\"fUtoPixel\":282.000000402331,\"fVtoAbsPixelk\":294.00005013411,\"fVtoPixelk\":288.000000268221,\"fVtoPixel\":-288.000000268221,\"fAbsPixeltoXk\":-19.914894315278,\"fPixeltoXk\":-18.0000007152557,\"fPixeltoX\":0.212765960313714,\"fAbsPixeltoYk\":13.4562840300044,\"fPixeltoYk\":-3.27868849655788,\"fPixeltoY\":-0.0569216752344508,\"fXlowNDC\":0.00999999977648258,\"fYlowNDC\":0.509999999776483,\"fXUpNDC\":0.323333333556851,\"fYUpNDC\":0.990000000223517,\"fWNDC\":0.313333333780368,\"fHNDC\":0.480000000447035,\"fAbsXlowNDC\":0.00999999977648258,\"fAbsYlowNDC\":0.509999999776483,\"fAbsWNDC\":0.313333333780368,\"fAbsHNDC\":0.480000000447035,\"fUxmin\":0,\"fUymin\":0,\"fUxmax\":30,\"fUymax\":10,\"fTheta\":30,\"fPhi\":30,\"fAspectRatio\":0,\"fNumber\":1,\"fTickx\":0,\"fTicky\":0,\"fLogx\":0,\"fLogy\":0,\"fLogz\":0,\"fPadPaint\":0,\"fCrosshair\":0,\"fCrosshairPos\":0,\"fBorderSize\":2,\"fBorderMode\":0,\"fModified\":false,\"fGridx\":false,\"fGridy\":false,\"fAbsCoord\":false,\"fEditable\":true,\"fFixedAspectRatio\":false,\"fPrimitives\":{\"_typename\":\"TList\",\"name\":\"TList\",\"arr\":[{\"_typename\":\"TFrame\",\"fUniqueID\":0,\"fBits\":8,\"fLineColor\":1,\"fLineStyle\":1,\"fLineWidth\":1,\"fFillColor\":0,\"fFillStyle\":1001,\"fX1\":0,\"fY1\":0,\"fX2\":30,\"fY2\":10,\"fBorderSize\":1,\"fBorderMode\":0},{\"_typename\":\"TH2F\",\"fUniqueID\":0,\"fBits\":520,\"fName\":\"Cluster_Size_vs_ColWidthALPIDE_0\",\"fTitle\":\"ALPIDE 0\",\"fLineColor\":602,\"fLineStyle\":1,\"fLineWidth\":1,\"fFillColor\":0,\"fFillStyle\":1001,\"fMarkerColor\":1,\"fMarkerStyle\":1,\"fMarkerSize\":1,\"fNcells\":384,\"fXaxis\":{\"_typename\":\"TAxis\",\"fUniqueID\":0,\"fBits\":0,\"fName\":\"xaxis\",\"fTitle\":\" Cluster Size [px]\",\"fNdivisions\":510,\"fAxisColor\":1,\"fLabelColor\":1,\"fLabelFont\":132,\"fLabelOffset\":0.005,\"fLabelSize\":0.09,\"fTickLength\":0.03,\"fTitleOffset\":1,\"fTitleSize\":0.1,\"fTitleColor\":1,\"fTitleFont\":132,\"fNbins\":30,\"fXmin\":0,\"fXmax\":30,\"fXbins\":[],\"fFirst\":0,\"fLast\":0,\"fBits2\":0,\"fTimeDisplay\":false,\"fTimeFormat\":\"\",\"fLabels\":null,\"fModLabs\":null},\"fYaxis\":{\"_typename\":\"TAxis\",\"fUniqueID\":0,\"fBits\":0,\"fName\":\"yaxis\",\"fTitle\":\" Column Width [px]\",\"fNdivisions\":510,\"fAxisColor\":1,\"fLabelColor\":1,\"fLabelFont\":132,\"fLabelOffset\":0.005,\"fLabelSize\":0.09,\"fTickLength\":0.03,\"fTitleOffset\":0,\"fTitleSize\":0.1,\"fTitleColor\":1,\"fTitleFont\":132,\"fNbins\":10,\"fXmin\":0,\"fXmax\":10,\"fXbins\":[],\"fFirst\":0,\"fLast\":0,\"fBits2\":0,\"fTimeDisplay\":false,\"fTimeFormat\":\"\",\"fLabels\":null,\"fModLabs\":null},\"fZaxis\":{\"_typename\":\"TAxis\",\"fUniqueID\":0,\"fBits\":0,\"fName\":\"zaxis\",\"fTitle\":\"\",\"fNdivisions\":510,\"fAxisColor\":1,\"fLabelColor\":1,\"fLabelFont\":132,\"fLabelOffset\":0.005,\"fLabelSize\":0.09,\"fTickLength\":0.03,\"fTitleOffset\":1,\"fTitleSize\":0.035,\"fTitleColor\":1,\"fTitleFont\":132,\"fNbins\":1,\"fXmin\":0,\"fXmax\":1,\"fXbins\":[],\"fFirst\":0,\"fLast\":0,\"fBits2\":0,\"fTimeDisplay\":false,\"fTimeFormat\":\"\",\"fLabels\":null,\"fModLabs\":null},\"fBarOffset\":0,\"fBarWidth\":1000,\"fEntries\":31541,\"fTsumw\":31430,\"fTsumw2\":31430,\"fTsumwx\":434064,\"fTsumwx2\":6449290,\"fMaximum\":-1111,\"fMinimum\":-1111,\"fNormFactor\":0,\"fContour\":[0,213.95,427.9,641.85,855.8,1069.75,1283.7,1497.65,1711.6,1925.55,2139.5,2353.45,2567.4,2781.35,2995.3,3209.25,3423.2,3637.15,3851.1,4065.05],\"fSumw2\":[],\"fOption\":\"\",\"fFunctions\":{\"_typename\":\"TList\",\"name\":\"TList\",\"arr\":[{\"_typename\":\"TPaletteAxis\",\"fUniqueID\":0,\"fBits\":0,\"fLineColor\":1,\"fLineStyle\":1,\"fLineWidth\":1,\"fFillColor\":1178,\"fFillStyle\":1001,\"fX1\":30.3000000044703,\"fY1\":0,\"fX2\":33.0000000447035,\"fY2\":10,\"fX1NDC\":0.805,\"fY1NDC\":0.2,\"fX2NDC\":0.85,\"fY2NDC\":0.810000005215406,\"fBorderSize\":4,\"fInit\":1,\"fShadowColor\":1,\"fCornerRadius\":0,\"fOption\":\"br\",\"fName\":\"TPave\",\"fAxis\":{\"_typename\":\"TGaxis\",\"fUniqueID\":0,\"fBits\":0,\"fLineColor\":1,\"fLineStyle\":1,\"fLineWidth\":1,\"fX1\":0,\"fY1\":0,\"fX2\":0,\"fY2\":0,\"fTextAngle\":0,\"fTextSize\":0.04,\"fTextAlign\":11,\"fTextColor\":1,\"fTextFont\":132,\"fWmin\":0,\"fWmax\":0,\"fGridLength\":0,\"fTickSize\":0.03,\"fLabelOffset\":0.005,\"fLabelSize\":0.09,\"fTitleOffset\":1,\"fTitleSize\":0.035,\"fNdiv\":0,\"fLabelColor\":1,\"fLabelFont\":132,\"fNModLabs\":0,\"fChopt\":\"\",\"fName\":\"\",\"fTitle\":\"\",\"fTimeFormat\":\"\",\"fFunctionName\":\"\",\"fModLabs\":null},\"fName\":\"palette\"}],\"opt\":[\"br\"]},\"fBufferSize\":0,\"fBuffer\":[],\"fBinStatErrOpt\":0,\"fStatOverflows\":2,\"fScalefactor\":1,\"fTsumwy\":120101,\"fTsumwy2\":476295,\"fTsumwxy\":1734409,\"fArray\":[0,0,0,0,0,0,0,0,0,0,0,0,0,0,0,0,0,0,0,0,0,0,0,0,0,0,0,0,0,0,0,0,0,0,0,0,0,0,0,0,0,0,0,0,0,0,0,0,0,0,0,0,0,0,0,0,0,0,0,0,0,0,0,0,0,0,683,84,1,0,0,0,0,0,0,0,0,0,0,0,0,0,0,0,0,0,0,0,0,0,0,0,0,0,0,0,0,0,0,55,94,117,29,30,1,1,0,1,0,0,0,0,0,0,0,0,0,0,0,0,0,0,0,0,0,0,0,0,0,0,0,0,4,6,22,27,77,205,749,1913,1601,1469,173,16,5,3,0,0,2,0,0,0,0,0,0,0,0,0,0,1,0,0,0,0,0,1,0,1,0,33,48,143,648,2316,3607,4279,2485,3497,1963,1095,224,139,29,16,10,10,5,1,6,11,5,21,0,0,0,0,0,0,0,0,0,0,0,1,0,2,4,61,209,328,421,459,613,454,411,214,97,49,24,18,6,2,0,24,0,0,0,0,0,0,0,0,0,0,0,0,0,0,0,0,0,1,2,1,0,1,3,14,14,11,19,13,8,13,11,62,0,0,0,0,0,0,0,0,0,0,0,0,0,0,1,0,0,1,0,1,0,1,0,1,0,0,0,0,0,1,0,3,0,0,0,0,0,0,0,0,0,0,0,0,0,0,0,0,0,0,0,0,0,0,0,0,0,0,0,0,0,0,0,0,0,0,0,0,0,0,0,0,0,0,0,0,0,0,0,0,0,0,0,0,0,0,0,0,0,0,0,0,0,0,0,0,0,0,0,0,0,0,0,0,0,0,0,0,0,0,0,0,0,0,0,0,0,0,0,0,0,0,0,0,0,0,0,0]},{\"_typename\":\"TPaveText\",\"fUniqueID\":0,\"fBits\":9,\"fLineColor\":1,\"fLineStyle\":1,\"fLineWidth\":1,\"fFillColor\":0,\"fFillStyle\":0,\"fX1\":-3.17446855865099,\"fY1\":11.0491803223185,\"fX2\":27.1744680222092,\"fY2\":13.0327868519876,\"fX1NDC\":0.247092198928119,\"fY1NDC\":0.874000005424023,\"fX2NDC\":0.752907801071881,\"fY2NDC\":0.995000004768372,\"fBorderSize\":0,\"fInit\":1,\"fShadowColor\":1,\"fCornerRadius\":0,\"fOption\":\"blNDC\",\"fName\":\"title\",\"fTextAngle\":0,\"fTextSize\":0,\"fTextAlign\":22,\"fTextColor\":1,\"fTextFont\":132,\"fLabel\":\"\",\"fLongest\":8,\"fMargin\":0.05,\"fLines\":{\"_typename\":\"TList\",\"name\":\"TList\",\"arr\":[{\"_typename\":\"TLatex\",\"fUniqueID\":0,\"fBits\":0,\"fName\":\"\",\"fTitle\":\"ALPIDE 0\",\"fTextAngle\":0,\"fTextSize\":0,\"fTextAlign\":0,\"fTextColor\":0,\"fTextFont\":0,\"fX\":0,\"fY\":0,\"fLineColor\":1,\"fLineStyle\":1,\"fLineWidth\":2,\"fLimitFactorSize\":3,\"fOriginSize\":0.102849997580051}],\"opt\":[\"\"]}}],\"opt\":[\"\",\"COLZ\",\"blNDC\"]},\"fExecs\":{\"_typename\":\"TList\",\"name\":\"TList\",\"arr\":[],\"opt\":[]},\"fName\":\"c1_n2_1\",\"fTitle\":\"c1_n2_1\",\"fNumPaletteColor\":0,\"fNextPaletteColor\":0},{\"_typename\":\"TPad\",\"fUniqueID\":0,\"fBits\":9,\"fLineColor\":1,\"fLineStyle\":1,\"fLineWidth\":1,\"fFillColor\":0,\"fFillStyle\":1001,\"fLeftMargin\":0.3,\"fRightMargin\":0.2,\"fBottomMargin\":0.2,\"fTopMargin\":0.19,\"fXfile\":2,\"fYfile\":2,\"fAfile\":1,\"fXstat\":0.99,\"fYstat\":0.99,\"fAstat\":2,\"fFrameFillColor\":0,\"fFrameLineColor\":1,\"fFrameFillStyle\":1001,\"fFrameLineStyle\":1,\"fFrameLineWidth\":1,\"fFrameBorderSize\":1,\"fFrameBorderMode\":0,\"fX1\":-18.0000007152557,\"fY1\":-3.27868849655788,\"fX2\":42.0000001788139,\"fY2\":13.1147539862315,\"fXtoAbsPixelk\":393.600052020597,\"fXtoPixelk\":84.6000522217631,\"fXtoPixel\":4.69999993667007,\"fYtoAbsPixelk\":236.400050080466,\"fYtoPixelk\":230.400050214577,\"fYtoPixel\":-17.5680001665652,\"fUtoAbsPixelk\":309.000049798834,\"fUtoPixelk\":5e-5,\"fUtoPixel\":282.000000402331,\"fVtoAbsPixelk\":294.00005013411,\"fVtoPixelk\":288.000000268221,\"fVtoPixel\":-288.000000268221,\"fAbsPixeltoXk\":-83.7446824093921,\"fPixeltoXk\":-18.0000007152557,\"fPixeltoX\":0.212765960313714,\"fAbsPixeltoYk\":13.4562840300044,\"fPixeltoYk\":-3.27868849655788,\"fPixeltoY\":-0.0569216752344508,\"fXlowNDC\":0.343333333109816,\"fYlowNDC\":0.509999999776483,\"fXUpNDC\":0.656666666890184,\"fYUpNDC\":0.990000000223517,\"fWNDC\":0.313333333780368,\"fHNDC\":0.480000000447035,\"fAbsXlowNDC\":0.343333333109816,\"fAbsYlowNDC\":0.509999999776483,\"fAbsWNDC\":0.313333333780368,\"fAbsHNDC\":0.480000000447035,\"fUxmin\":0,\"fUymin\":0,\"fUxmax\":30,\"fUymax\":10,\"fTheta\":30,\"fPhi\":30,\"fAspectRatio\":0,\"fNumber\":2,\"fTickx\":0,\"fTicky\":0,\"fLogx\":0,\"fLogy\":0,\"fLogz\":0,\"fPadPaint\":0,\"fCrosshair\":0,\"fCrosshairPos\":0,\"fBorderSize\":2,\"fBorderMode\":0,\"fModified\":false,\"fGridx\":false,\"fGridy\":false,\"fAbsCoord\":false,\"fEditable\":true,\"fFixedAspectRatio\":false,\"fPrimitives\":{\"_typename\":\"TList\",\"name\":\"TList\",\"arr\":[{\"_typename\":\"TFrame\",\"fUniqueID\":0,\"fBits\":8,\"fLineColor\":1,\"fLineStyle\":1,\"fLineWidth\":1,\"fFillColor\":0,\"fFillStyle\":1001,\"fX1\":0,\"fY1\":0,\"fX2\":30,\"fY2\":10,\"fBorderSize\":1,\"fBorderMode\":0},{\"_typename\":\"TH2F\",\"fUniqueID\":0,\"fBits\":520,\"fName\":\"Cluster_Size_vs_ColWidthALPIDE_1\",\"fTitle\":\"ALPIDE 1\",\"fLineColor\":602,\"fLineStyle\":1,\"fLineWidth\":1,\"fFillColor\":0,\"fFillStyle\":1001,\"fMarkerColor\":1,\"fMarkerStyle\":1,\"fMarkerSize\":1,\"fNcells\":384,\"fXaxis\":{\"_typename\":\"TAxis\",\"fUniqueID\":0,\"fBits\":0,\"fName\":\"xaxis\",\"fTitle\":\" Cluster Size [px]\",\"fNdivisions\":510,\"fAxisColor\":1,\"fLabelColor\":1,\"fLabelFont\":132,\"fLabelOffset\":0.005,\"fLabelSize\":0.09,\"fTickLength\":0.03,\"fTitleOffset\":1,\"fTitleSize\":0.1,\"fTitleColor\":1,\"fTitleFont\":132,\"fNbins\":30,\"fXmin\":0,\"fXmax\":30,\"fXbins\":[],\"fFirst\":0,\"fLast\":0,\"fBits2\":0,\"fTimeDisplay\":false,\"fTimeFormat\":\"\",\"fLabels\":null,\"fModLabs\":null},\"fYaxis\":{\"_typename\":\"TAxis\",\"fUniqueID\":0,\"fBits\":0,\"fName\":\"yaxis\",\"fTitle\":\" Column Width [px]\",\"fNdivisions\":510,\"fAxisColor\":1,\"fLabelColor\":1,\"fLabelFont\":132,\"fLabelOffset\":0.005,\"fLabelSize\":0.09,\"fTickLength\":0.03,\"fTitleOffset\":0,\"fTitleSize\":0.1,\"fTitleColor\":1,\"fTitleFont\":132,\"fNbins\":10,\"fXmin\":0,\"fXmax\":10,\"fXbins\":[],\"fFirst\":0,\"fLast\":0,\"fBits2\":0,\"fTimeDisplay\":false,\"fTimeFormat\":\"\",\"fLabels\":null,\"fModLabs\":null},\"fZaxis\":{\"_typename\":\"TAxis\",\"fUniqueID\":0,\"fBits\":0,\"fName\":\"zaxis\",\"fTitle\":\"\",\"fNdivisions\":510,\"fAxisColor\":1,\"fLabelColor\":1,\"fLabelFont\":132,\"fLabelOffset\":0.005,\"fLabelSize\":0.09,\"fTickLength\":0.03,\"fTitleOffset\":1,\"fTitleSize\":0.035,\"fTitleColor\":1,\"fTitleFont\":132,\"fNbins\":1,\"fXmin\":0,\"fXmax\":1,\"fXbins\":[],\"fFirst\":0,\"fLast\":0,\"fBits2\":0,\"fTimeDisplay\":false,\"fTimeFormat\":\"\",\"fLabels\":null,\"fModLabs\":null},\"fBarOffset\":0,\"fBarWidth\":1000,\"fEntries\":33513,\"fTsumw\":33330,\"fTsumw2\":33330,\"fTsumwx\":457972,\"fTsumwx2\":6836492,\"fMaximum\":-1111,\"fMinimum\":-1111,\"fNormFactor\":0,\"fContour\":[0,218.85,437.7,656.55,875.4,1094.25,1313.1,1531.95,1750.8,1969.65,2188.5,2407.35,2626.2,2845.05,3063.9,3282.75,3501.6,3720.45,3939.3,4158.15],\"fSumw2\":[],\"fOption\":\"\",\"fFunctions\":{\"_typename\":\"TList\",\"name\":\"TList\",\"arr\":[{\"_typename\":\"TPaletteAxis\",\"fUniqueID\":0,\"fBits\":0,\"fLineColor\":1,\"fLineStyle\":1,\"fLineWidth\":1,\"fFillColor\":1178,\"fFillStyle\":1001,\"fX1\":30.3000000044703,\"fY1\":0,\"fX2\":33.0000000447035,\"fY2\":10,\"fX1NDC\":0.805,\"fY1NDC\":0.2,\"fX2NDC\":0.85,\"fY2NDC\":0.810000005215406,\"fBorderSize\":4,\"fInit\":1,\"fShadowColor\":1,\"fCornerRadius\":0,\"fOption\":\"br\",\"fName\":\"TPave\",\"fAxis\":{\"_typename\":\"TGaxis\",\"fUniqueID\":0,\"fBits\":0,\"fLineColor\":1,\"fLineStyle\":1,\"fLineWidth\":1,\"fX1\":0,\"fY1\":0,\"fX2\":0,\"fY2\":0,\"fTextAngle\":0,\"fTextSize\":0.04,\"fTextAlign\":11,\"fTextColor\":1,\"fTextFont\":132,\"fWmin\":0,\"fWmax\":0,\"fGridLength\":0,\"fTickSize\":0.03,\"fLabelOffset\":0.005,\"fLabelSize\":0.09,\"fTitleOffset\":1,\"fTitleSize\":0.035,\"fNdiv\":0,\"fLabelColor\":1,\"fLabelFont\":132,\"fNModLabs\":0,\"fChopt\":\"\",\"fName\":\"\",\"fTitle\":\"\",\"fTimeFormat\":\"\",\"fFunctionName\":\"\",\"fModLabs\":null},\"fName\":\"palette\"}],\"opt\":[\"br\"]},\"fBufferSize\":0,\"fBuffer\":[],\"fBinStatErrOpt\":0,\"fStatOverflows\":2,\"fScalefactor\":1,\"fTsumwy\":126879,\"fTsumwy2\":503547,\"fTsumwxy\":1834521,\"fArray\":[0,0,0,0,0,0,0,0,0,0,0,0,0,0,0,0,0,0,0,0,0,0,0,0,0,0,0,0,0,0,0,0,0,0,0,0,0,0,0,0,0,0,0,0,0,0,0,0,0,0,0,0,0,0,0,0,0,0,0,0,0,0,0,0,0,0,819,135,4,4,1,0,0,0,0,0,0,0,0,0,0,0,0,0,0,0,0,0,0,0,0,0,0,0,0,0,0,0,0,72,155,212,51,57,3,0,0,0,0,0,0,0,0,0,0,0,0,0,0,0,0,0,0,0,0,0,0,0,0,0,0,0,4,13,29,60,126,216,789,1927,1684,1512,141,15,3,4,0,1,1,1,0,2,1,0,0,0,0,0,0,0,0,0,0,0,0,1,0,0,2,31,43,188,678,2403,3708,4377,2581,3577,2078,1111,287,179,38,21,16,10,16,6,6,2,4,30,0,0,0,0,0,0,0,0,0,1,2,0,3,2,3,71,251,418,431,495,635,487,481,211,127,77,32,33,12,2,7,51,0,0,0,0,0,0,0,0,0,0,0,0,0,1,0,0,0,0,0,2,4,1,7,14,14,16,21,20,21,6,10,81,0,0,0,0,0,0,0,0,0,0,0,0,0,0,0,0,0,0,0,0,0,0,0,1,0,0,2,1,0,1,1,16,0,0,0,0,0,0,0,0,0,0,0,0,0,0,0,0,0,1,0,0,0,0,0,0,0,0,0,0,0,0,0,4,0,0,0,0,0,0,0,0,0,0,0,0,0,0,0,0,0,0,0,0,0,0,0,0,0,0,0,0,0,0,0,1,0,0,0,0,0,0,0,0,0,0,0,0,0,0,0,0,0,0,0,0,0,0,0,0,0,0,0,0,0,0,0,0]},{\"_typename\":\"TPaveText\",\"fUniqueID\":0,\"fBits\":9,\"fLineColor\":1,\"fLineStyle\":1,\"fLineWidth\":1,\"fFillColor\":0,\"fFillStyle\":0,\"fX1\":-2.96170259833727,\"fY1\":11.0491803223185,\"fX2\":26.9617020618955,\"fY2\":13.0327868519876,\"fX1NDC\":0.250638298213839,\"fY1NDC\":0.874000005424023,\"fX2NDC\":0.74936170178616,\"fY2NDC\":0.995000004768372,\"fBorderSize\":0,\"fInit\":1,\"fShadowColor\":1,\"fCornerRadius\":0,\"fOption\":\"blNDC\",\"fName\":\"title\",\"fTextAngle\":0,\"fTextSize\":0,\"fTextAlign\":22,\"fTextColor\":1,\"fTextFont\":132,\"fLabel\":\"\",\"fLongest\":8,\"fMargin\":0.05,\"fLines\":{\"_typename\":\"TList\",\"name\":\"TList\",\"arr\":[{\"_typename\":\"TLatex\",\"fUniqueID\":0,\"fBits\":0,\"fName\":\"\",\"fTitle\":\"ALPIDE 1\",\"fTextAngle\":0,\"fTextSize\":0,\"fTextAlign\":0,\"fTextColor\":0,\"fTextFont\":0,\"fX\":0,\"fY\":0,\"fLineColor\":1,\"fLineStyle\":1,\"fLineWidth\":2,\"fLimitFactorSize\":3,\"fOriginSize\":0.102849997580051}],\"opt\":[\"\"]}}],\"opt\":[\"\",\"COLZ\",\"blNDC\"]},\"fExecs\":{\"_typename\":\"TList\",\"name\":\"TList\",\"arr\":[],\"opt\":[]},\"fName\":\"c1_n2_2\",\"fTitle\":\"c1_n2_2\",\"fNumPaletteColor\":0,\"fNextPaletteColor\":0},{\"_typename\":\"TPad\",\"fUniqueID\":0,\"fBits\":9,\"fLineColor\":1,\"fLineStyle\":1,\"fLineWidth\":1,\"fFillColor\":0,\"fFillStyle\":1001,\"fLeftMargin\":0.3,\"fRightMargin\":0.2,\"fBottomMargin\":0.2,\"fTopMargin\":0.19,\"fXfile\":2,\"fYfile\":2,\"fAfile\":1,\"fXstat\":0.99,\"fYstat\":0.99,\"fAstat\":2,\"fFrameFillColor\":0,\"fFrameLineColor\":1,\"fFrameFillStyle\":1001,\"fFrameLineStyle\":1,\"fFrameLineWidth\":1,\"fFrameBorderSize\":1,\"fFrameBorderMode\":0,\"fX1\":-18.0000007152557,\"fY1\":-3.27868849655788,\"fX2\":42.0000001788139,\"fY2\":13.1147539862315,\"fXtoAbsPixelk\":693.600052020597,\"fXtoPixelk\":84.6000522217631,\"fXtoPixel\":4.69999993667007,\"fYtoAbsPixelk\":236.400050080466,\"fYtoPixelk\":230.400050214577,\"fYtoPixel\":-17.5680001665652,\"fUtoAbsPixelk\":609.000049798834,\"fUtoPixelk\":5e-5,\"fUtoPixel\":282.000000402331,\"fVtoAbsPixelk\":294.00005013411,\"fVtoPixelk\":288.000000268221,\"fVtoPixel\":-288.000000268221,\"fAbsPixeltoXk\":-147.574470503506,\"fPixeltoXk\":-18.0000007152557,\"fPixeltoX\":0.212765960313714,\"fAbsPixeltoYk\":13.4562840300044,\"fPixeltoYk\":-3.27868849655788,\"fPixeltoY\":-0.0569216752344508,\"fXlowNDC\":0.676666666443149,\"fYlowNDC\":0.509999999776483,\"fXUpNDC\":0.990000000223517,\"fYUpNDC\":0.990000000223517,\"fWNDC\":0.313333333780368,\"fHNDC\":0.480000000447035,\"fAbsXlowNDC\":0.676666666443149,\"fAbsYlowNDC\":0.509999999776483,\"fAbsWNDC\":0.313333333780368,\"fAbsHNDC\":0.480000000447035,\"fUxmin\":0,\"fUymin\":0,\"fUxmax\":30,\"fUymax\":10,\"fTheta\":30,\"fPhi\":30,\"fAspectRatio\":0,\"fNumber\":3,\"fTickx\":0,\"fTicky\":0,\"fLogx\":0,\"fLogy\":0,\"fLogz\":0,\"fPadPaint\":0,\"fCrosshair\":0,\"fCrosshairPos\":0,\"fBorderSize\":2,\"fBorderMode\":0,\"fModified\":false,\"fGridx\":false,\"fGridy\":false,\"fAbsCoord\":false,\"fEditable\":true,\"fFixedAspectRatio\":false,\"fPrimitives\":{\"_typename\":\"TList\",\"name\":\"TList\",\"arr\":[{\"_typename\":\"TFrame\",\"fUniqueID\":0,\"fBits\":8,\"fLineColor\":1,\"fLineStyle\":1,\"fLineWidth\":1,\"fFillColor\":0,\"fFillStyle\":1001,\"fX1\":0,\"fY1\":0,\"fX2\":30,\"fY2\":10,\"fBorderSize\":1,\"fBorderMode\":0},{\"_typename\":\"TH2F\",\"fUniqueID\":0,\"fBits\":520,\"fName\":\"Cluster_Size_vs_ColWidthALPIDE_2\",\"fTitle\":\"ALPIDE 2\",\"fLineColor\":602,\"fLineStyle\":1,\"fLineWidth\":1,\"fFillColor\":0,\"fFillStyle\":1001,\"fMarkerColor\":1,\"fMarkerStyle\":1,\"fMarkerSize\":1,\"fNcells\":384,\"fXaxis\":{\"_typename\":\"TAxis\",\"fUniqueID\":0,\"fBits\":0,\"fName\":\"xaxis\",\"fTitle\":\" Cluster Size [px]\",\"fNdivisions\":510,\"fAxisColor\":1,\"fLabelColor\":1,\"fLabelFont\":132,\"fLabelOffset\":0.005,\"fLabelSize\":0.09,\"fTickLength\":0.03,\"fTitleOffset\":1,\"fTitleSize\":0.1,\"fTitleColor\":1,\"fTitleFont\":132,\"fNbins\":30,\"fXmin\":0,\"fXmax\":30,\"fXbins\":[],\"fFirst\":0,\"fLast\":0,\"fBits2\":0,\"fTimeDisplay\":false,\"fTimeFormat\":\"\",\"fLabels\":null,\"fModLabs\":null},\"fYaxis\":{\"_typename\":\"TAxis\",\"fUniqueID\":0,\"fBits\":0,\"fName\":\"yaxis\",\"fTitle\":\" Column Width [px]\",\"fNdivisions\":510,\"fAxisColor\":1,\"fLabelColor\":1,\"fLabelFont\":132,\"fLabelOffset\":0.005,\"fLabelSize\":0.09,\"fTickLength\":0.03,\"fTitleOffset\":0,\"fTitleSize\":0.1,\"fTitleColor\":1,\"fTitleFont\":132,\"fNbins\":10,\"fXmin\":0,\"fXmax\":10,\"fXbins\":[],\"fFirst\":0,\"fLast\":0,\"fBits2\":0,\"fTimeDisplay\":false,\"fTimeFormat\":\"\",\"fLabels\":null,\"fModLabs\":null},\"fZaxis\":{\"_typename\":\"TAxis\",\"fUniqueID\":0,\"fBits\":0,\"fName\":\"zaxis\",\"fTitle\":\"\",\"fNdivisions\":510,\"fAxisColor\":1,\"fLabelColor\":1,\"fLabelFont\":132,\"fLabelOffset\":0.005,\"fLabelSize\":0.09,\"fTickLength\":0.03,\"fTitleOffset\":1,\"fTitleSize\":0.035,\"fTitleColor\":1,\"fTitleFont\":132,\"fNbins\":1,\"fXmin\":0,\"fXmax\":1,\"fXbins\":[],\"fFirst\":0,\"fLast\":0,\"fBits2\":0,\"fTimeDisplay\":false,\"fTimeFormat\":\"\",\"fLabels\":null,\"fModLabs\":null},\"fBarOffset\":0,\"fBarWidth\":1000,\"fEntries\":63370,\"fTsumw\":62377,\"fTsumw2\":62377,\"fTsumwx\":672821,\"fTsumwx2\":9134591,\"fMaximum\":-1111,\"fMinimum\":-1111,\"fNormFactor\":0,\"fContour\":[0,266.25,532.5,798.75,1065,1331.25,1597.5,1863.75,2130,2396.25,2662.5,2928.75,3195,3461.25,3727.5,3993.75,4260,4526.25,4792.5,5058.75],\"fSumw2\":[],\"fOption\":\"\",\"fFunctions\":{\"_typename\":\"TList\",\"name\":\"TList\",\"arr\":[{\"_typename\":\"TPaletteAxis\",\"fUniqueID\":0,\"fBits\":0,\"fLineColor\":1,\"fLineStyle\":1,\"fLineWidth\":1,\"fFillColor\":1178,\"fFillStyle\":1001,\"fX1\":30.3000000044703,\"fY1\":0,\"fX2\":33.0000000447035,\"fY2\":10,\"fX1NDC\":0.805,\"fY1NDC\":0.2,\"fX2NDC\":0.85,\"fY2NDC\":0.810000005215406,\"fBorderSize\":4,\"fInit\":1,\"fShadowColor\":1,\"fCornerRadius\":0,\"fOption\":\"br\",\"fName\":\"TPave\",\"fAxis\":{\"_typename\":\"TGaxis\",\"fUniqueID\":0,\"fBits\":0,\"fLineColor\":1,\"fLineStyle\":1,\"fLineWidth\":1,\"fX1\":0,\"fY1\":0,\"fX2\":0,\"fY2\":0,\"fTextAngle\":0,\"fTextSize\":0.04,\"fTextAlign\":11,\"fTextColor\":1,\"fTextFont\":132,\"fWmin\":0,\"fWmax\":0,\"fGridLength\":0,\"fTickSize\":0.03,\"fLabelOffset\":0.005,\"fLabelSize\":0.09,\"fTitleOffset\":1,\"fTitleSize\":0.035,\"fNdiv\":0,\"fLabelColor\":1,\"fLabelFont\":132,\"fNModLabs\":0,\"fChopt\":\"\",\"fName\":\"\",\"fTitle\":\"\",\"fTimeFormat\":\"\",\"fFunctionName\":\"\",\"fModLabs\":null},\"fName\":\"palette\"}],\"opt\":[\"br\"]},\"fBufferSize\":0,\"fBuffer\":[],\"fBinStatErrOpt\":0,\"fStatOverflows\":2,\"fScalefactor\":1,\"fTsumwy\":205762,\"fTsumwy2\":756182,\"fTsumwxy\":2571050,\"fArray\":[0,0,0,0,0,0,0,0,0,0,0,0,0,0,0,0,0,0,0,0,0,0,0,0,0,0,0,0,0,0,0,0,0,0,0,0,0,0,0,0,0,0,0,0,0,0,0,0,0,0,0,0,0,0,0,0,0,0,0,0,0,0,0,0,0,0,4978,1581,37,8,3,0,2,2,0,0,0,0,1,0,0,0,0,1,0,0,0,0,0,0,0,0,0,0,0,0,0,0,0,1107,1479,2608,681,878,36,15,1,2,3,0,2,0,1,1,0,0,0,0,1,0,1,0,0,0,0,1,1,2,0,0,0,0,32,140,436,763,1883,1746,2591,3528,2385,1755,174,35,10,4,4,1,1,1,1,0,1,0,0,0,0,0,0,12,0,0,0,0,0,4,9,9,16,218,334,795,1601,4027,5325,5321,2975,4007,2154,1115,285,190,47,22,18,18,15,10,4,7,4,108,0,0,0,0,0,0,0,0,1,1,1,1,3,14,40,124,355,527,526,617,720,534,520,260,155,100,54,45,17,12,15,461,0,0,0,0,0,0,0,0,0,0,2,1,0,1,0,0,1,1,5,4,13,10,11,22,20,28,26,34,35,32,27,291,0,0,0,0,0,0,0,0,0,0,0,0,0,0,0,0,0,0,0,0,1,2,0,0,1,0,0,2,0,0,2,76,0,0,0,0,0,0,0,0,0,0,0,0,0,0,0,0,0,0,0,0,0,1,0,0,0,0,0,1,0,0,0,24,0,0,0,0,0,0,0,0,0,0,0,0,0,0,0,0,0,0,0,0,0,0,0,0,0,0,0,0,0,0,0,2,0,0,0,0,0,0,0,0,0,0,0,0,0,0,0,0,0,0,0,0,0,0,0,0,0,0,0,0,0,0,0,17]},{\"_typename\":\"TPaveText\",\"fUniqueID\":0,\"fBits\":9,\"fLineColor\":1,\"fLineStyle\":1,\"fLineWidth\":1,\"fFillColor\":0,\"fFillStyle\":0,\"fX1\":-3.17446855865098,\"fY1\":11.0491803223185,\"fX2\":27.1744680222092,\"fY2\":13.0327868519876,\"fX1NDC\":0.247092198928119,\"fY1NDC\":0.874000005424023,\"fX2NDC\":0.752907801071881,\"fY2NDC\":0.995000004768372,\"fBorderSize\":0,\"fInit\":1,\"fShadowColor\":1,\"fCornerRadius\":0,\"fOption\":\"blNDC\",\"fName\":\"title\",\"fTextAngle\":0,\"fTextSize\":0,\"fTextAlign\":22,\"fTextColor\":1,\"fTextFont\":132,\"fLabel\":\"\",\"fLongest\":8,\"fMargin\":0.05,\"fLines\":{\"_typename\":\"TList\",\"name\":\"TList\",\"arr\":[{\"_typename\":\"TLatex\",\"fUniqueID\":0,\"fBits\":0,\"fName\":\"\",\"fTitle\":\"ALPIDE 2\",\"fTextAngle\":0,\"fTextSize\":0,\"fTextAlign\":0,\"fTextColor\":0,\"fTextFont\":0,\"fX\":0,\"fY\":0,\"fLineColor\":1,\"fLineStyle\":1,\"fLineWidth\":2,\"fLimitFactorSize\":3,\"fOriginSize\":0.102849997580051}],\"opt\":[\"\"]}}],\"opt\":[\"\",\"COLZ\",\"blNDC\"]},\"fExecs\":{\"_typename\":\"TList\",\"name\":\"TList\",\"arr\":[],\"opt\":[]},\"fName\":\"c1_n2_3\",\"fTitle\":\"c1_n2_3\",\"fNumPaletteColor\":0,\"fNextPaletteColor\":0},{\"_typename\":\"TPad\",\"fUniqueID\":0,\"fBits\":9,\"fLineColor\":1,\"fLineStyle\":1,\"fLineWidth\":1,\"fFillColor\":0,\"fFillStyle\":1001,\"fLeftMargin\":0.3,\"fRightMargin\":0.2,\"fBottomMargin\":0.2,\"fTopMargin\":0.19,\"fXfile\":2,\"fYfile\":2,\"fAfile\":1,\"fXstat\":0.99,\"fYstat\":0.99,\"fAstat\":2,\"fFrameFillColor\":0,\"fFrameLineColor\":1,\"fFrameFillStyle\":1001,\"fFrameLineStyle\":1,\"fFrameLineWidth\":1,\"fFrameBorderSize\":1,\"fFrameBorderMode\":0,\"fX1\":-18.0000007152557,\"fY1\":-3.27868849655788,\"fX2\":42.0000001788139,\"fY2\":13.1147539862315,\"fXtoAbsPixelk\":93.6000520205974,\"fXtoPixelk\":84.6000522217631,\"fXtoPixel\":4.69999993667007,\"fYtoAbsPixelk\":536.400050080466,\"fYtoPixelk\":230.400050214577,\"fYtoPixel\":-17.5680001665652,\"fUtoAbsPixelk\":9.00004979883432,\"fUtoPixelk\":5e-5,\"fUtoPixel\":282.000000402331,\"fVtoAbsPixelk\":594.00005013411,\"fVtoPixelk\":288.000000268221,\"fVtoPixel\":-288.000000268221,\"fAbsPixeltoXk\":-19.914894315278,\"fPixeltoXk\":-18.0000007152557,\"fPixeltoX\":0.212765960313714,\"fAbsPixeltoYk\":30.5327866003397,\"fPixeltoYk\":-3.27868849655788,\"fPixeltoY\":-0.0569216752344508,\"fXlowNDC\":0.00999999977648258,\"fYlowNDC\":0.00999999977648258,\"fXUpNDC\":0.323333333556851,\"fYUpNDC\":0.490000000223517,\"fWNDC\":0.313333333780368,\"fHNDC\":0.480000000447035,\"fAbsXlowNDC\":0.00999999977648258,\"fAbsYlowNDC\":0.00999999977648258,\"fAbsWNDC\":0.313333333780368,\"fAbsHNDC\":0.480000000447035,\"fUxmin\":0,\"fUymin\":0,\"fUxmax\":30,\"fUymax\":10,\"fTheta\":30,\"fPhi\":30,\"fAspectRatio\":0,\"fNumber\":4,\"fTickx\":0,\"fTicky\":0,\"fLogx\":0,\"fLogy\":0,\"fLogz\":0,\"fPadPaint\":0,\"fCrosshair\":0,\"fCrosshairPos\":0,\"fBorderSize\":2,\"fBorderMode\":0,\"fModified\":false,\"fGridx\":false,\"fGridy\":false,\"fAbsCoord\":false,\"fEditable\":true,\"fFixedAspectRatio\":false,\"fPrimitives\":{\"_typename\":\"TList\",\"name\":\"TList\",\"arr\":[{\"_typename\":\"TFrame\",\"fUniqueID\":0,\"fBits\":8,\"fLineColor\":1,\"fLineStyle\":1,\"fLineWidth\":1,\"fFillColor\":0,\"fFillStyle\":1001,\"fX1\":0,\"fY1\":0,\"fX2\":30,\"fY2\":10,\"fBorderSize\":1,\"fBorderMode\":0},{\"_typename\":\"TH2F\",\"fUniqueID\":0,\"fBits\":520,\"fName\":\"Cluster_Size_vs_ColWidthALPIDE_4\",\"fTitle\":\"ALPIDE 4\",\"fLineColor\":602,\"fLineStyle\":1,\"fLineWidth\":1,\"fFillColor\":0,\"fFillStyle\":1001,\"fMarkerColor\":1,\"fMarkerStyle\":1,\"fMarkerSize\":1,\"fNcells\":384,\"fXaxis\":{\"_typename\":\"TAxis\",\"fUniqueID\":0,\"fBits\":0,\"fName\":\"xaxis\",\"fTitle\":\" Cluster Size [px]\",\"fNdivisions\":510,\"fAxisColor\":1,\"fLabelColor\":1,\"fLabelFont\":132,\"fLabelOffset\":0.005,\"fLabelSize\":0.09,\"fTickLength\":0.03,\"fTitleOffset\":1,\"fTitleSize\":0.1,\"fTitleColor\":1,\"fTitleFont\":132,\"fNbins\":30,\"fXmin\":0,\"fXmax\":30,\"fXbins\":[],\"fFirst\":0,\"fLast\":0,\"fBits2\":0,\"fTimeDisplay\":false,\"fTimeFormat\":\"\",\"fLabels\":null,\"fModLabs\":null},\"fYaxis\":{\"_typename\":\"TAxis\",\"fUniqueID\":0,\"fBits\":0,\"fName\":\"yaxis\",\"fTitle\":\" Column Width [px]\",\"fNdivisions\":510,\"fAxisColor\":1,\"fLabelColor\":1,\"fLabelFont\":132,\"fLabelOffset\":0.005,\"fLabelSize\":0.09,\"fTickLength\":0.03,\"fTitleOffset\":0,\"fTitleSize\":0.1,\"fTitleColor\":1,\"fTitleFont\":132,\"fNbins\":10,\"fXmin\":0,\"fXmax\":10,\"fXbins\":[],\"fFirst\":0,\"fLast\":0,\"fBits2\":0,\"fTimeDisplay\":false,\"fTimeFormat\":\"\",\"fLabels\":null,\"fModLabs\":null},\"fZaxis\":{\"_typename\":\"TAxis\",\"fUniqueID\":0,\"fBits\":0,\"fName\":\"zaxis\",\"fTitle\":\"\",\"fNdivisions\":510,\"fAxisColor\":1,\"fLabelColor\":1,\"fLabelFont\":132,\"fLabelOffset\":0.005,\"fLabelSize\":0.09,\"fTickLength\":0.03,\"fTitleOffset\":1,\"fTitleSize\":0.035,\"fTitleColor\":1,\"fTitleFont\":132,\"fNbins\":1,\"fXmin\":0,\"fXmax\":1,\"fXbins\":[],\"fFirst\":0,\"fLast\":0,\"fBits2\":0,\"fTimeDisplay\":false,\"fTimeFormat\":\"\",\"fLabels\":null,\"fModLabs\":null},\"fBarOffset\":0,\"fBarWidth\":1000,\"fEntries\":41189,\"fTsumw\":41110,\"fTsumw2\":41110,\"fTsumwx\":574771,\"fTsumwx2\":8661325,\"fMaximum\":-1111,\"fMinimum\":-1111,\"fNormFactor\":0,\"fContour\":[0,282.65,565.3,847.95,1130.6,1413.25,1695.9,1978.55,2261.2,2543.85,2826.5,3109.15,3391.8,3674.45,3957.1,4239.75,4522.4,4805.05,5087.7,5370.35],\"fSumw2\":[],\"fOption\":\"\",\"fFunctions\":{\"_typename\":\"TList\",\"name\":\"TList\",\"arr\":[{\"_typename\":\"TPaletteAxis\",\"fUniqueID\":0,\"fBits\":0,\"fLineColor\":1,\"fLineStyle\":1,\"fLineWidth\":1,\"fFillColor\":1178,\"fFillStyle\":1001,\"fX1\":30.3000000044703,\"fY1\":0,\"fX2\":33.0000000447035,\"fY2\":10,\"fX1NDC\":0.805,\"fY1NDC\":0.2,\"fX2NDC\":0.85,\"fY2NDC\":0.810000005215406,\"fBorderSize\":4,\"fInit\":1,\"fShadowColor\":1,\"fCornerRadius\":0,\"fOption\":\"br\",\"fName\":\"TPave\",\"fAxis\":{\"_typename\":\"TGaxis\",\"fUniqueID\":0,\"fBits\":0,\"fLineColor\":1,\"fLineStyle\":1,\"fLineWidth\":1,\"fX1\":0,\"fY1\":0,\"fX2\":0,\"fY2\":0,\"fTextAngle\":0,\"fTextSize\":0.04,\"fTextAlign\":11,\"fTextColor\":1,\"fTextFont\":132,\"fWmin\":0,\"fWmax\":0,\"fGridLength\":0,\"fTickSize\":0.03,\"fLabelOffset\":0.005,\"fLabelSize\":0.09,\"fTitleOffset\":1,\"fTitleSize\":0.035,\"fNdiv\":0,\"fLabelColor\":1,\"fLabelFont\":132,\"fNModLabs\":0,\"fChopt\":\"\",\"fName\":\"\",\"fTitle\":\"\",\"fTimeFormat\":\"\",\"fFunctionName\":\"\",\"fModLabs\":null},\"fName\":\"palette\"}],\"opt\":[\"br\"]},\"fBufferSize\":0,\"fBuffer\":[],\"fBinStatErrOpt\":0,\"fStatOverflows\":2,\"fScalefactor\":1,\"fTsumwy\":156188,\"fTsumwy2\":617580,\"fTsumwxy\":2290447,\"fArray\":[0,0,0,0,0,0,0,0,0,0,0,0,0,0,0,0,0,0,0,0,0,0,0,0,0,0,0,0,0,0,0,0,0,0,0,0,0,0,0,0,0,0,0,0,0,0,0,0,0,0,0,0,0,0,0,0,0,0,0,0,0,0,0,0,0,0,1128,122,3,2,0,0,0,0,0,0,0,0,0,0,0,0,0,0,0,0,0,0,0,0,0,0,0,0,0,0,0,0,0,81,135,202,41,47,1,2,1,1,1,0,0,0,0,0,0,0,0,0,0,0,0,0,0,0,0,0,0,0,0,0,0,0,1,7,26,42,91,167,423,1799,2424,2400,384,52,10,3,1,1,0,1,1,0,0,0,0,0,0,0,0,0,0,0,0,0,0,0,1,1,2,14,33,103,420,2459,4440,5653,3682,5217,2917,1563,380,289,49,15,12,12,5,5,4,1,2,6,0,0,0,0,0,0,0,0,0,0,2,1,2,2,4,44,247,381,450,523,695,562,511,297,215,86,36,19,13,4,3,16,0,0,0,0,0,0,0,0,1,0,0,0,0,0,0,0,1,0,0,1,3,3,4,12,13,25,12,14,16,14,11,50,0,0,0,0,0,0,0,0,0,0,0,0,0,0,0,0,0,0,1,0,0,0,0,0,1,0,0,0,1,0,0,2,0,0,0,0,0,0,0,0,0,0,0,0,0,0,0,0,0,0,0,0,0,0,0,0,0,0,0,0,1,0,0,3,0,0,0,0,0,0,0,0,0,0,0,0,0,0,0,0,0,0,0,0,0,0,0,0,0,0,0,0,0,0,0,1,0,0,0,0,0,0,0,0,0,0,0,0,0,0,0,0,0,0,0,0,0,0,0,0,0,0,0,0,0,0,0,1]},{\"_typename\":\"TPaveText\",\"fUniqueID\":0,\"fBits\":9,\"fLineColor\":1,\"fLineStyle\":1,\"fLineWidth\":1,\"fFillColor\":0,\"fFillStyle\":0,\"fX1\":-3.17446855865099,\"fY1\":11.0491803223185,\"fX2\":27.1744680222092,\"fY2\":13.0327868519876,\"fX1NDC\":0.247092198928119,\"fY1NDC\":0.874000005424023,\"fX2NDC\":0.752907801071881,\"fY2NDC\":0.995000004768372,\"fBorderSize\":0,\"fInit\":1,\"fShadowColor\":1,\"fCornerRadius\":0,\"fOption\":\"blNDC\",\"fName\":\"title\",\"fTextAngle\":0,\"fTextSize\":0,\"fTextAlign\":22,\"fTextColor\":1,\"fTextFont\":132,\"fLabel\":\"\",\"fLongest\":8,\"fMargin\":0.05,\"fLines\":{\"_typename\":\"TList\",\"name\":\"TList\",\"arr\":[{\"_typename\":\"TLatex\",\"fUniqueID\":0,\"fBits\":0,\"fName\":\"\",\"fTitle\":\"ALPIDE 4\",\"fTextAngle\":0,\"fTextSize\":0,\"fTextAlign\":0,\"fTextColor\":0,\"fTextFont\":0,\"fX\":0,\"fY\":0,\"fLineColor\":1,\"fLineStyle\":1,\"fLineWidth\":2,\"fLimitFactorSize\":3,\"fOriginSize\":0.102849997580051}],\"opt\":[\"\"]}}],\"opt\":[\"\",\"COLZ\",\"blNDC\"]},\"fExecs\":{\"_typename\":\"TList\",\"name\":\"TList\",\"arr\":[],\"opt\":[]},\"fName\":\"c1_n2_4\",\"fTitle\":\"c1_n2_4\",\"fNumPaletteColor\":0,\"fNextPaletteColor\":0},{\"_typename\":\"TPad\",\"fUniqueID\":0,\"fBits\":9,\"fLineColor\":1,\"fLineStyle\":1,\"fLineWidth\":1,\"fFillColor\":0,\"fFillStyle\":1001,\"fLeftMargin\":0.3,\"fRightMargin\":0.2,\"fBottomMargin\":0.2,\"fTopMargin\":0.19,\"fXfile\":2,\"fYfile\":2,\"fAfile\":1,\"fXstat\":0.99,\"fYstat\":0.99,\"fAstat\":2,\"fFrameFillColor\":0,\"fFrameLineColor\":1,\"fFrameFillStyle\":1001,\"fFrameLineStyle\":1,\"fFrameLineWidth\":1,\"fFrameBorderSize\":1,\"fFrameBorderMode\":0,\"fX1\":0,\"fY1\":0,\"fX2\":1,\"fY2\":1,\"fXtoAbsPixelk\":309.000049798834,\"fXtoPixelk\":5e-5,\"fXtoPixel\":282.000000402331,\"fYtoAbsPixelk\":594.00005013411,\"fYtoPixelk\":288.000050268221,\"fYtoPixel\":-288.000000268221,\"fUtoAbsPixelk\":309.000049798834,\"fUtoPixelk\":5e-5,\"fUtoPixel\":282.000000402331,\"fVtoAbsPixelk\":594.00005013411,\"fVtoPixelk\":288.000000268221,\"fVtoPixel\":-288.000000268221,\"fAbsPixeltoXk\":-1.0957446785744,\"fPixeltoXk\":0,\"fPixeltoX\":0.0035460992857209,\"fAbsPixeltoYk\":2.06249999854481,\"fPixeltoYk\":0,\"fPixeltoY\":-0.00347222221898846,\"fXlowNDC\":0.343333333109816,\"fYlowNDC\":0.00999999977648258,\"fXUpNDC\":0.656666666890184,\"fYUpNDC\":0.490000000223517,\"fWNDC\":0.313333333780368,\"fHNDC\":0.480000000447035,\"fAbsXlowNDC\":0.343333333109816,\"fAbsYlowNDC\":0.00999999977648258,\"fAbsWNDC\":0.313333333780368,\"fAbsHNDC\":0.480000000447035,\"fUxmin\":0,\"fUymin\":0,\"fUxmax\":1,\"fUymax\":1,\"fTheta\":30,\"fPhi\":30,\"fAspectRatio\":0,\"fNumber\":5,\"fTickx\":0,\"fTicky\":0,\"fLogx\":0,\"fLogy\":0,\"fLogz\":0,\"fPadPaint\":0,\"fCrosshair\":0,\"fCrosshairPos\":0,\"fBorderSize\":2,\"fBorderMode\":0,\"fModified\":false,\"fGridx\":false,\"fGridy\":false,\"fAbsCoord\":false,\"fEditable\":true,\"fFixedAspectRatio\":false,\"fPrimitives\":{\"_typename\":\"TList\",\"name\":\"TList\",\"arr\":[],\"opt\":[]},\"fExecs\":{\"_typename\":\"TList\",\"name\":\"TList\",\"arr\":[],\"opt\":[]},\"fName\":\"c1_n2_5\",\"fTitle\":\"c1_n2_5\",\"fNumPaletteColor\":0,\"fNextPaletteColor\":0},{\"_typename\":\"TPad\",\"fUniqueID\":0,\"fBits\":9,\"fLineColor\":1,\"fLineStyle\":1,\"fLineWidth\":1,\"fFillColor\":0,\"fFillStyle\":1001,\"fLeftMargin\":0.3,\"fRightMargin\":0.2,\"fBottomMargin\":0.2,\"fTopMargin\":0.19,\"fXfile\":2,\"fYfile\":2,\"fAfile\":1,\"fXstat\":0.99,\"fYstat\":0.99,\"fAstat\":2,\"fFrameFillColor\":0,\"fFrameLineColor\":1,\"fFrameFillStyle\":1001,\"fFrameLineStyle\":1,\"fFrameLineWidth\":1,\"fFrameBorderSize\":1,\"fFrameBorderMode\":0,\"fX1\":-18.0000007152557,\"fY1\":-3.27868849655788,\"fX2\":42.0000001788139,\"fY2\":13.1147539862315,\"fXtoAbsPixelk\":693.600052020597,\"fXtoPixelk\":84.6000522217631,\"fXtoPixel\":4.69999993667007,\"fYtoAbsPixelk\":536.400050080466,\"fYtoPixelk\":230.400050214577,\"fYtoPixel\":-17.5680001665652,\"fUtoAbsPixelk\":609.000049798834,\"fUtoPixelk\":5e-5,\"fUtoPixel\":282.000000402331,\"fVtoAbsPixelk\":594.00005013411,\"fVtoPixelk\":288.000000268221,\"fVtoPixel\":-288.000000268221,\"fAbsPixeltoXk\":-147.574470503506,\"fPixeltoXk\":-18.0000007152557,\"fPixeltoX\":0.212765960313714,\"fAbsPixeltoYk\":30.5327866003397,\"fPixeltoYk\":-3.27868849655788,\"fPixeltoY\":-0.0569216752344508,\"fXlowNDC\":0.676666666443149,\"fYlowNDC\":0.00999999977648258,\"fXUpNDC\":0.990000000223517,\"fYUpNDC\":0.490000000223517,\"fWNDC\":0.313333333780368,\"fHNDC\":0.480000000447035,\"fAbsXlowNDC\":0.676666666443149,\"fAbsYlowNDC\":0.00999999977648258,\"fAbsWNDC\":0.313333333780368,\"fAbsHNDC\":0.480000000447035,\"fUxmin\":0,\"fUymin\":0,\"fUxmax\":30,\"fUymax\":10,\"fTheta\":30,\"fPhi\":30,\"fAspectRatio\":0,\"fNumber\":6,\"fTickx\":0,\"fTicky\":0,\"fLogx\":0,\"fLogy\":0,\"fLogz\":0,\"fPadPaint\":0,\"fCrosshair\":0,\"fCrosshairPos\":0,\"fBorderSize\":2,\"fBorderMode\":0,\"fModified\":false,\"fGridx\":false,\"fGridy\":false,\"fAbsCoord\":false,\"fEditable\":true,\"fFixedAspectRatio\":false,\"fPrimitives\":{\"_typename\":\"TList\",\"name\":\"TList\",\"arr\":[{\"_typename\":\"TFrame\",\"fUniqueID\":0,\"fBits\":8,\"fLineColor\":1,\"fLineStyle\":1,\"fLineWidth\":1,\"fFillColor\":0,\"fFillStyle\":1001,\"fX1\":0,\"fY1\":0,\"fX2\":30,\"fY2\":10,\"fBorderSize\":1,\"fBorderMode\":0},{\"_typename\":\"TH2F\",\"fUniqueID\":0,\"fBits\":520,\"fName\":\"Cluster_Size_vs_ColWidthALPIDE_3\",\"fTitle\":\"ALPIDE 3\",\"fLineColor\":602,\"fLineStyle\":1,\"fLineWidth\":1,\"fFillColor\":0,\"fFillStyle\":1001,\"fMarkerColor\":1,\"fMarkerStyle\":1,\"fMarkerSize\":1,\"fNcells\":384,\"fXaxis\":{\"_typename\":\"TAxis\",\"fUniqueID\":0,\"fBits\":0,\"fName\":\"xaxis\",\"fTitle\":\" Cluster Size [px]\",\"fNdivisions\":510,\"fAxisColor\":1,\"fLabelColor\":1,\"fLabelFont\":132,\"fLabelOffset\":0.005,\"fLabelSize\":0.09,\"fTickLength\":0.03,\"fTitleOffset\":1,\"fTitleSize\":0.1,\"fTitleColor\":1,\"fTitleFont\":132,\"fNbins\":30,\"fXmin\":0,\"fXmax\":30,\"fXbins\":[],\"fFirst\":0,\"fLast\":0,\"fBits2\":0,\"fTimeDisplay\":false,\"fTimeFormat\":\"\",\"fLabels\":null,\"fModLabs\":null},\"fYaxis\":{\"_typename\":\"TAxis\",\"fUniqueID\":0,\"fBits\":0,\"fName\":\"yaxis\",\"fTitle\":\" Column Width [px]\",\"fNdivisions\":510,\"fAxisColor\":1,\"fLabelColor\":1,\"fLabelFont\":132,\"fLabelOffset\":0.005,\"fLabelSize\":0.09,\"fTickLength\":0.03,\"fTitleOffset\":0,\"fTitleSize\":0.1,\"fTitleColor\":1,\"fTitleFont\":132,\"fNbins\":10,\"fXmin\":0,\"fXmax\":10,\"fXbins\":[],\"fFirst\":0,\"fLast\":0,\"fBits2\":0,\"fTimeDisplay\":false,\"fTimeFormat\":\"\",\"fLabels\":null,\"fModLabs\":null},\"fZaxis\":{\"_typename\":\"TAxis\",\"fUniqueID\":0,\"fBits\":0,\"fName\":\"zaxis\",\"fTitle\":\"\",\"fNdivisions\":510,\"fAxisColor\":1,\"fLabelColor\":1,\"fLabelFont\":132,\"fLabelOffset\":0.005,\"fLabelSize\":0.09,\"fTickLength\":0.03,\"fTitleOffset\":1,\"fTitleSize\":0.035,\"fTitleColor\":1,\"fTitleFont\":132,\"fNbins\":1,\"fXmin\":0,\"fXmax\":1,\"fXbins\":[],\"fFirst\":0,\"fLast\":0,\"fBits2\":0,\"fTimeDisplay\":false,\"fTimeFormat\":\"\",\"fLabels\":null,\"fModLabs\":null},\"fBarOffset\":0,\"fBarWidth\":1000,\"fEntries\":73463,\"fTsumw\":72287,\"fTsumw2\":72287,\"fTsumwx\":735007,\"fTsumwx2\":9213499,\"fMaximum\":-1111,\"fMinimum\":-1111,\"fNormFactor\":0,\"fContour\":[0,327,654,981,1308,1635,1962,2289,2616,2943,3270,3597,3924,4251,4578,4905,5232,5559,5886,6213],\"fSumw2\":[],\"fOption\":\"\",\"fFunctions\":{\"_typename\":\"TList\",\"name\":\"TList\",\"arr\":[{\"_typename\":\"TPaletteAxis\",\"fUniqueID\":0,\"fBits\":0,\"fLineColor\":1,\"fLineStyle\":1,\"fLineWidth\":1,\"fFillColor\":1178,\"fFillStyle\":1001,\"fX1\":30.3000000044703,\"fY1\":0,\"fX2\":33.0000000447035,\"fY2\":10,\"fX1NDC\":0.805,\"fY1NDC\":0.2,\"fX2NDC\":0.85,\"fY2NDC\":0.810000005215406,\"fBorderSize\":4,\"fInit\":1,\"fShadowColor\":1,\"fCornerRadius\":0,\"fOption\":\"br\",\"fName\":\"TPave\",\"fAxis\":{\"_typename\":\"TGaxis\",\"fUniqueID\":0,\"fBits\":0,\"fLineColor\":1,\"fLineStyle\":1,\"fLineWidth\":1,\"fX1\":0,\"fY1\":0,\"fX2\":0,\"fY2\":0,\"fTextAngle\":0,\"fTextSize\":0.04,\"fTextAlign\":11,\"fTextColor\":1,\"fTextFont\":132,\"fWmin\":0,\"fWmax\":0,\"fGridLength\":0,\"fTickSize\":0.03,\"fLabelOffset\":0.005,\"fLabelSize\":0.09,\"fTitleOffset\":1,\"fTitleSize\":0.035,\"fNdiv\":0,\"fLabelColor\":1,\"fLabelFont\":132,\"fNModLabs\":0,\"fChopt\":\"\",\"fName\":\"\",\"fTitle\":\"\",\"fTimeFormat\":\"\",\"fFunctionName\":\"\",\"fModLabs\":null},\"fName\":\"palette\"}],\"opt\":[\"br\"]},\"fBufferSize\":0,\"fBuffer\":[],\"fBinStatErrOpt\":0,\"fStatOverflows\":2,\"fScalefactor\":1,\"fTsumwy\":231414,\"fTsumwy2\":815400,\"fTsumwxy\":2678731,\"fArray\":[0,0,0,0,0,0,0,0,0,0,0,0,0,0,0,0,0,0,0,0,0,0,0,0,0,0,0,0,0,0,0,0,0,0,0,0,0,0,0,0,0,0,0,0,0,0,0,0,0,0,0,0,0,0,0,0,0,0,0,0,0,0,0,0,0,0,4769,1880,62,18,6,3,2,2,1,1,1,0,1,0,1,0,1,0,0,0,0,0,0,0,0,0,0,0,0,0,0,0,0,1286,1661,3007,808,1143,44,29,2,4,2,3,1,1,0,2,1,0,1,0,0,0,0,0,0,0,0,0,1,1,0,0,0,0,50,163,582,992,2418,2649,4200,6540,4249,2178,339,82,34,13,7,3,2,0,2,2,2,1,0,0,0,1,1,13,0,0,0,0,0,5,5,19,35,383,535,974,2329,6025,5931,4704,2790,3548,1568,720,249,202,60,43,22,28,14,10,15,14,5,386,0,0,0,0,0,0,2,0,2,3,2,2,7,13,41,82,221,288,311,373,353,251,214,144,86,68,52,42,18,14,8,558,0,0,0,0,0,0,0,0,0,0,0,0,0,0,0,3,2,0,1,6,3,14,11,11,15,13,15,23,31,27,19,164,0,0,0,0,0,0,0,0,0,0,0,0,0,0,0,0,1,0,0,0,0,1,2,0,1,0,2,0,2,0,0,35,0,0,0,0,0,0,0,0,0,0,0,0,0,0,0,0,0,0,0,0,0,0,0,0,0,0,0,0,0,0,0,7,0,0,0,0,0,0,0,0,0,0,0,0,0,0,0,0,0,0,0,0,0,0,0,0,0,0,0,0,0,0,0,3,0,0,0,0,0,0,0,0,0,0,0,0,0,0,0,0,0,0,0,0,0,0,0,0,0,0,0,0,0,0,0,9]},{\"_typename\":\"TPaveText\",\"fUniqueID\":0,\"fBits\":9,\"fLineColor\":1,\"fLineStyle\":1,\"fLineWidth\":1,\"fFillColor\":0,\"fFillStyle\":0,\"fX1\":-3.06808557849412,\"fY1\":11.0491803223185,\"fX2\":27.0680850420523,\"fY2\":13.0327868519876,\"fX1NDC\":0.248865248570979,\"fY1NDC\":0.874000005424023,\"fX2NDC\":0.751134751429021,\"fY2NDC\":0.995000004768372,\"fBorderSize\":0,\"fInit\":1,\"fShadowColor\":1,\"fCornerRadius\":0,\"fOption\":\"blNDC\",\"fName\":\"title\",\"fTextAngle\":0,\"fTextSize\":0,\"fTextAlign\":22,\"fTextColor\":1,\"fTextFont\":132,\"fLabel\":\"\",\"fLongest\":8,\"fMargin\":0.05,\"fLines\":{\"_typename\":\"TList\",\"name\":\"TList\",\"arr\":[{\"_typename\":\"TLatex\",\"fUniqueID\":0,\"fBits\":0,\"fName\":\"\",\"fTitle\":\"ALPIDE 3\",\"fTextAngle\":0,\"fTextSize\":0,\"fTextAlign\":0,\"fTextColor\":0,\"fTextFont\":0,\"fX\":0,\"fY\":0,\"fLineColor\":1,\"fLineStyle\":1,\"fLineWidth\":2,\"fLimitFactorSize\":3,\"fOriginSize\":0.102849997580051}],\"opt\":[\"\"]}}],\"opt\":[\"\",\"COLZ\",\"blNDC\"]},\"fExecs\":{\"_typename\":\"TList\",\"name\":\"TList\",\"arr\":[],\"opt\":[]},\"fName\":\"c1_n2_6\",\"fTitle\":\"c1_n2_6\",\"fNumPaletteColor\":0,\"fNextPaletteColor\":0},{\"_typename\":\"TStyle\",\"fUniqueID\":0,\"fBits\":0,\"fName\":\"Modern\",\"fTitle\":\"Modern Style\",\"fLineColor\":1,\"fLineStyle\":1,\"fLineWidth\":1,\"fFillColor\":19,\"fFillStyle\":1001,\"fMarkerColor\":1,\"fMarkerStyle\":1,\"fMarkerSize\":1,\"fTextAngle\":0,\"fTextSize\":0.05,\"fTextAlign\":11,\"fTextColor\":1,\"fTextFont\":132,\"fXaxis\":{\"_typename\":\"TAttAxis\",\"fNdivisions\":510,\"fAxisColor\":1,\"fLabelColor\":1,\"fLabelFont\":132,\"fLabelOffset\":0.005,\"fLabelSize\":0.09,\"fTickLength\":0.03,\"fTitleOffset\":1,\"fTitleSize\":0.1,\"fTitleColor\":1,\"fTitleFont\":132},\"fYaxis\":{\"_typename\":\"TAttAxis\",\"fNdivisions\":510,\"fAxisColor\":1,\"fLabelColor\":1,\"fLabelFont\":132,\"fLabelOffset\":0.005,\"fLabelSize\":0.09,\"fTickLength\":0.03,\"fTitleOffset\":0,\"fTitleSize\":0.1,\"fTitleColor\":1,\"fTitleFont\":132},\"fZaxis\":{\"_typename\":\"TAttAxis\",\"fNdivisions\":510,\"fAxisColor\":1,\"fLabelColor\":1,\"fLabelFont\":132,\"fLabelOffset\":0.005,\"fLabelSize\":0.09,\"fTickLength\":0.03,\"fTitleOffset\":1,\"fTitleSize\":0.035,\"fTitleColor\":1,\"fTitleFont\":132},\"fBarWidth\":1,\"fBarOffset\":0,\"fColorModelPS\":0,\"fDrawBorder\":0,\"fOptLogx\":0,\"fOptLogy\":0,\"fOptLogz\":0,\"fOptDate\":0,\"fOptStat\":0,\"fOptTitle\":1,\"fOptFile\":0,\"fOptFit\":0,\"fShowEventStatus\":0,\"fShowEditor\":0,\"fShowToolBar\":0,\"fNumberContours\":20,\"fAttDate\":{\"_typename\":\"TAttText\",\"fTextAngle\":0,\"fTextSize\":0.025,\"fTextAlign\":11,\"fTextColor\":1,\"fTextFont\":62},\"fDateX\":0.01,\"fDateY\":0.01,\"fEndErrorSize\":2,\"fErrorX\":0.5,\"fFuncColor\":2,\"fFuncStyle\":1,\"fFuncWidth\":2,\"fGridColor\":0,\"fGridStyle\":3,\"fGridWidth\":1,\"fLegendBorderSize\":1,\"fLegendFillColor\":0,\"fLegendFont\":42,\"fLegendTextSize\":0,\"fHatchesLineWidth\":1,\"fHatchesSpacing\":1,\"fFrameFillColor\":0,\"fFrameLineColor\":1,\"fFrameFillStyle\":1001,\"fFrameLineStyle\":1,\"fFrameLineWidth\":1,\"fFrameBorderSize\":1,\"fFrameBorderMode\":0,\"fHistFillColor\":0,\"fHistLineColor\":602,\"fHistFillStyle\":1001,\"fHistLineStyle\":1,\"fHistLineWidth\":1,\"fHistMinimumZero\":false,\"fHistTopMargin\":0.05,\"fCanvasPreferGL\":false,\"fCanvasColor\":0,\"fCanvasBorderSize\":2,\"fCanvasBorderMode\":0,\"fCanvasDefH\":500,\"fCanvasDefW\":700,\"fCanvasDefX\":10,\"fCanvasDefY\":10,\"fPadColor\":0,\"fPadBorderSize\":2,\"fPadBorderMode\":0,\"fPadBottomMargin\":0.2,\"fPadTopMargin\":0.19,\"fPadLeftMargin\":0.3,\"fPadRightMargin\":0.2,\"fPadGridX\":false,\"fPadGridY\":false,\"fPadTickX\":0,\"fPadTickY\":0,\"fPaperSizeX\":20,\"fPaperSizeY\":26,\"fScreenFactor\":1,\"fStatColor\":0,\"fStatTextColor\":1,\"fStatBorderSize\":1,\"fStatFont\":42,\"fStatFontSize\":0,\"fStatStyle\":1001,\"fStatFormat\":\"6.4g\",\"fStatX\":0.98,\"fStatY\":0.935,\"fStatW\":0.2,\"fStatH\":0.16,\"fStripDecimals\":true,\"fTitleAlign\":23,\"fTitleColor\":0,\"fTitleTextColor\":1,\"fTitleBorderSize\":0,\"fTitleFont\":132,\"fTitleFontSize\":0.11,\"fTitleStyle\":0,\"fTitleX\":0.5,\"fTitleY\":0.995,\"fTitleW\":0,\"fTitleH\":0,\"fLegoInnerR\":0.5,\"fLineStyle\":[\"\",\"  \",\" 12 12\",\" 4 8\",\" 12 16 4 16\",\" 20 12 4 12\",\" 20 12 4 12 4 12 4 12\",\" 20 20\",\" 20 12 4 12 4 12\",\" 80 20\",\" 80 40 4 40\",\"  \",\"  \",\"  \",\"  \",\"  \",\"  \",\"  \",\"  \",\"  \",\"  \",\"  \",\"  \",\"  \",\"  \",\"  \",\"  \",\"  \",\"  \",\"  \"],\"fHeaderPS\":\"\",\"fTitlePS\":\"\",\"fFitFormat\":\"5.4g\",\"fPaintTextFormat\":\".1f\",\"fLineScalePS\":3,\"fJoinLinePS\":0,\"fCapLinePS\":0,\"fTimeOffset\":788918400,\"fImageScaling\":1}],\"opt\":[\"\",\"\",\"\",\"\",\"\",\"\",\"\"]},\"fExecs\":null,\"fName\":\"c1_n2\",\"fTitle\":\"c1_n2\",\"fNumPaletteColor\":0,\"fNextPaletteColor\":0,\"fDISPLAY\":\"$DISPLAY\",\"fDoubleBuffer\":0,\"fRetained\":true,\"fXsizeUser\":0,\"fYsizeUser\":0,\"fXsizeReal\":20,\"fYsizeReal\":14.28571,\"fWindowTopX\":0,\"fWindowTopY\":0,\"fWindowWidth\":0,\"fWindowHeight\":0,\"fCw\":900,\"fCh\":600,\"fCatt\":{\"_typename\":\"TAttCanvas\",\"fXBetween\":2,\"fYBetween\":2,\"fTitleFromTop\":1.2,\"fXdate\":0.2,\"fYdate\":0.3,\"fAdate\":1},\"kMoveOpaque\":true,\"kResizeOpaque\":true,\"fHighLightColor\":2,\"fBatch\":true,\"kShowEventStatus\":false,\"kAutoExec\":true,\"kMenuBar\":true});\n",
       "   Core.settings.HandleKeys = false;\n",
       "   Core.draw(\"root_plot_1699372906609\", obj, \"\");\n",
       "}\n",
       "\n",
       "function script_load_root_plot_1699372906609(src, on_error) {\n",
       "    let script = document.createElement('script');\n",
       "    script.src = src;\n",
       "    script.onload = function() { display_root_plot_1699372906609(JSROOT); };\n",
       "    script.onerror = function() { script.remove(); on_error(); };\n",
       "    document.head.appendChild(script);\n",
       "}\n",
       "\n",
       "if (typeof requirejs !== 'undefined') {\n",
       "\n",
       "    // We are in jupyter notebooks, use require.js which should be configured already\n",
       "    requirejs.config({\n",
       "       paths: { 'JSRootCore' : [ 'scripts/JSRoot.core', 'https://root.cern/js/6.1.1/scripts/JSRoot.core.min', 'https://jsroot.gsi.de/6.1.1/scripts/JSRoot.core.min' ] }\n",
       "    })(['JSRootCore'],  function(Core) {\n",
       "       display_root_plot_1699372906609(Core);\n",
       "    });\n",
       "\n",
       "} else if (typeof JSROOT !== 'undefined') {\n",
       "\n",
       "   // JSROOT already loaded, just use it\n",
       "   display_root_plot_1699372906609(JSROOT);\n",
       "\n",
       "} else {\n",
       "\n",
       "    // We are in jupyterlab without require.js, directly loading jsroot\n",
       "    // Jupyterlab might be installed in a different base_url so we need to know it.\n",
       "    try {\n",
       "        var base_url = JSON.parse(document.getElementById('jupyter-config-data').innerHTML).baseUrl;\n",
       "    } catch(_) {\n",
       "        var base_url = '/';\n",
       "    }\n",
       "\n",
       "    // Try loading a local version of requirejs and fallback to cdn if not possible.\n",
       "    script_load_root_plot_1699372906609(base_url + 'static/scripts/JSRoot.core.js', function(){\n",
       "        console.error('Fail to load JSROOT locally, please check your jupyter_notebook_config.py file');\n",
       "        script_load_root_plot_1699372906609('https://root.cern/js/6.1.1/scripts/JSRoot.core.min.js', function(){\n",
       "            document.getElementById(\"root_plot_1699372906609\").innerHTML = \"Failed to load JSROOT\";\n",
       "        });\n",
       "    });\n",
       "}\n",
       "\n",
       "</script>\n"
      ],
      "text/plain": [
       "<IPython.core.display.HTML object>"
      ]
     },
     "metadata": {},
     "output_type": "display_data"
    }
   ],
   "source": [
    "%jsroot on\n",
    "canvas = ROOT.TCanvas()\n",
    "canvas.SetCanvasSize(900,600)\n",
    "\n",
    "# Calculate histogram\n",
    "h2DClusSizeVsColWidth = [ROOT.TH2F(\"Cluster_Size_vs_ColWidth\"+det, \"Size of cluster vs column width- \"+det, 30,0,30,10,0,10) for det in detectors]\n",
    "for event in events:\n",
    "    for index,detector in enumerate(detectors):\n",
    "        for cluster in event.clusters:\n",
    "            if cluster.detector == detector:\n",
    "                h2DClusSizeVsColWidth[index].Fill(cluster.size,cluster.colWidth)\n",
    "\n",
    "#Draw histogram\n",
    "canvas.Divide(3,2)\n",
    "for pad ,index in enumerate([0,1,2,5,3]):\n",
    "\n",
    "    canvas.cd(index+1)\n",
    "    h2DClusSizeVsColWidth[pad].GetZaxis().SetLabelSize(0.09)\n",
    "    h2DClusSizeVsColWidth[pad].Draw(\"COLZ\")\n",
    "    h2DClusSizeVsColWidth[pad].SetTitle(\"ALPIDE \"+str(pad)+\"; Cluster Size [px]; Column Width [px]\")\n",
    "    #palette = hist.GetListOfFunctions().FindObject(\"palette\")    legend.SetX1NDC(0.7)\n",
    "    legend.SetY1NDC(0.7)\n",
    "    legend.SetX2NDC(0.9)\n",
    "    legend.SetY2NDC(0.9)\n",
    "canvas.Update()    \n",
    "canvas.Draw()\n",
    "canvas.SaveAs(\"cluster_size_vs_col_width.pdf\")"
   ]
  },
  {
   "cell_type": "markdown",
   "id": "e633087b",
   "metadata": {},
   "source": [
    "### Number of clusters"
   ]
  },
  {
   "cell_type": "code",
   "execution_count": 7,
   "id": "0286b126",
   "metadata": {},
   "outputs": [
    {
     "name": "stderr",
     "output_type": "stream",
     "text": [
      "UsageError: Line magic function `%jsroot` not found.\n"
     ]
    }
   ],
   "source": [
    "%jsroot on\n",
    "canvas = ROOT.TCanvas()\n",
    "canvas.SetCanvasSize(900,900)\n",
    "canvas.Divide(2,2)\n",
    "cuts = {0:0,\n",
    "        1:5,\n",
    "        2:10,\n",
    "        3:15\n",
    "       }\n",
    "hNClusDet = []\n",
    "for pad in range(4):\n",
    "    # Fill histograms\n",
    "    hNClusDet.append([ROOT.TH1F(\"nClusters_\"+det+\"_cut_\"+str(pad), \"nClusters of events - \"+det, 30, 0, 30) for det in detectors])\n",
    "    for event in events:\n",
    "        for index,detector in enumerate(detectors):\n",
    "            count = 0\n",
    "            for cluster in event.clusters:\n",
    "                if cluster.detector == detector and cluster.size > cuts.get(pad):\n",
    "                    count += 1\n",
    "            if count:\n",
    "                hNClusDet[pad][index].Fill(count)\n",
    "                \n",
    "    # Draw histograms\n",
    "    canvas.cd(pad+1)\n",
    "    legend = ROOT.TLegend()\n",
    "    #hNClus.Draw()\n",
    "    for index,hist in enumerate(hNClusDet[pad]):\n",
    "        hist.Scale(1/hist.Integral())\n",
    "        #hist.SetMaximum(0.15)\n",
    "        hist.SetLineColor(colors[index])\n",
    "        hist.SetLineWidth(2)\n",
    "        hist.SetXTitle(\"Clusters per Event\")\n",
    "        hist.SetYTitle(\"Normalized Counts\")\n",
    "        hist.SetTitle(\"Cluster Size > \"+str(cuts.get(pad)))\n",
    "        legend.AddEntry(hist,detectors[index])\n",
    "        hist.Draw(\"SAME HIST\")\n",
    "    legend.Draw()\n",
    "canvas.Draw()"
   ]
  },
  {
   "cell_type": "markdown",
   "id": "78eb5094",
   "metadata": {},
   "source": [
    "### Correlation plots\n",
    "+ To-Do make sure this is the right way to do it"
   ]
  },
  {
   "cell_type": "code",
   "execution_count": 8,
   "id": "e24dcd4b",
   "metadata": {},
   "outputs": [],
   "source": [
    "nBins = {\"x-Axis\" : 500, \"y-Axis\" : 250} #half the bins on this is fine i think\n",
    "nRange = {\"x-Axis\" : 15, \"y-Axis\" : 7}\n",
    "axis = {\"x-Axis\":0, \"y-Axis\":1}"
   ]
  },
  {
   "cell_type": "code",
   "execution_count": 3,
   "id": "205bfc23",
   "metadata": {},
   "outputs": [
    {
     "name": "stderr",
     "output_type": "stream",
     "text": [
      "UsageError: Line magic function `%jsroot` not found.\n"
     ]
    }
   ],
   "source": [
    "%jsroot on\n",
    "canvas = ROOT.TCanvas()\n",
    "legend = ROOT.TLegend()\n",
    "\n",
    "detector1 = \"ALPIDE_2\"\n",
    "detector2 = \"ALPIDE_2\"\n",
    "detector3 = \"ALPIDE_3\"\n",
    "detector4 = \"ALPIDE_3\"\n",
    "axis1=\"x-Axis\"\n",
    "axis2=\"y-Axis\"\n",
    "minclustsize = 2\n",
    "# Calculate histogram\n",
    "# hCorr1 = ROOT.TH2F(\"Corr_\"+detector1+\"_\"+axis1+\"_\"+detector2+\"_\"+axis2,\"Correlation\", nBins.get(axis1),-nRange.get(axis1),nRange.get(axis1),nBins.get(axis2),-nRange.get(axis2),nRange.get(axis2))\n",
    "# hCorr1.SetXTitle(\"ALPIDE \"+detector1[-1] + \" - \" + axis1)\n",
    "# hCorr1.SetYTitle(\"ALPIDE \"+detector2[-1] + \" - \" + axis2)\n",
    "\n",
    "# hCorr2 = ROOT.TH2F(\"Corr_\"+detector3+\"_\"+axis1+\"_\"+detector4+\"_\"+axis2,\"Correlation\", nBins.get(axis1),-nRange.get(axis1),nRange.get(axis1),nBins.get(axis2),-nRange.get(axis2),nRange.get(axis2))\n",
    "# hCorr2.SetXTitle(\"ALPIDE \"+detector3[-1] + \" - \" + axis1)\n",
    "# hCorr2.SetYTitle(\"ALPIDE \"+detector4[-1] + \" - \" + axis2)\n",
    "#different labeling\n",
    "hCorr1 = ROOT.TH2F(\"Corr_\"+detector1+\"_\"+axis1+\"_\"+detector2+\"_\"+axis2,\"ALPIDE \"+detector1[-1] , nBins.get(axis1),-nRange.get(axis1),nRange.get(axis1),nBins.get(axis2),-nRange.get(axis2),nRange.get(axis2))\n",
    "hCorr1.SetXTitle(axis1+ \" [mm]\")\n",
    "hCorr1.SetYTitle(axis2+ \" [mm]\")\n",
    "\n",
    "hCorr2 = ROOT.TH2F(\"Corr_\"+detector3+\"_\"+axis1+\"_\"+detector4+\"_\"+axis2,\"ALPIDE \"+detector3[-1] , nBins.get(axis1),-nRange.get(axis1),nRange.get(axis1),nBins.get(axis2),-nRange.get(axis2),nRange.get(axis2))\n",
    "hCorr2.SetXTitle(axis1+ \" [mm]\")\n",
    "hCorr2.SetYTitle(axis2+ \" [mm]\")\n",
    "\n",
    "#for event in events:\n",
    "reps = -1 #1e7\n",
    "for i, event in enumerate(readEvents('/home/cehrich/Software/uits3_krakow22/noFlipNeeded/run447162516_221106162754.pkl',reps)):\n",
    "    if i % 50 == 0:\n",
    "        percentage_done = (i / reps) * 100\n",
    "    # Print the percentage completion\n",
    "        print(f\"Progress: {percentage_done:.2f}% done\", end='\\r')\n",
    "    \n",
    "    clustersDetector1 = event.selectDetector(detector1)\n",
    "    clustersDetector2 = event.selectDetector(detector2)\n",
    "    clustersDetector3 = event.selectDetector(detector3)\n",
    "    clustersDetector4 = event.selectDetector(detector4)\n",
    "    #if len(clustersDetector1) == 1 and len(clustersDetector2) == 1:\n",
    "    if True:\n",
    "        for cluster1 in clustersDetector1:\n",
    "            if cluster1.size > minclustsize:\n",
    "                for cluster2 in clustersDetector2:\n",
    "                    if cluster2.size > minclustsize:\n",
    "                        hCorr1.Fill(cluster1.localPos[axis.get(axis1)],cluster2.localPos[axis.get(axis2)])\n",
    "        for cluster3 in clustersDetector3:\n",
    "            if cluster3.size > minclustsize:\n",
    "                for cluster4 in clustersDetector4:\n",
    "                    if cluster4.size > minclustsize:\n",
    "                        hCorr2.Fill(cluster3.localPos[axis.get(axis1)],cluster4.localPos[axis.get(axis2)])\n"
   ]
  },
  {
   "cell_type": "code",
   "execution_count": 4,
   "id": "50faaced",
   "metadata": {},
   "outputs": [
    {
     "name": "stderr",
     "output_type": "stream",
     "text": [
      "UsageError: Line magic function `%jsroot` not found.\n"
     ]
    }
   ],
   "source": [
    "%jsroot on\n",
    "for hCorr in [hCorr1,hCorr2]:\n",
    "    #hCorr.SetMaximum(1/hCorr.Integral())\n",
    "    # hCorr.SetMaximum(10)\n",
    "    #hCorr.SetMaximum(hCorr.Integral()/100000005)\n",
    "    #hCorr.SetMinimum(-1)\n",
    "    hCorr.GetZaxis().SetLabelFont(132)\n",
    "    hCorr.GetZaxis().SetLabelSize(0.09)  # Increase Z-axis label font size\n",
    "    hCorr.Rebin2D(2,2)\n",
    "canvas = ROOT.TCanvas(\"\", \"\", 1200, 280) #60 x 14, 14x40= 560, 30x40=1200\n",
    "#canvas = ROOT.TCanvas(\"\", \"\", 600, 280)\n",
    "ROOT.gStyle.SetPadLeftMargin(0.2)\n",
    "ROOT.gStyle.SetPadRightMargin(0.2)#should also be 1.1 rather than 1.0 to not cut off the axis label brackets\n",
    "ROOT.gStyle.SetPadBottomMargin(0.21)\n",
    "ROOT.gStyle.SetPaintTextFormat(\".1f\")\n",
    "\n",
    "canvas.Update()\n",
    "\n",
    "canvas.Divide(2,1)\n",
    "canvas.cd(1)\n",
    "hCorr1.GetYaxis().SetRangeUser(-7, 7) \n",
    "hCorr1.Draw(\"COLZ\")\n",
    "\n",
    "canvas.cd(2)\n",
    "hCorr2.GetYaxis().SetRangeUser(-7, 7) \n",
    "hCorr2.Draw(\"COLZ\")\n",
    "\n",
    "canvas.Draw()\n",
    "#canvas.SaveAs(\"Corr_\"+detector1+\"_\"+axis1+\"_\"+detector2+\"_\"+axis2+\".pdf\")\n",
    "canvas.SaveAs(\"inner_ALPIDE_HitMap1_rebin.pdf\")"
   ]
  },
  {
   "cell_type": "code",
   "execution_count": 5,
   "id": "28bbafa2",
   "metadata": {},
   "outputs": [],
   "source": [
    "import pickle\n",
    "def save_object(obj, filename):\n",
    "    with open(filename, 'wb') as outp:  # Overwrites any existing file.\n",
    "        pickle.dump(obj, outp, pickle.HIGHEST_PROTOCOL)"
   ]
  },
  {
   "cell_type": "code",
   "execution_count": 6,
   "id": "121823a0",
   "metadata": {},
   "outputs": [
    {
     "ename": "NameError",
     "evalue": "name 'events' is not defined",
     "output_type": "error",
     "traceback": [
      "\u001b[0;31m---------------------------------------------------------------------------\u001b[0m",
      "\u001b[0;31mNameError\u001b[0m                                 Traceback (most recent call last)",
      "\u001b[1;32m/home/cehrich/Software/uits3_krakow22/uits3_krakow22/notebooks/analyzeEvents.ipynb Cell 23\u001b[0m line \u001b[0;36m1\n\u001b[0;32m----> <a href='vscode-notebook-cell:/home/cehrich/Software/uits3_krakow22/uits3_krakow22/notebooks/analyzeEvents.ipynb#X31sZmlsZQ%3D%3D?line=0'>1</a>\u001b[0m save_object(events,\u001b[39m\"\u001b[39m\u001b[39mmyEvents.pkl\u001b[39m\u001b[39m\"\u001b[39m)\n",
      "\u001b[0;31mNameError\u001b[0m: name 'events' is not defined"
     ]
    }
   ],
   "source": [
    "save_object(events,\"myEvents.pkl\")"
   ]
  },
  {
   "cell_type": "code",
   "execution_count": null,
   "id": "7e90f69e",
   "metadata": {},
   "outputs": [],
   "source": [
    "# Dictionaries for axes\n",
    "nBins = {\"x-Axis\" : 120, \"y-Axis\" : 60}\n",
    "nRange = {\"x-Axis\" : 15, \"y-Axis\" : 7.5}\n",
    "axis = {\"x-Axis\":0, \"y-Axis\":1}"
   ]
  },
  {
   "cell_type": "code",
   "execution_count": null,
   "id": "f88fc65b",
   "metadata": {},
   "outputs": [],
   "source": [
    "def correlationHist(detector1=\"ALPIDE_1\", detector2=\"ALPIDE_1\", axis1=\"x-Axis\", axis2=\"x-Axis\"):\n",
    "    global nBins,nRange,axName\n",
    "    hCorr = ROOT.TH2F(\"Corr\"+detector1+axis1+detector2+axis2,\"Correlation\", nBins.get(axis1),-nRange.get(axis1),nRange.get(axis1),nBins.get(axis2),-nRange.get(axis2),nRange.get(axis2))\n",
    "    hCorr.SetXTitle(detector1 + \" - \" + axis1)\n",
    "    hCorr.SetYTitle(detector2 + \" - \" + axis2)\n",
    "    for event in events:\n",
    "        clustersDetector1 = event.selectDetector(detector1)\n",
    "        clustersDetector2 = event.selectDetector(detector2)\n",
    "        for cluster1 in clustersDetector1:\n",
    "            if cluster1.size > 15:\n",
    "                for cluster2 in clustersDetector2:\n",
    "                    if cluster2.size > 15:\n",
    "                        hCorr.Fill(cluster1.localPos[axis.get(axis1)],cluster2.localPos[axis.get(axis2)])\n",
    "    return hCorr"
   ]
  },
  {
   "cell_type": "code",
   "execution_count": null,
   "id": "16a1248d",
   "metadata": {
    "scrolled": false
   },
   "outputs": [],
   "source": [
    "%jsroot on\n",
    "axis1=\"x-Axis\"\n",
    "axis2=\"x-Axis\"\n",
    "canvas = ROOT.TCanvas()\n",
    "hist = correlationHist(detector1=\"ALPIDE_1\", detector2=\"ALPIDE_1\", axis1=\"x-Axis\", axis2=\"x-Axis\")\n",
    "hist.Draw(\"COLZ\")\n",
    "canvas.Draw()\n"
   ]
  },
  {
   "cell_type": "code",
   "execution_count": null,
   "id": "ad29b357",
   "metadata": {},
   "outputs": [],
   "source": [
    "%jsroot on\n",
    "canvas = ROOT.TCanvas()\n",
    "legend = ROOT.TLegend()\n",
    "\n",
    "# Calculate histogram\n",
    "hMyHist = ROOT.TH1F(\"myHist\", \"myHist\", 30, 0, 30)\n",
    "for event in events:\n",
    "    for cluster in event.clusters:\n",
    "        if int(cluster.detector[-1]) == 1 :\n",
    "            hMyHist.Fill(cluster.size)\n",
    "\n",
    "#Draw histogram\n",
    "hMyHist.Draw()\n",
    "\n",
    "#legend.Draw() \n",
    "canvas.Draw()"
   ]
  }
 ],
 "metadata": {
  "kernelspec": {
   "display_name": "Python 3 (ipykernel)",
   "language": "python",
   "name": "python3"
  },
  "language_info": {
   "codemirror_mode": {
    "name": "ipython",
    "version": 3
   },
   "file_extension": ".py",
   "mimetype": "text/x-python",
   "name": "python",
   "nbconvert_exporter": "python",
   "pygments_lexer": "ipython3",
   "version": "3.8.10"
  },
  "toc": {
   "base_numbering": 1,
   "nav_menu": {},
   "number_sections": false,
   "sideBar": false,
   "skip_h1_title": true,
   "title_cell": "Table of Contents",
   "title_sidebar": "Contents",
   "toc_cell": true,
   "toc_position": {},
   "toc_section_display": true,
   "toc_window_display": false
  },
  "vscode": {
   "interpreter": {
    "hash": "767d51c1340bd893661ea55ea3124f6de3c7a262a8b4abca0554b478b1e2ff90"
   }
  }
 },
 "nbformat": 4,
 "nbformat_minor": 5
}
