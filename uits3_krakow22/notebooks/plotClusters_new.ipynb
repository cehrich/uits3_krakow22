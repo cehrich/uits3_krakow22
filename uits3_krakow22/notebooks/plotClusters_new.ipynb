{
 "cells": [
  {
   "cell_type": "markdown",
   "id": "35c1ec73",
   "metadata": {},
   "source": [
    "# uITS3 clusters\n",
    "+ Notebook for visualizing clusters measured with the uITS3 setup in Krakow 22 testbeam"
   ]
  },
  {
   "cell_type": "markdown",
   "id": "91f1ca49",
   "metadata": {
    "toc": true
   },
   "source": [
    "<h1>Table of Contents<span class=\"tocSkip\"></span></h1>\n",
    "<div class=\"toc\"><ul class=\"toc-item\"><li><span><a href=\"#Import-libraries\" data-toc-modified-id=\"Import-libraries-1\">Import libraries</a></span></li><li><span><a href=\"#Read-clusters-csv-file\" data-toc-modified-id=\"Read-clusters-csv-file-2\">Read clusters csv file</a></span></li><li><span><a href=\"#Define-dashboard\" data-toc-modified-id=\"Define-dashboard-3\">Define dashboard</a></span></li></ul></div>"
   ]
  },
  {
   "cell_type": "markdown",
   "id": "734913eb",
   "metadata": {},
   "source": [
    "### Import libraries\n",
    "+ Using RootInteractive https://github.com/miranov25/RootInteractive"
   ]
  },
  {
   "cell_type": "code",
   "execution_count": 1,
   "id": "bf8c54d4",
   "metadata": {},
   "outputs": [
    {
     "name": "stdout",
     "output_type": "stream",
     "text": [
      "Welcome to JupyROOT 6.24/06\n",
      "x bokehVisJS3DGraph.ts\n",
      "x HistogramCDS.ts\n",
      "Import  CDSCompress.ts\n",
      "Import  DownsamplerCDS.ts\n",
      "Import  CDSAlias.ts\n",
      "Import  CDSJoin.ts\n"
     ]
    }
   ],
   "source": [
    "from bokeh.io import output_notebook, show\n",
    "from bokeh.plotting import output_file\n",
    "from RootInteractive.InteractiveDrawing.bokeh.bokehDrawSA import *\n",
    "from RootInteractive.InteractiveDrawing.bokeh.bokehInteractiveParameters import *\n",
    "from RootInteractive.Tools.pandaTools import initMetadata\n",
    "import pandas as pd\n",
    "import numpy as np\n",
    "import math\n",
    "import logging"
   ]
  },
  {
   "cell_type": "code",
   "execution_count": 2,
   "id": "1c5a1b5e",
   "metadata": {},
   "outputs": [
    {
     "data": {
      "text/html": [
       "<style>.container { width:90% !important; }</style>"
      ],
      "text/plain": [
       "<IPython.core.display.HTML object>"
      ]
     },
     "metadata": {},
     "output_type": "display_data"
    }
   ],
   "source": [
    "from IPython.display import display, HTML\n",
    "display(HTML(\"<style>.container { width:90% !important; }</style>\"))"
   ]
  },
  {
   "cell_type": "markdown",
   "id": "bf1d7675",
   "metadata": {},
   "source": [
    "### Read clusters csv file"
   ]
  },
  {
   "cell_type": "code",
   "execution_count": 3,
   "id": "f5a45691",
   "metadata": {},
   "outputs": [],
   "source": [
    "path = \"../output/\"\n",
    "file = \"yzAlign_run456114514_221112120005.csv\"\n",
    "df = pd.read_csv(path+file)\n",
    "initMetadata(df)\n",
    "df.meta.metaData = {    \n",
    "    \"localX.AxisTitle\":      \"local X (mm)\",\n",
    "    \"localY.AxisTitle\":      \"local Y (mm)\",\n",
    "    \"globalX.AxisTitle\":     \"global X (mm)\",\n",
    "    \"globalY.AxisTitle\":     \"global Y (mm)\",\n",
    "    \"globalZ.AxisTitle\":     \"global Z (mm)\",\n",
    "    \"ID.AxisTitle\":          \"ALPIDE\",\n",
    "    \"nPixels.AxisTitle\":     \"Number of pixels in cluster\",\n",
    "    \"columnWidth.AxisTitle\": \"Cluster width in columns (Width in X)\",\n",
    "    \"rowWidth.AxisTitle\": \"Cluster width in rows (Width in Y)\"\n",
    "}"
   ]
  },
  {
   "cell_type": "code",
   "execution_count": 4,
   "id": "d8a90792",
   "metadata": {},
   "outputs": [
    {
     "data": {
      "text/html": [
       "<div>\n",
       "<style scoped>\n",
       "    .dataframe tbody tr th:only-of-type {\n",
       "        vertical-align: middle;\n",
       "    }\n",
       "\n",
       "    .dataframe tbody tr th {\n",
       "        vertical-align: top;\n",
       "    }\n",
       "\n",
       "    .dataframe thead th {\n",
       "        text-align: right;\n",
       "    }\n",
       "</style>\n",
       "<table border=\"1\" class=\"dataframe\">\n",
       "  <thead>\n",
       "    <tr style=\"text-align: right;\">\n",
       "      <th></th>\n",
       "      <th>eventNr</th>\n",
       "      <th>detector</th>\n",
       "      <th>localX</th>\n",
       "      <th>localY</th>\n",
       "      <th>globalX</th>\n",
       "      <th>globalY</th>\n",
       "      <th>globalZ</th>\n",
       "      <th>charge</th>\n",
       "      <th>split</th>\n",
       "      <th>nPixels</th>\n",
       "      <th>columnWidth</th>\n",
       "      <th>rowWidth</th>\n",
       "      <th>timeStamp</th>\n",
       "      <th>ID</th>\n",
       "    </tr>\n",
       "  </thead>\n",
       "  <tbody>\n",
       "    <tr>\n",
       "      <th>0</th>\n",
       "      <td>0</td>\n",
       "      <td>ALPIDE_0</td>\n",
       "      <td>-4.897700</td>\n",
       "      <td>-5.90843</td>\n",
       "      <td>-29.6011</td>\n",
       "      <td>4.875970</td>\n",
       "      <td>6.591570</td>\n",
       "      <td>13</td>\n",
       "      <td>0</td>\n",
       "      <td>13</td>\n",
       "      <td>3</td>\n",
       "      <td>5</td>\n",
       "      <td>6.668290e+14</td>\n",
       "      <td>0</td>\n",
       "    </tr>\n",
       "    <tr>\n",
       "      <th>1</th>\n",
       "      <td>0</td>\n",
       "      <td>ALPIDE_1</td>\n",
       "      <td>-5.553020</td>\n",
       "      <td>-6.17212</td>\n",
       "      <td>-23.3604</td>\n",
       "      <td>5.503610</td>\n",
       "      <td>0.077878</td>\n",
       "      <td>17</td>\n",
       "      <td>0</td>\n",
       "      <td>17</td>\n",
       "      <td>4</td>\n",
       "      <td>5</td>\n",
       "      <td>6.668330e+14</td>\n",
       "      <td>1</td>\n",
       "    </tr>\n",
       "    <tr>\n",
       "      <th>2</th>\n",
       "      <td>0</td>\n",
       "      <td>ALPIDE_2</td>\n",
       "      <td>-4.236140</td>\n",
       "      <td>-6.39072</td>\n",
       "      <td>-17.5038</td>\n",
       "      <td>4.197150</td>\n",
       "      <td>-6.390720</td>\n",
       "      <td>16</td>\n",
       "      <td>0</td>\n",
       "      <td>16</td>\n",
       "      <td>4</td>\n",
       "      <td>5</td>\n",
       "      <td>6.668340e+14</td>\n",
       "      <td>2</td>\n",
       "    </tr>\n",
       "    <tr>\n",
       "      <th>3</th>\n",
       "      <td>1</td>\n",
       "      <td>ALPIDE_3</td>\n",
       "      <td>0.987894</td>\n",
       "      <td>-0.29568</td>\n",
       "      <td>17.9729</td>\n",
       "      <td>0.987398</td>\n",
       "      <td>-0.295680</td>\n",
       "      <td>14</td>\n",
       "      <td>0</td>\n",
       "      <td>14</td>\n",
       "      <td>4</td>\n",
       "      <td>4</td>\n",
       "      <td>6.668270e+14</td>\n",
       "      <td>3</td>\n",
       "    </tr>\n",
       "    <tr>\n",
       "      <th>4</th>\n",
       "      <td>1</td>\n",
       "      <td>ALPIDE_4</td>\n",
       "      <td>2.961700</td>\n",
       "      <td>-6.76032</td>\n",
       "      <td>29.8539</td>\n",
       "      <td>2.956900</td>\n",
       "      <td>5.739680</td>\n",
       "      <td>19</td>\n",
       "      <td>0</td>\n",
       "      <td>19</td>\n",
       "      <td>5</td>\n",
       "      <td>5</td>\n",
       "      <td>6.668290e+14</td>\n",
       "      <td>4</td>\n",
       "    </tr>\n",
       "  </tbody>\n",
       "</table>\n",
       "</div>"
      ],
      "text/plain": [
       "   eventNr  detector    localX   localY  globalX   globalY   globalZ  charge  \\\n",
       "0        0  ALPIDE_0 -4.897700 -5.90843 -29.6011  4.875970  6.591570      13   \n",
       "1        0  ALPIDE_1 -5.553020 -6.17212 -23.3604  5.503610  0.077878      17   \n",
       "2        0  ALPIDE_2 -4.236140 -6.39072 -17.5038  4.197150 -6.390720      16   \n",
       "3        1  ALPIDE_3  0.987894 -0.29568  17.9729  0.987398 -0.295680      14   \n",
       "4        1  ALPIDE_4  2.961700 -6.76032  29.8539  2.956900  5.739680      19   \n",
       "\n",
       "   split  nPixels  columnWidth  rowWidth     timeStamp  ID  \n",
       "0      0       13            3         5  6.668290e+14   0  \n",
       "1      0       17            4         5  6.668330e+14   1  \n",
       "2      0       16            4         5  6.668340e+14   2  \n",
       "3      0       14            4         4  6.668270e+14   3  \n",
       "4      0       19            5         5  6.668290e+14   4  "
      ]
     },
     "execution_count": 4,
     "metadata": {},
     "output_type": "execute_result"
    }
   ],
   "source": [
    "myMap = {\"ALPIDE_0\":0,\"ALPIDE_1\":1,\"ALPIDE_2\":2,\"ALPIDE_3\":3,\"ALPIDE_4\":4}\n",
    "df[\"ID\"] = df[\"detector\"].map(myMap)\n",
    "variables=list([i for i in df.columns if \"detector\" not in i])\n",
    "df.head()"
   ]
  },
  {
   "cell_type": "code",
   "execution_count": 5,
   "id": "4412a63f",
   "metadata": {},
   "outputs": [],
   "source": [
    "aliasArray = [\n",
    "    #(\"ALPIDE_bitmap\",\"0x1*(detector==\\\"ALPIDE_0\\\")\")\n",
    "]\n",
    "\n",
    "aliasArray+=[\n",
    "    {\n",
    "        \"name\": \"customFunction\",\n",
    "        \"variables\": [i for i in variables if  \"ustom\" not in i ],\n",
    "        \"func\":\"customFunction\",\n",
    "    }\n",
    "]"
   ]
  },
  {
   "cell_type": "markdown",
   "id": "adb47774",
   "metadata": {},
   "source": [
    "### Define dashboard"
   ]
  },
  {
   "cell_type": "code",
   "execution_count": 6,
   "id": "77657323",
   "metadata": {},
   "outputs": [],
   "source": [
    "axisTransforms = [None, \"sqrt\", \"lambda x: log(1+x)\",\"lambda x: 1/sqrt(x)\"]\n",
    "\n",
    "parameterArray = [\n",
    "    # Parameters to enable custom histogramming\n",
    "    {\"name\": \"varX\", \"value\":\"localX\", \"options\":variables},\n",
    "    {\"name\": \"varY\", \"value\":\"localY\", \"options\":variables},\n",
    "    {\"name\": \"varZ\", \"value\":\"nPixels\", \"options\":variables},\n",
    "    {\"name\": \"nbinsX\", \"value\":30, \"range\":[10, 200]},\n",
    "    {\"name\": \"nbinsY\", \"value\":30, \"range\":[10, 200]},\n",
    "    {\"name\": \"nbinsZ\", \"value\":5, \"range\":[1,10]},\n",
    "    {\"name\": \"varColor\", \"value\":\"nPixels\", \"options\":variables},\n",
    "    # Transformations on axes\n",
    "    {'name': \"xAxisTransform\", \"value\":None, \"options\":axisTransforms},\n",
    "    {'name': \"yAxisTransform\", \"value\":None, \"options\":axisTransforms},\n",
    "    {'name': \"zAxisTransform\", \"value\":None, \"options\":axisTransforms},\n",
    "    # custom selection\n",
    "    {'name': 'customFunction', \"value\":\"return 1\"},\n",
    "]\n",
    "\n",
    "parameterArray.extend(figureParameters[\"legend\"]['parameterArray'])   \n",
    "parameterArray.extend(figureParameters[\"markers\"]['parameterArray'])  "
   ]
  },
  {
   "cell_type": "code",
   "execution_count": 7,
   "id": "f3ca17a1",
   "metadata": {},
   "outputs": [],
   "source": [
    "widgetParams = [\n",
    "    # Selection on data\n",
    "    [\"range\", [\"localX\"]],\n",
    "    [\"range\", [\"localY\"]],\n",
    "    [\"range\", [\"globalX\"]],\n",
    "    [\"range\", [\"globalY\"]],\n",
    "    [\"range\", [\"globalZ\"]],\n",
    "    [\"multiSelect\", [\"detector\"]],\n",
    "    [\"range\", [\"eventNr\"]],\n",
    "    [\"range\", [\"timeStamp\"]],\n",
    "    [\"range\", [\"charge\"]],\n",
    "    [\"range\", [\"nPixels\"]],\n",
    "    [\"range\", [\"columnWidth\"]],\n",
    "    [\"range\", [\"rowWidth\"]],\n",
    "    [\"multiSelect\", [\"split\"]],\n",
    "    ['text', ['customFunction'], {\"name\": \"Custom selection\"}],\n",
    "    # Selection for visualization\n",
    "    ['select', ['varX'], {\"name\": \"varX\"}],\n",
    "    ['select', ['varY'], {\"name\": \"varY\"}],\n",
    "    ['select', ['varZ'], {\"name\": \"varZ\"}],\n",
    "    ['slider', ['nbinsX'], {\"name\": \"nbinsX\"}],\n",
    "    ['slider', ['nbinsY'], {\"name\": \"nbinsY\"}],\n",
    "    ['slider', ['nbinsZ'], {\"name\": \"nbinsZ\"}],\n",
    "    ['select', ['xAxisTransform'], {\"name\": \"xAxisTransform\"}],\n",
    "    ['select', ['yAxisTransform'], {\"name\": \"yAxisTransform\"}],\n",
    "    ['select', ['zAxisTransform'], {\"name\": \"zAxisTransform\"}],\n",
    "    ['select', ['varColor'], {\"name\": \"varColor\"}],\n",
    "]\n",
    "\n",
    "widgetParams.extend(figureParameters[\"legend\"][\"widgets\"])\n",
    "widgetParams.extend(figureParameters[\"markers\"][\"widgets\"])\n",
    "\n",
    "widgetLayoutDesc = {\n",
    "    \"Selection\": [[0,1,2,3,4],[5,6,7,8],[9,10,11,12],[13],{\"sizing_mode\": \"scale_width\"}],\n",
    "    \"Plotting\" : [[14,15,16],[17,18,19],[20,21,22],[23],{\"sizing_mode\": \"scale_width\"}],\n",
    "    \"Legend\": figureParameters['legend']['widgetLayout'],\n",
    "    \"Markers\":[\"markerSize\"]\n",
    "} \n",
    "\n",
    "figureGlobalOption={}\n",
    "figureGlobalOption=figureParameters[\"legend\"][\"figureOptions\"]\n",
    "figureGlobalOption[\"size\"]=\"markerSize\"\n",
    "figureGlobalOption[\"x_transform\"]=\"xAxisTransform\"\n",
    "figureGlobalOption[\"y_transform\"]=\"yAxisTransform\"\n",
    "figureGlobalOption[\"z_transform\"]=\"zAxisTransform\""
   ]
  },
  {
   "cell_type": "code",
   "execution_count": 8,
   "id": "59f95d92",
   "metadata": {},
   "outputs": [],
   "source": [
    "histoArray = [\n",
    "        {\"name\": \"histo2Dhitmap\", \"variables\": [\"localX\",\"localY\"], \"nbins\":[\"nbinsX\",\"nbinsY\"], \"axis\":[1],\"unbinned_projections\":True},\n",
    "        {\"name\": \"histo3Dcustom\", \"variables\": [\"varX\",\"varY\",\"varZ\"], \"nbins\":[\"nbinsX\",\"nbinsY\",\"nbinsZ\"],\"axis\":[1,2],\"unbinned_projections\":True},\n",
    "        {\"name\": \"histo2Dcustom\", \"variables\": [\"varX\",\"varY\"], \"nbins\":[\"nbinsX\",\"nbinsY\"], \"axis\":[1],\"unbinned_projections\":True},\n",
    "        {\"name\": \"histo1Dcustom\", \"variables\": [\"varX\"], \"nbins\":\"nbinsX\"},\n",
    "\n",
    "    ]\n",
    "\n",
    "figureArray = [\n",
    "    # 3D plot\n",
    "    [[\"globalZ\"], [\"globalX\"], {\"color\": \"red\", \"size\": 2, \"varZ\": \"globalY\", \"colorZvar\": \"varColor\", \"name\":\"3D\"}],\n",
    "    # Hitmap\n",
    "    [[(\"bin_bottom_0\", \"bin_top_0\")], [(\"bin_bottom_1\", \"bin_top_1\")], {\"colorZvar\":\"bin_count\",\"source\":\"histo2Dhitmap\",\"name\":\"2Dhitmap\"}],\n",
    "    # Custom histogramming\n",
    "    [[\"bin_center\"],[\"bin_count\"],{\"source\":\"histo1Dcustom\"}],\n",
    "    [[(\"bin_bottom_0\", \"bin_top_0\")], [(\"bin_bottom_1\", \"bin_top_1\")], {\"colorZvar\":\"bin_count\",\"source\":\"histo2Dcustom\"}],\n",
    "    [[(\"bin_bottom_0\", \"bin_top_0\")], [(\"bin_bottom_1\", \"bin_top_1\")], {\"colorZvar\": \"mean\", \"source\":\"histo3Dcustom_2\"}],\n",
    "    #\n",
    "    figureGlobalOption\n",
    "]"
   ]
  },
  {
   "cell_type": "code",
   "execution_count": 9,
   "id": "d03a081a",
   "metadata": {},
   "outputs": [],
   "source": [
    "layout = {\n",
    "    \"Geometry\" : [[0],{\"plot_height\":500,\"sizing_mode\":\"fixed\"}],\n",
    "    \"Hitmap\" : [[1],{\"plot_height\":500,\"sizing_mode\":\"fixed\"}],\n",
    "    \"Custom\" : [[2,3,4],{\"plot_height\":500}]\n",
    "}"
   ]
  },
  {
   "cell_type": "code",
   "execution_count": 10,
   "id": "18dae0a7",
   "metadata": {},
   "outputs": [
    {
     "name": "stderr",
     "output_type": "stream",
     "text": [
      "/home/cehrich/.local/lib/python3.8/site-packages/RootInteractive/InteractiveDrawing/bokeh/bokehTools.py:1446: FutureWarning: Specifying `na_sentinel=None` is deprecated, specify `use_na_sentinel=False` instead.\n",
      "  codes, optionsPlot = pd.factorize(dfCategorical, sort=True, na_sentinel=None)\n"
     ]
    },
    {
     "name": "stdout",
     "output_type": "stream",
     "text": [
      "compressCDSPipe\n",
      "Compress 1 globalZ .* [('relative', 10), ('code', 0), ('zip', 0), ('base64', 0)]\n",
      "Compress factor 15936878 127880547 0.1246231610191658 1 globalZ\n",
      "Compress 2 globalX .* [('relative', 10), ('code', 0), ('zip', 0), ('base64', 0)]\n",
      "Compress factor 11109618 127880547 0.08687496464962728 2 globalX\n",
      "Compress 3 globalY .* [('relative', 10), ('code', 0), ('zip', 0), ('base64', 0)]\n",
      "Compress factor 16116142 127880547 0.12602496922381792 3 globalY\n",
      "Compress 4 split .* [('relative', 10), ('code', 0), ('zip', 0), ('base64', 0)]\n",
      "Compress factor 27846 106567241 0.00026129981163723663 4 split\n",
      "Compress 5 nPixels .* [('relative', 10), ('code', 0), ('zip', 0), ('base64', 0)]\n",
      "Compress factor 5827910 106567243 0.054687630419415094 5 nPixels\n",
      "Compress 6 localX .* [('relative', 10), ('code', 0), ('zip', 0), ('base64', 0)]\n",
      "Compress factor 16108546 127880546 0.1259655710259479 6 localX\n",
      "Compress 7 columnWidth .* [('relative', 10), ('code', 0), ('zip', 0), ('base64', 0)]\n",
      "Compress factor 2955114 106567247 0.02773003979355871 7 columnWidth\n",
      "Compress 8 rowWidth .* [('relative', 10), ('code', 0), ('zip', 0), ('base64', 0)]\n",
      "Compress factor 3376566 106567244 0.03168483929264418 8 rowWidth\n",
      "Compress 9 eventNr .* [('relative', 10), ('code', 0), ('zip', 0), ('base64', 0)]\n",
      "Compress factor 48882 106567243 0.0004586962993872329 9 eventNr\n",
      "Compress 10 ID .* [('relative', 10), ('code', 0), ('zip', 0), ('base64', 0)]\n",
      "Compress factor 2348818 106567238 0.022040713863673563 10 ID\n",
      "Compress 11 localY .* [('relative', 10), ('code', 0), ('zip', 0), ('base64', 0)]\n",
      "Compress factor 15808406 127880546 0.12361853694306248 11 localY\n",
      "Compress 12 charge .* [('relative', 10), ('code', 0), ('zip', 0), ('base64', 0)]\n",
      "Compress factor 5827910 106567242 0.05468763093258996 12 charge\n",
      "Compress 13 timeStamp .* [('relative', 10), ('code', 0), ('zip', 0), ('base64', 0)]\n",
      "Compress factor 95578 127880549 0.0007474006074215399 13 timeStamp\n",
      "Compress 14 detector.factor() .* [('relative', 10), ('code', 0), ('zip', 0), ('base64', 0)]\n",
      "Compress factor 2256834 21313466 0.10588770498425737 14 detector.factor()\n"
     ]
    },
    {
     "name": "stderr",
     "output_type": "stream",
     "text": [
      "WARNING:bokeh.core.validation.check:W-1005 (FIXED_SIZING_MODE): 'fixed' sizing mode requires width and height to be set: Row(id='1566', ...)\n",
      "WARNING:bokeh.core.validation.check:W-1005 (FIXED_SIZING_MODE): 'fixed' sizing mode requires width and height to be set: Row(id='1569', ...)\n"
     ]
    },
    {
     "name": "stdout",
     "output_type": "stream",
     "text": [
      "Compress 15 split.factor() .* [('relative', 10), ('code', 0), ('zip', 0), ('base64', 0)]\n",
      "Compress factor 27854 21313466 0.0013068733166158896 15 split.factor()\n",
      "Compress _all 97872902 1555880912 0.06290513704817531 15\n"
     ]
    },
    {
     "data": {
      "text/plain": [
       "<RootInteractive.InteractiveDrawing.bokeh.bokehDrawSA.bokehDrawSA at 0x7f8490a85490>"
      ]
     },
     "execution_count": 10,
     "metadata": {},
     "output_type": "execute_result"
    }
   ],
   "source": [
    "tooltips = []\n",
    "output_file(\"../output/\"+file[0:-4]+\".html\")\n",
    "arrayCompressionRelative10=[(\".*\",[(\"relative\",10), (\"code\",0), (\"zip\",0), (\"base64\",0)])]\n",
    "arrayCompression=arrayCompressionRelative10\n",
    "bokehDrawSA.fromArray(df, \"eventNr>=0\", figureArray, widgetParams, layout=layout, tooltips=tooltips, widgetLayout=widgetLayoutDesc,\n",
    "                      histogramArray=histoArray,aliasArray=aliasArray,arrayCompression=arrayCompression,parameterArray=parameterArray,\n",
    "                      sizing_mode='scale_width',rescaleColorMapper=True,)"
   ]
  }
 ],
 "metadata": {
  "kernelspec": {
   "display_name": "Python 3 (ipykernel)",
   "language": "python",
   "name": "python3"
  },
  "language_info": {
   "codemirror_mode": {
    "name": "ipython",
    "version": 3
   },
   "file_extension": ".py",
   "mimetype": "text/x-python",
   "name": "python",
   "nbconvert_exporter": "python",
   "pygments_lexer": "ipython3",
   "version": "3.8.10"
  },
  "toc": {
   "base_numbering": 1,
   "nav_menu": {},
   "number_sections": false,
   "sideBar": false,
   "skip_h1_title": true,
   "title_cell": "Table of Contents",
   "title_sidebar": "Contents",
   "toc_cell": true,
   "toc_position": {},
   "toc_section_display": true,
   "toc_window_display": false
  },
  "vscode": {
   "interpreter": {
    "hash": "916dbcbb3f70747c44a77c7bcd40155683ae19c65e1c03b4aa3499c5328201f1"
   }
  }
 },
 "nbformat": 4,
 "nbformat_minor": 5
}
