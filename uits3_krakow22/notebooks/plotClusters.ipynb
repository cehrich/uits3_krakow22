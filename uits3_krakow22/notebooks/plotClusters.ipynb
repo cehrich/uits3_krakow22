{
 "cells": [
  {
   "cell_type": "code",
   "execution_count": 1,
   "id": "bf8c54d4",
   "metadata": {},
   "outputs": [
    {
     "name": "stderr",
     "output_type": "stream",
     "text": [
      "/home/berki/Software/RootInteractive/RootInteractive/Tools/aliTreePlayer.py:582: SyntaxWarning: \"is\" with a literal. Did you mean \"==\"?\n",
      "  if name[0] is '#':\n",
      "/home/berki/Software/RootInteractive/RootInteractive/Tools/aliTreePlayer.py:619: SyntaxWarning: \"is\" with a literal. Did you mean \"==\"?\n",
      "  if regExp.Match(keys.At(iKey).GetName()) is 0:\n",
      "/home/berki/Software/RootInteractive/RootInteractive/Tools/aliTreePlayer.py:621: SyntaxWarning: \"is not\" with a literal. Did you mean \"!=\"?\n",
      "  if notReg.Match(keys.At(iKey).GetName()) is not 0:\n",
      "/home/berki/Software/RootInteractive/RootInteractive/Tools/aliTreePlayer.py:625: SyntaxWarning: \"is\" with a literal. Did you mean \"==\"?\n",
      "  if treeBase.GetEntries() is 0:\n"
     ]
    },
    {
     "name": "stdout",
     "output_type": "stream",
     "text": [
      "x bokehVisJS3DGraph.ts\n",
      "x HistogramCDS.ts\n",
      "Import  CDSCompress.ts\n",
      "Import  DownsamplerCDS.ts\n",
      "Import  CDSAlias.ts\n",
      "Import  CDSJoin.ts\n"
     ]
    }
   ],
   "source": [
    "from bokeh.io import output_notebook, show\n",
    "from bokeh.plotting import output_file\n",
    "from RootInteractive.InteractiveDrawing.bokeh.bokehDrawSA import bokehDrawSA\n",
    "from RootInteractive.InteractiveDrawing.bokeh.bokehTools import bokehDrawArray\n",
    "from RootInteractive.Tools.pandaTools import initMetadata\n",
    "import pandas as pd\n",
    "import numpy as np\n",
    "import math\n",
    "import logging\n",
    "import matplotlib\n",
    "import matplotlib.pyplot as plt"
   ]
  },
  {
   "cell_type": "code",
   "execution_count": 3,
   "id": "1c5a1b5e",
   "metadata": {},
   "outputs": [
    {
     "data": {
      "text/html": [
       "<style>.container { width:90% !important; }</style>"
      ],
      "text/plain": [
       "<IPython.core.display.HTML object>"
      ]
     },
     "metadata": {},
     "output_type": "display_data"
    }
   ],
   "source": [
    "from IPython.display import display, HTML\n",
    "display(HTML(\"<style>.container { width:90% !important; }</style>\"))"
   ]
  },
  {
   "cell_type": "code",
   "execution_count": 4,
   "id": "f5a45691",
   "metadata": {},
   "outputs": [],
   "source": [
    "df = pd.read_csv(\"output.csv\")\n",
    "initMetadata(df)"
   ]
  },
  {
   "cell_type": "code",
   "execution_count": 5,
   "id": "14ce5f6b",
   "metadata": {
    "scrolled": true
   },
   "outputs": [
    {
     "name": "stdout",
     "output_type": "stream",
     "text": [
      "Progress: 10 %\n",
      "Progress: 20 %\n",
      "Progress: 30 %\n",
      "Progress: 40 %\n",
      "Progress: 50 %\n",
      "Progress: 60 %\n",
      "Progress: 70 %\n",
      "Progress: 80 %\n",
      "Progress: 90 %\n"
     ]
    }
   ],
   "source": [
    "events = list(set(df.eventNr))\n",
    "nEvents = len(events)\n",
    "bitmask_events = [0] * nEvents\n",
    "progress = 10\n",
    "for i,event in enumerate(events):\n",
    "    # Print progress just to make sure it is running\n",
    "    if (i/nEvents > progress/100):\n",
    "        print(\"Progress:\",progress,\"%\")\n",
    "        progress += 10\n",
    "        \n",
    "    alpides = set(df[df.eventNr == event].detector)\n",
    "    if (\"ALPIDE_0\" in alpides): bitmask_events[i] += 0x1\n",
    "    if (\"ALPIDE_1\" in alpides): bitmask_events[i] += 0x2\n",
    "    if (\"ALPIDE_2\" in alpides): bitmask_events[i] += 0x4\n",
    "    if (\"ALPIDE_3\" in alpides): bitmask_events[i] += 0x8\n",
    "    if (\"ALPIDE_4\" in alpides): bitmask_events[i] += 0x10\n",
    "        \n",
    "event = -1\n",
    "j=0\n",
    "nRows = len(df.index)\n",
    "bitmasks = [0]*nRows\n",
    "bitmask_row = bitmask_events[j]\n",
    "\n",
    "for row in range(nRows):\n",
    "    if df[\"eventNr\"][row] == event:\n",
    "        bitmasks[row] = bitmask_row\n",
    "    else:\n",
    "        event = df[\"eventNr\"][row]\n",
    "        bitmask_row = bitmask_events[j]\n",
    "        bitmasks[row] = bitmask_row\n",
    "        j+=1\n",
    "        \n",
    "df[\"bitmask\"] = bitmasks       "
   ]
  },
  {
   "cell_type": "code",
   "execution_count": 91,
   "id": "a42e2d13",
   "metadata": {},
   "outputs": [],
   "source": [
    "df_events = df[df[\"bitmask\"] == 31]\n",
    "nEvents = len(set(df_events.eventNr))\n",
    "eventLengths = []\n",
    "alpide0lengths = []\n",
    "alpide1lengths = []\n",
    "alpide2lengths = []\n",
    "alpide3lengths = []\n",
    "alpide4lengths = []\n",
    "\n",
    "for event in set(df_events.eventNr):\n",
    "    event_df = df_events[df_events.eventNr == event]\n",
    "    eventLengths.append(len(event_df.index))\n",
    "    alpide0lengths.append(len(event_df[event_df[\"detector\"] == \"ALPIDE_0\"].index)) \n",
    "    alpide1lengths.append(len(event_df[event_df[\"detector\"] == \"ALPIDE_1\"].index)) \n",
    "    alpide2lengths.append(len(event_df[event_df[\"detector\"] == \"ALPIDE_2\"].index)) \n",
    "    alpide3lengths.append(len(event_df[event_df[\"detector\"] == \"ALPIDE_3\"].index)) \n",
    "    alpide4lengths.append(len(event_df[event_df[\"detector\"] == \"ALPIDE_4\"].index)) "
   ]
  },
  {
   "cell_type": "code",
   "execution_count": 101,
   "id": "f0dca912",
   "metadata": {},
   "outputs": [
    {
     "data": {
      "text/plain": [
       "(array([   0.,  305.,  236.,  273.,  499.,  860., 1227., 1467., 1579.,\n",
       "        1572., 1245.,  997.,  714.,  532.,  329.,  207.,  109.,   93.,\n",
       "          48.,   43.,   33.]),\n",
       " array([-0.5,  0.5,  1.5,  2.5,  3.5,  4.5,  5.5,  6.5,  7.5,  8.5,  9.5,\n",
       "        10.5, 11.5, 12.5, 13.5, 14.5, 15.5, 16.5, 17.5, 18.5, 19.5, 20.5]),\n",
       " <BarContainer object of 21 artists>)"
      ]
     },
     "execution_count": 101,
     "metadata": {},
     "output_type": "execute_result"
    },
    {
     "data": {
      "image/png": "[encoded data removed]",
      "text/plain": [
       "<Figure size 432x288 with 1 Axes>"
      ]
     },
     "metadata": {
      "needs_background": "light"
     },
     "output_type": "display_data"
    }
   ],
   "source": [
    "plt.hist(alpide2lengths,21,[-0.5,20.5])"
   ]
  },
  {
   "cell_type": "code",
   "execution_count": 106,
   "id": "72d6e077",
   "metadata": {},
   "outputs": [
    {
     "ename": "AttributeError",
     "evalue": "Rectangle.set() got an unexpected keyword argument 'column'",
     "output_type": "error",
     "traceback": [
      "\u001b[0;31m---------------------------------------------------------------------------\u001b[0m",
      "\u001b[0;31mAttributeError\u001b[0m                            Traceback (most recent call last)",
      "\u001b[0;32m<ipython-input-106-938351ffa8c6>\u001b[0m in \u001b[0;36m<module>\u001b[0;34m\u001b[0m\n\u001b[0;32m----> 1\u001b[0;31m \u001b[0mdf_events\u001b[0m\u001b[0;34m.\u001b[0m\u001b[0mplot\u001b[0m\u001b[0;34m.\u001b[0m\u001b[0mhist\u001b[0m\u001b[0;34m(\u001b[0m\u001b[0mcolumn\u001b[0m\u001b[0;34m=\u001b[0m\u001b[0;34m\"nPixels\"\u001b[0m\u001b[0;34m,\u001b[0m \u001b[0mby\u001b[0m\u001b[0;34m=\u001b[0m\u001b[0;34m\"detector\"\u001b[0m\u001b[0;34m,\u001b[0m \u001b[0mfigsize\u001b[0m\u001b[0;34m=\u001b[0m\u001b[0;34m(\u001b[0m\u001b[0;36m10\u001b[0m\u001b[0;34m,\u001b[0m \u001b[0;36m8\u001b[0m\u001b[0;34m)\u001b[0m\u001b[0;34m)\u001b[0m\u001b[0;34m\u001b[0m\u001b[0;34m\u001b[0m\u001b[0m\n\u001b[0m",
      "\u001b[0;32m~/alice/sw/ubuntu2204_x86-64/Python-modules/1.0-local1/share/python-modules/lib/python/site-packages/pandas/plotting/_core.py\u001b[0m in \u001b[0;36mhist\u001b[0;34m(self, by, bins, **kwargs)\u001b[0m\n\u001b[1;32m   1288\u001b[0m             \u001b[0;34m>>\u001b[0m\u001b[0;34m>\u001b[0m \u001b[0max\u001b[0m \u001b[0;34m=\u001b[0m \u001b[0mdf\u001b[0m\u001b[0;34m.\u001b[0m\u001b[0mplot\u001b[0m\u001b[0;34m.\u001b[0m\u001b[0mhist\u001b[0m\u001b[0;34m(\u001b[0m\u001b[0mbins\u001b[0m\u001b[0;34m=\u001b[0m\u001b[0;36m12\u001b[0m\u001b[0;34m,\u001b[0m \u001b[0malpha\u001b[0m\u001b[0;34m=\u001b[0m\u001b[0;36m0.5\u001b[0m\u001b[0;34m)\u001b[0m\u001b[0;34m\u001b[0m\u001b[0;34m\u001b[0m\u001b[0m\n\u001b[1;32m   1289\u001b[0m         \"\"\"\n\u001b[0;32m-> 1290\u001b[0;31m         \u001b[0;32mreturn\u001b[0m \u001b[0mself\u001b[0m\u001b[0;34m(\u001b[0m\u001b[0mkind\u001b[0m\u001b[0;34m=\u001b[0m\u001b[0;34m\"hist\"\u001b[0m\u001b[0;34m,\u001b[0m \u001b[0mby\u001b[0m\u001b[0;34m=\u001b[0m\u001b[0mby\u001b[0m\u001b[0;34m,\u001b[0m \u001b[0mbins\u001b[0m\u001b[0;34m=\u001b[0m\u001b[0mbins\u001b[0m\u001b[0;34m,\u001b[0m \u001b[0;34m**\u001b[0m\u001b[0mkwargs\u001b[0m\u001b[0;34m)\u001b[0m\u001b[0;34m\u001b[0m\u001b[0;34m\u001b[0m\u001b[0m\n\u001b[0m\u001b[1;32m   1291\u001b[0m \u001b[0;34m\u001b[0m\u001b[0m\n\u001b[1;32m   1292\u001b[0m     \u001b[0;32mdef\u001b[0m \u001b[0mkde\u001b[0m\u001b[0;34m(\u001b[0m\u001b[0mself\u001b[0m\u001b[0;34m,\u001b[0m \u001b[0mbw_method\u001b[0m\u001b[0;34m=\u001b[0m\u001b[0;32mNone\u001b[0m\u001b[0;34m,\u001b[0m \u001b[0mind\u001b[0m\u001b[0;34m=\u001b[0m\u001b[0;32mNone\u001b[0m\u001b[0;34m,\u001b[0m \u001b[0;34m**\u001b[0m\u001b[0mkwargs\u001b[0m\u001b[0;34m)\u001b[0m\u001b[0;34m:\u001b[0m\u001b[0;34m\u001b[0m\u001b[0;34m\u001b[0m\u001b[0m\n",
      "\u001b[0;32m~/alice/sw/ubuntu2204_x86-64/Python-modules/1.0-local1/share/python-modules/lib/python/site-packages/pandas/plotting/_core.py\u001b[0m in \u001b[0;36m__call__\u001b[0;34m(self, *args, **kwargs)\u001b[0m\n\u001b[1;32m    947\u001b[0m                     \u001b[0mdata\u001b[0m\u001b[0;34m.\u001b[0m\u001b[0mcolumns\u001b[0m \u001b[0;34m=\u001b[0m \u001b[0mlabel_name\u001b[0m\u001b[0;34m\u001b[0m\u001b[0;34m\u001b[0m\u001b[0m\n\u001b[1;32m    948\u001b[0m \u001b[0;34m\u001b[0m\u001b[0m\n\u001b[0;32m--> 949\u001b[0;31m         \u001b[0;32mreturn\u001b[0m \u001b[0mplot_backend\u001b[0m\u001b[0;34m.\u001b[0m\u001b[0mplot\u001b[0m\u001b[0;34m(\u001b[0m\u001b[0mdata\u001b[0m\u001b[0;34m,\u001b[0m \u001b[0mkind\u001b[0m\u001b[0;34m=\u001b[0m\u001b[0mkind\u001b[0m\u001b[0;34m,\u001b[0m \u001b[0;34m**\u001b[0m\u001b[0mkwargs\u001b[0m\u001b[0;34m)\u001b[0m\u001b[0;34m\u001b[0m\u001b[0;34m\u001b[0m\u001b[0m\n\u001b[0m\u001b[1;32m    950\u001b[0m \u001b[0;34m\u001b[0m\u001b[0m\n\u001b[1;32m    951\u001b[0m     \u001b[0m__call__\u001b[0m\u001b[0;34m.\u001b[0m\u001b[0m__doc__\u001b[0m \u001b[0;34m=\u001b[0m \u001b[0m__doc__\u001b[0m\u001b[0;34m\u001b[0m\u001b[0;34m\u001b[0m\u001b[0m\n",
      "\u001b[0;32m~/alice/sw/ubuntu2204_x86-64/Python-modules/1.0-local1/share/python-modules/lib/python/site-packages/pandas/plotting/_matplotlib/__init__.py\u001b[0m in \u001b[0;36mplot\u001b[0;34m(data, kind, **kwargs)\u001b[0m\n\u001b[1;32m     59\u001b[0m             \u001b[0mkwargs\u001b[0m\u001b[0;34m[\u001b[0m\u001b[0;34m\"ax\"\u001b[0m\u001b[0;34m]\u001b[0m \u001b[0;34m=\u001b[0m \u001b[0mgetattr\u001b[0m\u001b[0;34m(\u001b[0m\u001b[0max\u001b[0m\u001b[0;34m,\u001b[0m \u001b[0;34m\"left_ax\"\u001b[0m\u001b[0;34m,\u001b[0m \u001b[0max\u001b[0m\u001b[0;34m)\u001b[0m\u001b[0;34m\u001b[0m\u001b[0;34m\u001b[0m\u001b[0m\n\u001b[1;32m     60\u001b[0m     \u001b[0mplot_obj\u001b[0m \u001b[0;34m=\u001b[0m \u001b[0mPLOT_CLASSES\u001b[0m\u001b[0;34m[\u001b[0m\u001b[0mkind\u001b[0m\u001b[0;34m]\u001b[0m\u001b[0;34m(\u001b[0m\u001b[0mdata\u001b[0m\u001b[0;34m,\u001b[0m \u001b[0;34m**\u001b[0m\u001b[0mkwargs\u001b[0m\u001b[0;34m)\u001b[0m\u001b[0;34m\u001b[0m\u001b[0;34m\u001b[0m\u001b[0m\n\u001b[0;32m---> 61\u001b[0;31m     \u001b[0mplot_obj\u001b[0m\u001b[0;34m.\u001b[0m\u001b[0mgenerate\u001b[0m\u001b[0;34m(\u001b[0m\u001b[0;34m)\u001b[0m\u001b[0;34m\u001b[0m\u001b[0;34m\u001b[0m\u001b[0m\n\u001b[0m\u001b[1;32m     62\u001b[0m     \u001b[0mplot_obj\u001b[0m\u001b[0;34m.\u001b[0m\u001b[0mdraw\u001b[0m\u001b[0;34m(\u001b[0m\u001b[0;34m)\u001b[0m\u001b[0;34m\u001b[0m\u001b[0;34m\u001b[0m\u001b[0m\n\u001b[1;32m     63\u001b[0m     \u001b[0;32mreturn\u001b[0m \u001b[0mplot_obj\u001b[0m\u001b[0;34m.\u001b[0m\u001b[0mresult\u001b[0m\u001b[0;34m\u001b[0m\u001b[0;34m\u001b[0m\u001b[0m\n",
      "\u001b[0;32m~/alice/sw/ubuntu2204_x86-64/Python-modules/1.0-local1/share/python-modules/lib/python/site-packages/pandas/plotting/_matplotlib/core.py\u001b[0m in \u001b[0;36mgenerate\u001b[0;34m(self)\u001b[0m\n\u001b[1;32m    269\u001b[0m         \u001b[0mself\u001b[0m\u001b[0;34m.\u001b[0m\u001b[0m_compute_plot_data\u001b[0m\u001b[0;34m(\u001b[0m\u001b[0;34m)\u001b[0m\u001b[0;34m\u001b[0m\u001b[0;34m\u001b[0m\u001b[0m\n\u001b[1;32m    270\u001b[0m         \u001b[0mself\u001b[0m\u001b[0;34m.\u001b[0m\u001b[0m_setup_subplots\u001b[0m\u001b[0;34m(\u001b[0m\u001b[0;34m)\u001b[0m\u001b[0;34m\u001b[0m\u001b[0;34m\u001b[0m\u001b[0m\n\u001b[0;32m--> 271\u001b[0;31m         \u001b[0mself\u001b[0m\u001b[0;34m.\u001b[0m\u001b[0m_make_plot\u001b[0m\u001b[0;34m(\u001b[0m\u001b[0;34m)\u001b[0m\u001b[0;34m\u001b[0m\u001b[0;34m\u001b[0m\u001b[0m\n\u001b[0m\u001b[1;32m    272\u001b[0m         \u001b[0mself\u001b[0m\u001b[0;34m.\u001b[0m\u001b[0m_add_table\u001b[0m\u001b[0;34m(\u001b[0m\u001b[0;34m)\u001b[0m\u001b[0;34m\u001b[0m\u001b[0;34m\u001b[0m\u001b[0m\n\u001b[1;32m    273\u001b[0m         \u001b[0mself\u001b[0m\u001b[0;34m.\u001b[0m\u001b[0m_make_legend\u001b[0m\u001b[0;34m(\u001b[0m\u001b[0;34m)\u001b[0m\u001b[0;34m\u001b[0m\u001b[0;34m\u001b[0m\u001b[0m\n",
      "\u001b[0;32m~/alice/sw/ubuntu2204_x86-64/Python-modules/1.0-local1/share/python-modules/lib/python/site-packages/pandas/plotting/_matplotlib/hist.py\u001b[0m in \u001b[0;36m_make_plot\u001b[0;34m(self)\u001b[0m\n\u001b[1;32m     81\u001b[0m                 \u001b[0mkwds\u001b[0m\u001b[0;34m[\u001b[0m\u001b[0;34m\"weights\"\u001b[0m\u001b[0;34m]\u001b[0m \u001b[0;34m=\u001b[0m \u001b[0mweights\u001b[0m\u001b[0;34m[\u001b[0m\u001b[0;34m:\u001b[0m\u001b[0;34m,\u001b[0m \u001b[0mi\u001b[0m\u001b[0;34m]\u001b[0m\u001b[0;34m\u001b[0m\u001b[0;34m\u001b[0m\u001b[0m\n\u001b[1;32m     82\u001b[0m \u001b[0;34m\u001b[0m\u001b[0m\n\u001b[0;32m---> 83\u001b[0;31m             \u001b[0martists\u001b[0m \u001b[0;34m=\u001b[0m \u001b[0mself\u001b[0m\u001b[0;34m.\u001b[0m\u001b[0m_plot\u001b[0m\u001b[0;34m(\u001b[0m\u001b[0max\u001b[0m\u001b[0;34m,\u001b[0m \u001b[0my\u001b[0m\u001b[0;34m,\u001b[0m \u001b[0mcolumn_num\u001b[0m\u001b[0;34m=\u001b[0m\u001b[0mi\u001b[0m\u001b[0;34m,\u001b[0m \u001b[0mstacking_id\u001b[0m\u001b[0;34m=\u001b[0m\u001b[0mstacking_id\u001b[0m\u001b[0;34m,\u001b[0m \u001b[0;34m**\u001b[0m\u001b[0mkwds\u001b[0m\u001b[0;34m)\u001b[0m\u001b[0;34m\u001b[0m\u001b[0;34m\u001b[0m\u001b[0m\n\u001b[0m\u001b[1;32m     84\u001b[0m             \u001b[0mself\u001b[0m\u001b[0;34m.\u001b[0m\u001b[0m_add_legend_handle\u001b[0m\u001b[0;34m(\u001b[0m\u001b[0martists\u001b[0m\u001b[0;34m[\u001b[0m\u001b[0;36m0\u001b[0m\u001b[0;34m]\u001b[0m\u001b[0;34m,\u001b[0m \u001b[0mlabel\u001b[0m\u001b[0;34m,\u001b[0m \u001b[0mindex\u001b[0m\u001b[0;34m=\u001b[0m\u001b[0mi\u001b[0m\u001b[0;34m)\u001b[0m\u001b[0;34m\u001b[0m\u001b[0;34m\u001b[0m\u001b[0m\n\u001b[1;32m     85\u001b[0m \u001b[0;34m\u001b[0m\u001b[0m\n",
      "\u001b[0;32m~/alice/sw/ubuntu2204_x86-64/Python-modules/1.0-local1/share/python-modules/lib/python/site-packages/pandas/plotting/_matplotlib/hist.py\u001b[0m in \u001b[0;36m_plot\u001b[0;34m(cls, ax, y, style, bins, bottom, column_num, stacking_id, **kwds)\u001b[0m\n\u001b[1;32m     52\u001b[0m         \u001b[0mbottom\u001b[0m \u001b[0;34m=\u001b[0m \u001b[0mbottom\u001b[0m \u001b[0;34m+\u001b[0m \u001b[0mcls\u001b[0m\u001b[0;34m.\u001b[0m\u001b[0m_get_stacked_values\u001b[0m\u001b[0;34m(\u001b[0m\u001b[0max\u001b[0m\u001b[0;34m,\u001b[0m \u001b[0mstacking_id\u001b[0m\u001b[0;34m,\u001b[0m \u001b[0mbase\u001b[0m\u001b[0;34m,\u001b[0m \u001b[0mkwds\u001b[0m\u001b[0;34m[\u001b[0m\u001b[0;34m\"label\"\u001b[0m\u001b[0;34m]\u001b[0m\u001b[0;34m)\u001b[0m\u001b[0;34m\u001b[0m\u001b[0;34m\u001b[0m\u001b[0m\n\u001b[1;32m     53\u001b[0m         \u001b[0;31m# ignore style\u001b[0m\u001b[0;34m\u001b[0m\u001b[0;34m\u001b[0m\u001b[0m\n\u001b[0;32m---> 54\u001b[0;31m         \u001b[0mn\u001b[0m\u001b[0;34m,\u001b[0m \u001b[0mbins\u001b[0m\u001b[0;34m,\u001b[0m \u001b[0mpatches\u001b[0m \u001b[0;34m=\u001b[0m \u001b[0max\u001b[0m\u001b[0;34m.\u001b[0m\u001b[0mhist\u001b[0m\u001b[0;34m(\u001b[0m\u001b[0my\u001b[0m\u001b[0;34m,\u001b[0m \u001b[0mbins\u001b[0m\u001b[0;34m=\u001b[0m\u001b[0mbins\u001b[0m\u001b[0;34m,\u001b[0m \u001b[0mbottom\u001b[0m\u001b[0;34m=\u001b[0m\u001b[0mbottom\u001b[0m\u001b[0;34m,\u001b[0m \u001b[0;34m**\u001b[0m\u001b[0mkwds\u001b[0m\u001b[0;34m)\u001b[0m\u001b[0;34m\u001b[0m\u001b[0;34m\u001b[0m\u001b[0m\n\u001b[0m\u001b[1;32m     55\u001b[0m         \u001b[0mcls\u001b[0m\u001b[0;34m.\u001b[0m\u001b[0m_update_stacker\u001b[0m\u001b[0;34m(\u001b[0m\u001b[0max\u001b[0m\u001b[0;34m,\u001b[0m \u001b[0mstacking_id\u001b[0m\u001b[0;34m,\u001b[0m \u001b[0mn\u001b[0m\u001b[0;34m)\u001b[0m\u001b[0;34m\u001b[0m\u001b[0;34m\u001b[0m\u001b[0m\n\u001b[1;32m     56\u001b[0m         \u001b[0;32mreturn\u001b[0m \u001b[0mpatches\u001b[0m\u001b[0;34m\u001b[0m\u001b[0;34m\u001b[0m\u001b[0m\n",
      "\u001b[0;32m~/alice/sw/ubuntu2204_x86-64/Python-modules/1.0-local1/share/python-modules/lib/python/site-packages/matplotlib/__init__.py\u001b[0m in \u001b[0;36minner\u001b[0;34m(ax, data, *args, **kwargs)\u001b[0m\n\u001b[1;32m   1421\u001b[0m     \u001b[0;32mdef\u001b[0m \u001b[0minner\u001b[0m\u001b[0;34m(\u001b[0m\u001b[0max\u001b[0m\u001b[0;34m,\u001b[0m \u001b[0;34m*\u001b[0m\u001b[0margs\u001b[0m\u001b[0;34m,\u001b[0m \u001b[0mdata\u001b[0m\u001b[0;34m=\u001b[0m\u001b[0;32mNone\u001b[0m\u001b[0;34m,\u001b[0m \u001b[0;34m**\u001b[0m\u001b[0mkwargs\u001b[0m\u001b[0;34m)\u001b[0m\u001b[0;34m:\u001b[0m\u001b[0;34m\u001b[0m\u001b[0;34m\u001b[0m\u001b[0m\n\u001b[1;32m   1422\u001b[0m         \u001b[0;32mif\u001b[0m \u001b[0mdata\u001b[0m \u001b[0;32mis\u001b[0m \u001b[0;32mNone\u001b[0m\u001b[0;34m:\u001b[0m\u001b[0;34m\u001b[0m\u001b[0;34m\u001b[0m\u001b[0m\n\u001b[0;32m-> 1423\u001b[0;31m             \u001b[0;32mreturn\u001b[0m \u001b[0mfunc\u001b[0m\u001b[0;34m(\u001b[0m\u001b[0max\u001b[0m\u001b[0;34m,\u001b[0m \u001b[0;34m*\u001b[0m\u001b[0mmap\u001b[0m\u001b[0;34m(\u001b[0m\u001b[0msanitize_sequence\u001b[0m\u001b[0;34m,\u001b[0m \u001b[0margs\u001b[0m\u001b[0;34m)\u001b[0m\u001b[0;34m,\u001b[0m \u001b[0;34m**\u001b[0m\u001b[0mkwargs\u001b[0m\u001b[0;34m)\u001b[0m\u001b[0;34m\u001b[0m\u001b[0;34m\u001b[0m\u001b[0m\n\u001b[0m\u001b[1;32m   1424\u001b[0m \u001b[0;34m\u001b[0m\u001b[0m\n\u001b[1;32m   1425\u001b[0m         \u001b[0mbound\u001b[0m \u001b[0;34m=\u001b[0m \u001b[0mnew_sig\u001b[0m\u001b[0;34m.\u001b[0m\u001b[0mbind\u001b[0m\u001b[0;34m(\u001b[0m\u001b[0max\u001b[0m\u001b[0;34m,\u001b[0m \u001b[0;34m*\u001b[0m\u001b[0margs\u001b[0m\u001b[0;34m,\u001b[0m \u001b[0;34m**\u001b[0m\u001b[0mkwargs\u001b[0m\u001b[0;34m)\u001b[0m\u001b[0;34m\u001b[0m\u001b[0;34m\u001b[0m\u001b[0m\n",
      "\u001b[0;32m~/alice/sw/ubuntu2204_x86-64/Python-modules/1.0-local1/share/python-modules/lib/python/site-packages/matplotlib/axes/_axes.py\u001b[0m in \u001b[0;36mhist\u001b[0;34m(self, x, bins, range, density, weights, cumulative, bottom, histtype, align, orientation, rwidth, log, color, label, stacked, **kwargs)\u001b[0m\n\u001b[1;32m   6856\u001b[0m             \u001b[0;32mif\u001b[0m \u001b[0mpatch\u001b[0m\u001b[0;34m:\u001b[0m\u001b[0;34m\u001b[0m\u001b[0;34m\u001b[0m\u001b[0m\n\u001b[1;32m   6857\u001b[0m                 \u001b[0mp\u001b[0m \u001b[0;34m=\u001b[0m \u001b[0mpatch\u001b[0m\u001b[0;34m[\u001b[0m\u001b[0;36m0\u001b[0m\u001b[0;34m]\u001b[0m\u001b[0;34m\u001b[0m\u001b[0;34m\u001b[0m\u001b[0m\n\u001b[0;32m-> 6858\u001b[0;31m                 \u001b[0mp\u001b[0m\u001b[0;34m.\u001b[0m\u001b[0m_internal_update\u001b[0m\u001b[0;34m(\u001b[0m\u001b[0mkwargs\u001b[0m\u001b[0;34m)\u001b[0m\u001b[0;34m\u001b[0m\u001b[0;34m\u001b[0m\u001b[0m\n\u001b[0m\u001b[1;32m   6859\u001b[0m                 \u001b[0;32mif\u001b[0m \u001b[0mlbl\u001b[0m \u001b[0;32mis\u001b[0m \u001b[0;32mnot\u001b[0m \u001b[0;32mNone\u001b[0m\u001b[0;34m:\u001b[0m\u001b[0;34m\u001b[0m\u001b[0;34m\u001b[0m\u001b[0m\n\u001b[1;32m   6860\u001b[0m                     \u001b[0mp\u001b[0m\u001b[0;34m.\u001b[0m\u001b[0mset_label\u001b[0m\u001b[0;34m(\u001b[0m\u001b[0mlbl\u001b[0m\u001b[0;34m)\u001b[0m\u001b[0;34m\u001b[0m\u001b[0;34m\u001b[0m\u001b[0m\n",
      "\u001b[0;32m~/alice/sw/ubuntu2204_x86-64/Python-modules/1.0-local1/share/python-modules/lib/python/site-packages/matplotlib/artist.py\u001b[0m in \u001b[0;36m_internal_update\u001b[0;34m(self, kwargs)\u001b[0m\n\u001b[1;32m   1184\u001b[0m         \u001b[0mThe\u001b[0m \u001b[0mlack\u001b[0m \u001b[0mof\u001b[0m \u001b[0mprenormalization\u001b[0m \u001b[0;32mis\u001b[0m \u001b[0mto\u001b[0m \u001b[0mmaintain\u001b[0m \u001b[0mbackcompatibility\u001b[0m\u001b[0;34m.\u001b[0m\u001b[0;34m\u001b[0m\u001b[0;34m\u001b[0m\u001b[0m\n\u001b[1;32m   1185\u001b[0m         \"\"\"\n\u001b[0;32m-> 1186\u001b[0;31m         return self._update_props(\n\u001b[0m\u001b[1;32m   1187\u001b[0m             \u001b[0mkwargs\u001b[0m\u001b[0;34m,\u001b[0m \u001b[0;34m\"{cls.__name__}.set() got an unexpected keyword argument \"\u001b[0m\u001b[0;34m\u001b[0m\u001b[0;34m\u001b[0m\u001b[0m\n\u001b[1;32m   1188\u001b[0m             \"{prop_name!r}\")\n",
      "\u001b[0;32m~/alice/sw/ubuntu2204_x86-64/Python-modules/1.0-local1/share/python-modules/lib/python/site-packages/matplotlib/artist.py\u001b[0m in \u001b[0;36m_update_props\u001b[0;34m(self, props, errfmt)\u001b[0m\n\u001b[1;32m   1158\u001b[0m                     \u001b[0mfunc\u001b[0m \u001b[0;34m=\u001b[0m \u001b[0mgetattr\u001b[0m\u001b[0;34m(\u001b[0m\u001b[0mself\u001b[0m\u001b[0;34m,\u001b[0m \u001b[0;34mf\"set_{k}\"\u001b[0m\u001b[0;34m,\u001b[0m \u001b[0;32mNone\u001b[0m\u001b[0;34m)\u001b[0m\u001b[0;34m\u001b[0m\u001b[0;34m\u001b[0m\u001b[0m\n\u001b[1;32m   1159\u001b[0m                     \u001b[0;32mif\u001b[0m \u001b[0;32mnot\u001b[0m \u001b[0mcallable\u001b[0m\u001b[0;34m(\u001b[0m\u001b[0mfunc\u001b[0m\u001b[0;34m)\u001b[0m\u001b[0;34m:\u001b[0m\u001b[0;34m\u001b[0m\u001b[0;34m\u001b[0m\u001b[0m\n\u001b[0;32m-> 1160\u001b[0;31m                         raise AttributeError(\n\u001b[0m\u001b[1;32m   1161\u001b[0m                             errfmt.format(cls=type(self), prop_name=k))\n\u001b[1;32m   1162\u001b[0m                     \u001b[0mret\u001b[0m\u001b[0;34m.\u001b[0m\u001b[0mappend\u001b[0m\u001b[0;34m(\u001b[0m\u001b[0mfunc\u001b[0m\u001b[0;34m(\u001b[0m\u001b[0mv\u001b[0m\u001b[0;34m)\u001b[0m\u001b[0;34m)\u001b[0m\u001b[0;34m\u001b[0m\u001b[0;34m\u001b[0m\u001b[0m\n",
      "\u001b[0;31mAttributeError\u001b[0m: Rectangle.set() got an unexpected keyword argument 'column'"
     ]
    },
    {
     "data": {
      "image/png": "[encoded data removed]",
      "text/plain": [
       "<Figure size 720x576 with 1 Axes>"
      ]
     },
     "metadata": {
      "needs_background": "light"
     },
     "output_type": "display_data"
    }
   ],
   "source": [
    "df_events.plot.hist(column=\"nPixels\", by=\"detector\", figsize=(10, 8))"
   ]
  },
  {
   "cell_type": "code",
   "execution_count": 4,
   "id": "5bf22d26",
   "metadata": {},
   "outputs": [
    {
     "data": {
      "text/html": [
       "<div>\n",
       "<style scoped>\n",
       "    .dataframe tbody tr th:only-of-type {\n",
       "        vertical-align: middle;\n",
       "    }\n",
       "\n",
       "    .dataframe tbody tr th {\n",
       "        vertical-align: top;\n",
       "    }\n",
       "\n",
       "    .dataframe thead th {\n",
       "        text-align: right;\n",
       "    }\n",
       "</style>\n",
       "<table border=\"1\" class=\"dataframe\">\n",
       "  <thead>\n",
       "    <tr style=\"text-align: right;\">\n",
       "      <th></th>\n",
       "      <th>eventNr</th>\n",
       "      <th>detector</th>\n",
       "      <th>localX</th>\n",
       "      <th>localY</th>\n",
       "      <th>globalX</th>\n",
       "      <th>globalY</th>\n",
       "      <th>globalZ</th>\n",
       "      <th>charge</th>\n",
       "      <th>split</th>\n",
       "      <th>nPixels</th>\n",
       "      <th>columnWidth</th>\n",
       "      <th>rowWidth</th>\n",
       "      <th>timeStamp</th>\n",
       "    </tr>\n",
       "  </thead>\n",
       "  <tbody>\n",
       "    <tr>\n",
       "      <th>0</th>\n",
       "      <td>0</td>\n",
       "      <td>ALPIDE_0</td>\n",
       "      <td>5.21934</td>\n",
       "      <td>-6.06144</td>\n",
       "      <td>-6.06144</td>\n",
       "      <td>17.69300</td>\n",
       "      <td>29.5471</td>\n",
       "      <td>1</td>\n",
       "      <td>0</td>\n",
       "      <td>1</td>\n",
       "      <td>1</td>\n",
       "      <td>1</td>\n",
       "      <td>6.456710e+14</td>\n",
       "    </tr>\n",
       "    <tr>\n",
       "      <th>1</th>\n",
       "      <td>0</td>\n",
       "      <td>ALPIDE_0</td>\n",
       "      <td>12.09070</td>\n",
       "      <td>-5.52384</td>\n",
       "      <td>-5.52384</td>\n",
       "      <td>24.26610</td>\n",
       "      <td>27.5964</td>\n",
       "      <td>1</td>\n",
       "      <td>0</td>\n",
       "      <td>1</td>\n",
       "      <td>1</td>\n",
       "      <td>1</td>\n",
       "      <td>6.456710e+14</td>\n",
       "    </tr>\n",
       "    <tr>\n",
       "      <th>2</th>\n",
       "      <td>40</td>\n",
       "      <td>ALPIDE_4</td>\n",
       "      <td>8.99130</td>\n",
       "      <td>-5.57760</td>\n",
       "      <td>5.57760</td>\n",
       "      <td>21.35730</td>\n",
       "      <td>-28.6627</td>\n",
       "      <td>1</td>\n",
       "      <td>0</td>\n",
       "      <td>1</td>\n",
       "      <td>1</td>\n",
       "      <td>1</td>\n",
       "      <td>6.467850e+14</td>\n",
       "    </tr>\n",
       "    <tr>\n",
       "      <th>3</th>\n",
       "      <td>48</td>\n",
       "      <td>ALPIDE_1</td>\n",
       "      <td>-8.02053</td>\n",
       "      <td>0.95424</td>\n",
       "      <td>0.95424</td>\n",
       "      <td>-1.62207</td>\n",
       "      <td>22.6722</td>\n",
       "      <td>10</td>\n",
       "      <td>0</td>\n",
       "      <td>10</td>\n",
       "      <td>4</td>\n",
       "      <td>3</td>\n",
       "      <td>6.469990e+14</td>\n",
       "    </tr>\n",
       "    <tr>\n",
       "      <th>4</th>\n",
       "      <td>48</td>\n",
       "      <td>ALPIDE_2</td>\n",
       "      <td>-7.53196</td>\n",
       "      <td>3.01423</td>\n",
       "      <td>3.01423</td>\n",
       "      <td>-7.31407</td>\n",
       "      <td>16.4470</td>\n",
       "      <td>11</td>\n",
       "      <td>0</td>\n",
       "      <td>11</td>\n",
       "      <td>3</td>\n",
       "      <td>4</td>\n",
       "      <td>6.470000e+14</td>\n",
       "    </tr>\n",
       "  </tbody>\n",
       "</table>\n",
       "</div>"
      ],
      "text/plain": [
       "   eventNr  detector    localX   localY  globalX   globalY  globalZ  charge  \\\n",
       "0        0  ALPIDE_0   5.21934 -6.06144 -6.06144  17.69300  29.5471       1   \n",
       "1        0  ALPIDE_0  12.09070 -5.52384 -5.52384  24.26610  27.5964       1   \n",
       "2       40  ALPIDE_4   8.99130 -5.57760  5.57760  21.35730 -28.6627       1   \n",
       "3       48  ALPIDE_1  -8.02053  0.95424  0.95424  -1.62207  22.6722      10   \n",
       "4       48  ALPIDE_2  -7.53196  3.01423  3.01423  -7.31407  16.4470      11   \n",
       "\n",
       "   split  nPixels  columnWidth  rowWidth     timeStamp  \n",
       "0      0        1            1         1  6.456710e+14  \n",
       "1      0        1            1         1  6.456710e+14  \n",
       "2      0        1            1         1  6.467850e+14  \n",
       "3      0       10            4         3  6.469990e+14  \n",
       "4      0       11            3         4  6.470000e+14  "
      ]
     },
     "execution_count": 4,
     "metadata": {},
     "output_type": "execute_result"
    }
   ],
   "source": [
    "df.head()"
   ]
  },
  {
   "cell_type": "code",
   "execution_count": 12,
   "id": "4412a63f",
   "metadata": {},
   "outputs": [],
   "source": [
    "aliasArray = []\n",
    "\n",
    "#axes = [\"ALPIDE_0_X\",\"ALPIDE_0_Y\",\"ALPIDE_1_X\",\"ALPIDE_1_Y\",\"ALPIDE_2_X\",\"ALPIDE_2_Y\",\"ALPIDE_3_X\",\"ALPIDE_3_Y\",\"ALPIDE_4_X\",\"ALPIDE_4_Y\"]\n",
    "#parameterArray = [\n",
    "#    {\"name\": \"first\", \"value\":\"ALPIDE_0_X\", \"options\": axes},\n",
    "#    {\"name\": \"second\", \"value\":\"ALPIDE_0_Y\", \"options\": axes}\n",
    "#]"
   ]
  },
  {
   "cell_type": "code",
   "execution_count": 1,
   "id": "59f95d92",
   "metadata": {},
   "outputs": [],
   "source": [
    "histoArray = [\n",
    "        {\"name\": \"hitmap\", \"variables\": [\"localX\",\"localY\"], \"nbins\":[100,100]},\n",
    "        {\"name\": \"hitmap3D\", \"variables\": [\"globalX\",\"globalY\",\"globalZ\"], \"nbins\":[100,100,100]},\n",
    "        #{\"name\": \"correllation\", \"variables\": [\"first\",\"second\"], \"nbins\":[100,100]},\n",
    "    ]\n",
    "\n",
    "figureArray = [\n",
    "    [[(\"bin_bottom_0\", \"bin_top_0\")], [(\"bin_bottom_1\", \"bin_top_1\")], {\"colorZvar\": \"bin_count\", \"source\":\"hitmap\"}],\n",
    "    [['globalZ'], ['globalX'], {\"color\": \"red\", \"size\": 2, \"colorZvar\": \"localY\", \"varZ\": \"globalY\"}],\n",
    "    [['bin_center_0'], ['bin_center_1'], {\"color\": \"red\", \"size\": 2, \"colorZvar\": \"bin_count\", \"varZ\": \"bin_center_2\", \"source\":\"hitmap3D\"}],\n",
    "    \n",
    "    #[[(\"bin_bottom_0\", \"bin_top_0\")], [(\"bin_bottom_1\", \"bin_top_1\")], {\"colorZvar\": \"bin_count\", \"source\":\"correllation\"}],\n",
    "    {\"size\":2, \"legend_options\": {\"label_text_font_size\": \"13px\"}}\n",
    "]"
   ]
  },
  {
   "cell_type": "code",
   "execution_count": 22,
   "id": "d03a081a",
   "metadata": {},
   "outputs": [],
   "source": [
    "layout = {\n",
    "    \"Clusters\": [[0,1,2]],\n",
    "    #\"Correlations\": [[3]]\n",
    "}\n",
    "\n",
    "widgetParams=[\n",
    "    ['range', ['localX']],\n",
    "    ['range', ['localY']],\n",
    "    ['multiSelect', [\"detector\"]],\n",
    "    ['multiSelect',[\"bitmask\"],{\"name\":\"bitmask\",\"mapping\": {\"ALPIDE_0\": 0x1, \"ALPIDE_1\": 0x2, \"ALPIDE_2\": 0x4, \"ALPIDE_3\": 0x8, \"ALPIDE_4\": 0x10}, \"how\":\"any\", \"title\": \"ALPIDEs in event\"}],\n",
    "    #['select', [\"first\"]],\n",
    "    #['select', [\"second\"]],\n",
    "]\n",
    "widgetLayoutDesc={\n",
    "    \"Selection\": [[0,1,2,3],{'sizing_mode': 'scale_width'}],\n",
    "    #\"Correlation\" : [[4],{'sizing_mode': 'scale_width'}]\n",
    "} "
   ]
  },
  {
   "cell_type": "code",
   "execution_count": 23,
   "id": "18dae0a7",
   "metadata": {},
   "outputs": [
    {
     "name": "stdout",
     "output_type": "stream",
     "text": [
      "31\n",
      "compressCDSPipe\n",
      "Compress 1 localX .* [('relative', 10), ('code', 0), ('zip', 0), ('base64', 0)]\n",
      "Compress factor 4022078 32728427 0.12289249342780818 1 localX\n",
      "Compress 2 localY .* [('relative', 10), ('code', 0), ('zip', 0), ('base64', 0)]\n",
      "Compress factor 4029982 32728427 0.12313399602125699 2 localY\n",
      "Compress 3 globalZ .* [('relative', 10), ('code', 0), ('zip', 0), ('base64', 0)]\n",
      "Compress factor 2831870 32728428 0.08652630673248346 3 globalZ\n",
      "Compress 4 globalX .* [('relative', 10), ('code', 0), ('zip', 0), ('base64', 0)]\n",
      "Compress factor 4038894 32728428 0.12340629375783035 4 globalX\n",
      "Compress 5 globalY .* [('relative', 10), ('code', 0), ('zip', 0), ('base64', 0)]\n",
      "Compress factor 4050422 32728428 0.12375852576848481 5 globalY\n",
      "Compress 6 detector.factor() .* [('relative', 10), ('code', 0), ('zip', 0), ('base64', 0)]\n",
      "Compress factor 349050 5454786 0.06398967805519777 6 detector.factor()\n",
      "Compress 7 bitmask.factor() .* [('relative', 10), ('code', 0), ('zip', 0), ('base64', 0)]\n",
      "Compress factor 214918 5454786 0.039399895797928644 7 bitmask.factor()\n",
      "Compress _all 19537214 174551710 0.11192794387405314 7\n"
     ]
    },
    {
     "data": {
      "text/plain": [
       "<RootInteractive.InteractiveDrawing.bokeh.bokehDrawSA.bokehDrawSA at 0x7fb37d0e9c40>"
      ]
     },
     "execution_count": 23,
     "metadata": {},
     "output_type": "execute_result"
    }
   ],
   "source": [
    "tooltips = []\n",
    "output_file(\"test.html\")\n",
    "arrayCompressionRelative10=[(\".*\",[(\"relative\",10), (\"code\",0), (\"zip\",0), (\"base64\",0)])]\n",
    "arrayCompression=arrayCompressionRelative10\n",
    "bokehDrawSA.fromArray(df, \"split==0\", figureArray, widgetParams, layout=layout, tooltips=tooltips, widgetLayout=widgetLayoutDesc,\n",
    "                      histogramArray=histoArray,aliasArray=aliasArray,parameterArray=parameterArray,arrayCompression=arrayCompression)"
   ]
  },
  {
   "cell_type": "code",
   "execution_count": null,
   "id": "17326a1f",
   "metadata": {},
   "outputs": [],
   "source": []
  },
  {
   "cell_type": "code",
   "execution_count": null,
   "id": "c347b386",
   "metadata": {},
   "outputs": [],
   "source": []
  }
 ],
 "metadata": {
  "kernelspec": {
   "display_name": "Python 3 (ipykernel)",
   "language": "python",
   "name": "python3"
  },
  "language_info": {
   "codemirror_mode": {
    "name": "ipython",
    "version": 3
   },
   "file_extension": ".py",
   "mimetype": "text/x-python",
   "name": "python",
   "nbconvert_exporter": "python",
   "pygments_lexer": "ipython3",
   "version": "3.8.10"
  }
 },
 "nbformat": 4,
 "nbformat_minor": 5
}
